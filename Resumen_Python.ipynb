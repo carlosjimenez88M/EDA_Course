{
 "cells": [
  {
   "cell_type": "markdown",
   "metadata": {},
   "source": [
    "Python es un lenguaje de programación multiparadigma: soporta parcialmente la orientación a objetos, programación imperativa y programación funcional\n",
    "\n",
    "---- EXTENSIONES\n",
    "\n",
    "* Pandas:     es una librería de Python especializada en el manejo y análisis de estructuras de datos\n",
    "\n",
    "* numpy :     es una librería de Python especializada en el cálculo numérico y el análisis de datos, especialmente para un gran volumen de datos.\n",
    "\n",
    "* seaborn:    es una librería de visualización de datos para Python.  Ofrece una interfaz de alto nivel para la creación de atractivas gráficas.\n",
    "\n",
    "* Matplotlib: es una biblioteca para la generación de gráficos a partir de datos contenidos en listas o arrays en lenguaje Python y su extensión matemática NumPy\n",
    "\t\n",
    "* time: proporciona un conjunto de funciones para trabajar con fechas y/o horas"
   ]
  },
  {
   "cell_type": "code",
   "execution_count": 12,
   "metadata": {},
   "outputs": [
    {
     "name": "stdout",
     "output_type": "stream",
     "text": [
      "Imprimir variable:  8\n",
      "2\n"
     ]
    }
   ],
   "source": [
    "# DEFINIR UNA VARIBLE\n",
    "una_variable = 8\n",
    "print('Imprimir variable: ', una_variable)\n",
    "x = 1\n",
    "x += 1              #--> aumenta en 1 la vble\n",
    "print (x)"
   ]
  },
  {
   "cell_type": "code",
   "execution_count": 13,
   "metadata": {},
   "outputs": [
    {
     "data": {
      "text/plain": [
       "'W'"
      ]
     },
     "execution_count": 13,
     "metadata": {},
     "output_type": "execute_result"
    }
   ],
   "source": [
    "#--> SOLICITUD INGRESO DEL VALOR DE UAN VBLE\n",
    "input(\"Valor X : \")  "
   ]
  },
  {
   "cell_type": "code",
   "execution_count": null,
   "metadata": {},
   "outputs": [
    {
     "name": "stdout",
     "output_type": "stream",
     "text": [
      "Hola\n",
      "10 grados 45\n",
      "5, ================================\n",
      "Hola Jose\n"
     ]
    }
   ],
   "source": [
    "# IMPRIMIR EN PANTALLA\n",
    "print (\"Hola\")       #--> para imprimir en pantalla\n",
    "c = 10\n",
    "f = 45\n",
    "print('{} grados {}'.format(c, f)) #--> para imprimir con vbles \n",
    "print(5, end=', ')  #--> imprimir en una sola linea\n",
    "print('='*32)       #--> imprime el caracter = 32 veces\n",
    "\n",
    "mensaje_1 = 'Hola '\n",
    "mensaje_2 = 'Jose'\n",
    "print(mensaje_1 + mensaje_2) #--> impresion concatenada"
   ]
  },
  {
   "cell_type": "code",
   "execution_count": 5,
   "metadata": {},
   "outputs": [
    {
     "name": "stdout",
     "output_type": "stream",
     "text": [
      "La suma: 2\n",
      "La resta: 1\n",
      "La mutiplicación: 64\n",
      "La División: 10.0\n",
      "La Elevada: 27\n",
      "Division redondeada al proximo entero: 7\n"
     ]
    }
   ],
   "source": [
    "## Operaciones matematicas comunes \n",
    "print('La suma: ' + str(1+1))\n",
    "print('La resta: ' + str(2-1))\n",
    "print('La mutiplicación: ' + str(8*8))\n",
    "print('La División: ' + str(100/10))\n",
    "print('La Elevada: ' + str(3**3))\n",
    "print('Division redondeada al proximo entero: ' + str(30//4))"
   ]
  },
  {
   "cell_type": "code",
   "execution_count": 36,
   "metadata": {},
   "outputs": [
    {
     "name": "stdout",
     "output_type": "stream",
     "text": [
      "['Roberto', 'Freile', 'Baldovino']\n",
      "Freile\n"
     ]
    }
   ],
   "source": [
    "## listas\n",
    "lista = []                # --> crear lista vacia\n",
    "lista = list(range(1,10)) #--> se crea una lista con los # del 1 al 10\n",
    "lista.append('jose')           #--> para agregar contenido a la lista\n",
    "nums = [1,2,3,4,5,6,7,8,9,10,11,12,13,14,15,16] #--> llenado de forma manual\n",
    "type(nums) # Muestra el tipo de dato que es\n",
    "indice = [(i, numero) for i, numero in enumerate(nums)] #--> lectura optimizada para leer una lista\n",
    "nombreCompleto = ['jose', 'Roberto', 'Freile', 'Baldovino']\n",
    "una_lista_optima = [nombre for nombre in nombreCompleto if len(nombre) >= 6]\n",
    "print (una_lista_optima)\n",
    "\n",
    "print (una_lista_optima[1]) # Accediendo a elementos de las listas"
   ]
  },
  {
   "cell_type": "code",
   "execution_count": 29,
   "metadata": {},
   "outputs": [
    {
     "name": "stdout",
     "output_type": "stream",
     "text": [
      "13, 12, 11, 10, 9, 8, 7, 6, 5, 4, 3,  \n",
      "1, 2, 3, 4, 5, 6, 7, 8, 9, 10, 11, 12,  \n",
      "5 NO es divisible por 3\n",
      "5, 6, 7, 8, 9, "
     ]
    }
   ],
   "source": [
    "# COMANDOS\n",
    "n = 15\n",
    "for i in range(n-2,2,-1): #--> for que va desde n-2, hasta 2, en mayor a menor\n",
    "    print (i, end = ', ')\n",
    "\n",
    "print (' ')\n",
    "for i in range(1, 13): #--> ciclo for que va desde 1 hasta 13\n",
    "    print (i, end = ', ')\n",
    "\n",
    "print (' ')\n",
    "i = 5    \n",
    "if i % 3 == 0:\t     # --> condicional if\n",
    "   print (str(i) + ' SI es divisible por 3')\n",
    "else :               # --> si no\n",
    "   print (str(i) + ' NO es divisible por 3')\n",
    "\n",
    "if i > 3: \n",
    "   pass              #--> Se uiliza para seguir o saltar una condicón una vez se encuentre\n",
    "\t\t\n",
    "while i < 10:        #--> ciclo while\n",
    "   print (i, end = ', ')\n",
    "   i += 1"
   ]
  },
  {
   "cell_type": "code",
   "execution_count": 31,
   "metadata": {},
   "outputs": [
    {
     "name": "stdout",
     "output_type": "stream",
     "text": [
      "<class 'list'>\n"
     ]
    }
   ],
   "source": [
    "varios_numeros = [1,2,3,4,5,6,6,4,3,2,1]\n",
    "\n",
    "print (type(varios_numeros))"
   ]
  },
  {
   "cell_type": "markdown",
   "metadata": {},
   "source": [
    "--------------------------------------------------------------------- EXTENSIONES UTILIZADAS\n"
   ]
  },
  {
   "cell_type": "code",
   "execution_count": 38,
   "metadata": {},
   "outputs": [],
   "source": [
    "import pandas as pd\n",
    "import numpy as np\n",
    "import matplotlib.pyplot as plot\n",
    "\n",
    "#  para leer datos de un archivo tipo .csv y cargarlo en un data frame\n",
    "pokemon = pd.read_csv('https://gist.githubusercontent.com/armgilles/194bcff35001e7eb53a2a8b441e8b2c6/raw/92200bc0a673d5ce2110aaad4544ed6c4010f687/pokemon.csv')\n",
    "pokemon = pokemon.drop(['#'],axis=1)\n"
   ]
  },
  {
   "cell_type": "code",
   "execution_count": 39,
   "metadata": {},
   "outputs": [
    {
     "data": {
      "text/plain": [
       "<bound method DataFrame.count of                       Name   Type 1  Type 2  Total  HP  Attack  Defense  \\\n",
       "0                Bulbasaur    Grass  Poison    318  45      49       49   \n",
       "1                  Ivysaur    Grass  Poison    405  60      62       63   \n",
       "2                 Venusaur    Grass  Poison    525  80      82       83   \n",
       "3    VenusaurMega Venusaur    Grass  Poison    625  80     100      123   \n",
       "4               Charmander     Fire     NaN    309  39      52       43   \n",
       "..                     ...      ...     ...    ...  ..     ...      ...   \n",
       "795                Diancie     Rock   Fairy    600  50     100      150   \n",
       "796    DiancieMega Diancie     Rock   Fairy    700  50     160      110   \n",
       "797    HoopaHoopa Confined  Psychic   Ghost    600  80     110       60   \n",
       "798     HoopaHoopa Unbound  Psychic    Dark    680  80     160       60   \n",
       "799              Volcanion     Fire   Water    600  80     110      120   \n",
       "\n",
       "     Sp. Atk  Sp. Def  Speed  Generation  Legendary  \n",
       "0         65       65     45           1      False  \n",
       "1         80       80     60           1      False  \n",
       "2        100      100     80           1      False  \n",
       "3        122      120     80           1      False  \n",
       "4         60       50     65           1      False  \n",
       "..       ...      ...    ...         ...        ...  \n",
       "795      100      150     50           6       True  \n",
       "796      160      110    110           6       True  \n",
       "797      150      130     70           6       True  \n",
       "798      170      130     80           6       True  \n",
       "799      130       90     70           6       True  \n",
       "\n",
       "[800 rows x 12 columns]>"
      ]
     },
     "execution_count": 39,
     "metadata": {},
     "output_type": "execute_result"
    }
   ],
   "source": [
    "pokemon.head() #--> muestra los primeros 10 registros\n",
    "pokemon.tail() #--> muestra los ultimos 10 registros\n",
    "pokemon['Total'].mean() #--> promedio\n",
    "pokemon.index           #--> muestra la cantidad de filas y columnas del dataframe [800 rows x 13 columns]>\n",
    "pokemon.count           #--> resume las cantidades segun cada columnas del dataframe."
   ]
  },
  {
   "cell_type": "code",
   "execution_count": 41,
   "metadata": {},
   "outputs": [],
   "source": [
    "# Agrega una nueva columna llamada \"bandera_attack\" segun los criterios (le asigna 1 si ataque es > 60)\n",
    "pokemon[\"bandera_attack\"] = np.where(pokemon.Attack>60,1,0)"
   ]
  },
  {
   "cell_type": "code",
   "execution_count": 45,
   "metadata": {},
   "outputs": [
    {
     "data": {
      "text/html": [
       "<div>\n",
       "<style scoped>\n",
       "    .dataframe tbody tr th:only-of-type {\n",
       "        vertical-align: middle;\n",
       "    }\n",
       "\n",
       "    .dataframe tbody tr th {\n",
       "        vertical-align: top;\n",
       "    }\n",
       "\n",
       "    .dataframe thead th {\n",
       "        text-align: right;\n",
       "    }\n",
       "</style>\n",
       "<table border=\"1\" class=\"dataframe\">\n",
       "  <thead>\n",
       "    <tr style=\"text-align: right;\">\n",
       "      <th></th>\n",
       "      <th>Name</th>\n",
       "      <th>Type 1</th>\n",
       "      <th>Type 2</th>\n",
       "      <th>Total</th>\n",
       "      <th>HP</th>\n",
       "      <th>Attack</th>\n",
       "      <th>Defense</th>\n",
       "      <th>Sp. Atk</th>\n",
       "      <th>Sp. Def</th>\n",
       "      <th>Speed</th>\n",
       "      <th>Generation</th>\n",
       "      <th>Legendary</th>\n",
       "      <th>bandera_attack</th>\n",
       "      <th>ln_def_band</th>\n",
       "    </tr>\n",
       "  </thead>\n",
       "  <tbody>\n",
       "    <tr>\n",
       "      <th>0</th>\n",
       "      <td>Bulbasaur</td>\n",
       "      <td>Grass</td>\n",
       "      <td>Poison</td>\n",
       "      <td>318</td>\n",
       "      <td>45</td>\n",
       "      <td>49</td>\n",
       "      <td>49</td>\n",
       "      <td>65</td>\n",
       "      <td>65</td>\n",
       "      <td>45</td>\n",
       "      <td>1</td>\n",
       "      <td>False</td>\n",
       "      <td>0</td>\n",
       "      <td>0.0</td>\n",
       "    </tr>\n",
       "    <tr>\n",
       "      <th>1</th>\n",
       "      <td>Ivysaur</td>\n",
       "      <td>Grass</td>\n",
       "      <td>Poison</td>\n",
       "      <td>405</td>\n",
       "      <td>60</td>\n",
       "      <td>62</td>\n",
       "      <td>63</td>\n",
       "      <td>80</td>\n",
       "      <td>80</td>\n",
       "      <td>60</td>\n",
       "      <td>1</td>\n",
       "      <td>False</td>\n",
       "      <td>1</td>\n",
       "      <td>0.0</td>\n",
       "    </tr>\n",
       "    <tr>\n",
       "      <th>2</th>\n",
       "      <td>Venusaur</td>\n",
       "      <td>Grass</td>\n",
       "      <td>Poison</td>\n",
       "      <td>525</td>\n",
       "      <td>80</td>\n",
       "      <td>82</td>\n",
       "      <td>83</td>\n",
       "      <td>100</td>\n",
       "      <td>100</td>\n",
       "      <td>80</td>\n",
       "      <td>1</td>\n",
       "      <td>False</td>\n",
       "      <td>1</td>\n",
       "      <td>0.0</td>\n",
       "    </tr>\n",
       "    <tr>\n",
       "      <th>3</th>\n",
       "      <td>VenusaurMega Venusaur</td>\n",
       "      <td>Grass</td>\n",
       "      <td>Poison</td>\n",
       "      <td>625</td>\n",
       "      <td>80</td>\n",
       "      <td>100</td>\n",
       "      <td>123</td>\n",
       "      <td>122</td>\n",
       "      <td>120</td>\n",
       "      <td>80</td>\n",
       "      <td>1</td>\n",
       "      <td>False</td>\n",
       "      <td>1</td>\n",
       "      <td>0.0</td>\n",
       "    </tr>\n",
       "    <tr>\n",
       "      <th>4</th>\n",
       "      <td>Charmander</td>\n",
       "      <td>Fire</td>\n",
       "      <td>NaN</td>\n",
       "      <td>309</td>\n",
       "      <td>39</td>\n",
       "      <td>52</td>\n",
       "      <td>43</td>\n",
       "      <td>60</td>\n",
       "      <td>50</td>\n",
       "      <td>65</td>\n",
       "      <td>1</td>\n",
       "      <td>False</td>\n",
       "      <td>0</td>\n",
       "      <td>0.0</td>\n",
       "    </tr>\n",
       "  </tbody>\n",
       "</table>\n",
       "</div>"
      ],
      "text/plain": [
       "                    Name Type 1  Type 2  Total  HP  Attack  Defense  Sp. Atk  \\\n",
       "0              Bulbasaur  Grass  Poison    318  45      49       49       65   \n",
       "1                Ivysaur  Grass  Poison    405  60      62       63       80   \n",
       "2               Venusaur  Grass  Poison    525  80      82       83      100   \n",
       "3  VenusaurMega Venusaur  Grass  Poison    625  80     100      123      122   \n",
       "4             Charmander   Fire     NaN    309  39      52       43       60   \n",
       "\n",
       "   Sp. Def  Speed  Generation  Legendary  bandera_attack  ln_def_band  \n",
       "0       65     45           1      False               0          0.0  \n",
       "1       80     60           1      False               1          0.0  \n",
       "2      100     80           1      False               1          0.0  \n",
       "3      120     80           1      False               1          0.0  \n",
       "4       50     65           1      False               0          0.0  "
      ]
     },
     "execution_count": 45,
     "metadata": {},
     "output_type": "execute_result"
    }
   ],
   "source": [
    "# crea una nueva columna donde ataque <0 asigna 0 ,en caso contrario \n",
    "# le asigna el logaritmo asociado sgun la generacion\n",
    "pokemon=pokemon.assign(ln_def_band = np.where(pokemon.bandera_attack<=0,0,np.log(pokemon.Generation)) )\n",
    "pokemon.head(5)"
   ]
  },
  {
   "cell_type": "code",
   "execution_count": 58,
   "metadata": {},
   "outputs": [
    {
     "data": {
      "text/plain": [
       "(172, 13)"
      ]
     },
     "execution_count": 58,
     "metadata": {},
     "output_type": "execute_result"
    }
   ],
   "source": [
    "#CRUCE DE TABLAS\n",
    "directors = pd.read_csv('https://raw.githubusercontent.com/rfordatascience/tidytuesday/master/data/2021/2021-11-23/directors.csv')\n",
    "episodes = pd.read_csv('https://raw.githubusercontent.com/rfordatascience/tidytuesday/master/data/2021/2021-11-23/episodes.csv')\n",
    "#inner join\n",
    "union = pd.merge(episodes,directors, left_on='story_number', right_on='story_number')\n",
    "union.head(4)\n",
    "#left join\n",
    "union2 = pd.merge(episodes,directors,how='left',left_on='story_number', right_on='story_number')\n",
    "union2.head(4)\n",
    "union2.columns # muestra las columnas del objeto\n",
    "union2.shape # muestra la cantidad de flias x cantidad de columnas"
   ]
  },
  {
   "cell_type": "code",
   "execution_count": 59,
   "metadata": {},
   "outputs": [
    {
     "data": {
      "text/plain": [
       "Text(0.5, 0, 'Temporada')"
      ]
     },
     "execution_count": 59,
     "metadata": {},
     "output_type": "execute_result"
    },
    {
     "data": {
      "image/png": "[encoded data removed]",
      "text/plain": [
       "<Figure size 432x288 with 1 Axes>"
      ]
     },
     "metadata": {
      "needs_background": "light"
     },
     "output_type": "display_data"
    }
   ],
   "source": [
    "#agrupa segun season_number y luego dibuja la grafica  tipo bar con plot \n",
    "union2.groupby('season_number').size().reset_index(name='Total').plot(kind='bar',y='Total',x='season_number')\n",
    "plot.title('# de episodios por temporada')\n",
    "plot.ylabel('freq')\n",
    "plot.xlabel('Temporada')"
   ]
  },
  {
   "cell_type": "code",
   "execution_count": 61,
   "metadata": {},
   "outputs": [
    {
     "data": {
      "text/plain": [
       "41      Paul Murphy\n",
       "40     Nida Manzoor\n",
       "37    Mark Tonderai\n",
       "Name: director, dtype: object"
      ]
     },
     "execution_count": 61,
     "metadata": {},
     "output_type": "execute_result"
    }
   ],
   "source": [
    "# agrupa a los directores segun el total de forma ascendente\n",
    "director_freq = union2.groupby(['director']).size().reset_index(name='Total').sort_values(by='Total',ascending=True)\n",
    "director_freq[director_freq['Total']>=2]['director'][:3]"
   ]
  },
  {
   "cell_type": "markdown",
   "metadata": {},
   "source": [
    "--------------------------------------------------------------------- LIMPIEZA DE DATOS\n"
   ]
  },
  {
   "cell_type": "code",
   "execution_count": 80,
   "metadata": {},
   "outputs": [
    {
     "data": {
      "text/plain": [
       "Estado civil      \n",
       "4ever alone           2\n",
       "viviendo en pecado    2\n",
       "Casado                1\n",
       "Casado                1\n",
       "Viviendo en pecado    1\n",
       "casado                1\n",
       "dtype: int64"
      ]
     },
     "execution_count": 80,
     "metadata": {},
     "output_type": "execute_result"
    }
   ],
   "source": [
    "# Limpiando texto\n",
    "estado_civil = ['Casado','casado','viviendo en pecado','viviendo en pecado','Viviendo en pecado', 'Casado ','4ever alone','4ever alone']\n",
    "estado_civil = pd.DataFrame(estado_civil,columns=['Estado civil'])\n",
    "estado_civil.value_counts()"
   ]
  },
  {
   "cell_type": "code",
   "execution_count": 87,
   "metadata": {},
   "outputs": [
    {
     "data": {
      "text/plain": [
       "Estado civil      \n",
       "Casado                3\n",
       "Viviendo en pecado    3\n",
       "For ever alone        2\n",
       "dtype: int64"
      ]
     },
     "execution_count": 87,
     "metadata": {},
     "output_type": "execute_result"
    }
   ],
   "source": [
    "## Eliminando espacios en blanco\n",
    "## Recuerde que 'Casado ' tiene un espacio en blanco\n",
    "## Para ello usaremos la función str.strip()\n",
    "estado_civil['Estado civil'].str.strip()\n",
    "estado_civil['Estado civil'] = estado_civil['Estado civil'].str.strip()\n",
    "## Ahora Se va a cambiar la primer letra por mayuscula\n",
    "estado_civil['Estado civil'] = estado_civil['Estado civil'].str.capitalize()\n",
    "## Ahora limpiaremos un poco el dato\n",
    "estado_civil['Estado civil']= estado_civil['Estado civil'].str.replace('4','For ')\n",
    "estado_civil.value_counts()"
   ]
  },
  {
   "cell_type": "code",
   "execution_count": 70,
   "metadata": {},
   "outputs": [
    {
     "data": {
      "text/plain": [
       "<AxesSubplot:xlabel='uk_viewers', ylabel='rating'>"
      ]
     },
     "execution_count": 70,
     "metadata": {},
     "output_type": "execute_result"
    },
    {
     "data": {
      "image/png": "[encoded data removed]",
      "text/plain": [
       "<Figure size 1440x720 with 1 Axes>"
      ]
     },
     "metadata": {
      "needs_background": "light"
     },
     "output_type": "display_data"
    }
   ],
   "source": [
    "# EJEMPLO CON DATOS IMPORTADOS DE UN ARVHIVO CSV PREVIAMENTE\n",
    "import seaborn as sns \n",
    "episodes.columns\n",
    "## Se transforma la variable season_number en category\n",
    "union2['season_number'] = union2['season_number'].astype('category') \n",
    "\n",
    "## La función assert nos dirá si esto quedo totalmente cambiado o no!\n",
    "#    *  Si no sale nada a la hora de ejecutarlo, los cambios fueron eficientes\n",
    "#    * Si sale un error algun cambio no se realizo\n",
    "assert union2['season_number'].dtype == 'category'\n",
    "\n",
    "# Grafica los resultados\n",
    "sns.scatterplot(x='uk_viewers', y='rating', hue='season_number', data=episodes)"
   ]
  },
  {
   "cell_type": "code",
   "execution_count": 78,
   "metadata": {},
   "outputs": [
    {
     "data": {
      "text/html": [
       "<div>\n",
       "<style scoped>\n",
       "    .dataframe tbody tr th:only-of-type {\n",
       "        vertical-align: middle;\n",
       "    }\n",
       "\n",
       "    .dataframe tbody tr th {\n",
       "        vertical-align: top;\n",
       "    }\n",
       "\n",
       "    .dataframe thead th {\n",
       "        text-align: right;\n",
       "    }\n",
       "</style>\n",
       "<table border=\"1\" class=\"dataframe\">\n",
       "  <thead>\n",
       "    <tr style=\"text-align: right;\">\n",
       "      <th></th>\n",
       "      <th>era</th>\n",
       "      <th>season_number</th>\n",
       "      <th>serial_title</th>\n",
       "      <th>story_number</th>\n",
       "      <th>episode_number</th>\n",
       "      <th>episode_title</th>\n",
       "      <th>type</th>\n",
       "      <th>first_aired</th>\n",
       "      <th>production_code</th>\n",
       "      <th>uk_viewers</th>\n",
       "      <th>rating</th>\n",
       "      <th>duration</th>\n",
       "      <th>director</th>\n",
       "    </tr>\n",
       "  </thead>\n",
       "  <tbody>\n",
       "    <tr>\n",
       "      <th>64</th>\n",
       "      <td>revived</td>\n",
       "      <td>5.0</td>\n",
       "      <td>NaN</td>\n",
       "      <td>206b</td>\n",
       "      <td>5.0</td>\n",
       "      <td>Flesh and Stone</td>\n",
       "      <td>episode</td>\n",
       "      <td>2010-05-01</td>\n",
       "      <td>1.5</td>\n",
       "      <td>8.50</td>\n",
       "      <td>86.0</td>\n",
       "      <td>45.0</td>\n",
       "      <td>Adam Smith</td>\n",
       "    </tr>\n",
       "    <tr>\n",
       "      <th>63</th>\n",
       "      <td>revived</td>\n",
       "      <td>5.0</td>\n",
       "      <td>NaN</td>\n",
       "      <td>206a</td>\n",
       "      <td>4.0</td>\n",
       "      <td>The Time of Angels</td>\n",
       "      <td>episode</td>\n",
       "      <td>2010-04-24</td>\n",
       "      <td>1.4</td>\n",
       "      <td>8.59</td>\n",
       "      <td>87.0</td>\n",
       "      <td>45.0</td>\n",
       "      <td>Adam Smith</td>\n",
       "    </tr>\n",
       "    <tr>\n",
       "      <th>60</th>\n",
       "      <td>revived</td>\n",
       "      <td>5.0</td>\n",
       "      <td>NaN</td>\n",
       "      <td>203</td>\n",
       "      <td>1.0</td>\n",
       "      <td>The Eleventh Hour</td>\n",
       "      <td>episode</td>\n",
       "      <td>2010-04-03</td>\n",
       "      <td>1.1</td>\n",
       "      <td>10.09</td>\n",
       "      <td>86.0</td>\n",
       "      <td>65.0</td>\n",
       "      <td>Adam Smith</td>\n",
       "    </tr>\n",
       "    <tr>\n",
       "      <th>47</th>\n",
       "      <td>revived</td>\n",
       "      <td>4.0</td>\n",
       "      <td>NaN</td>\n",
       "      <td>193</td>\n",
       "      <td>6.0</td>\n",
       "      <td>The Doctor's Daughter</td>\n",
       "      <td>episode</td>\n",
       "      <td>2008-05-10</td>\n",
       "      <td>4.6</td>\n",
       "      <td>7.33</td>\n",
       "      <td>88.0</td>\n",
       "      <td>45.0</td>\n",
       "      <td>Alice Troughton</td>\n",
       "    </tr>\n",
       "    <tr>\n",
       "      <th>51</th>\n",
       "      <td>revived</td>\n",
       "      <td>4.0</td>\n",
       "      <td>NaN</td>\n",
       "      <td>196</td>\n",
       "      <td>10.0</td>\n",
       "      <td>Midnight</td>\n",
       "      <td>episode</td>\n",
       "      <td>2008-06-14</td>\n",
       "      <td>4.8</td>\n",
       "      <td>8.05</td>\n",
       "      <td>86.0</td>\n",
       "      <td>45.0</td>\n",
       "      <td>Alice Troughton</td>\n",
       "    </tr>\n",
       "    <tr>\n",
       "      <th>...</th>\n",
       "      <td>...</td>\n",
       "      <td>...</td>\n",
       "      <td>...</td>\n",
       "      <td>...</td>\n",
       "      <td>...</td>\n",
       "      <td>...</td>\n",
       "      <td>...</td>\n",
       "      <td>...</td>\n",
       "      <td>...</td>\n",
       "      <td>...</td>\n",
       "      <td>...</td>\n",
       "      <td>...</td>\n",
       "      <td>...</td>\n",
       "    </tr>\n",
       "    <tr>\n",
       "      <th>74</th>\n",
       "      <td>revived</td>\n",
       "      <td>6.0</td>\n",
       "      <td>NaN</td>\n",
       "      <td>214a</td>\n",
       "      <td>1.0</td>\n",
       "      <td>The Impossible Astronaut</td>\n",
       "      <td>episode</td>\n",
       "      <td>2011-04-23</td>\n",
       "      <td>2.1</td>\n",
       "      <td>8.86</td>\n",
       "      <td>88.0</td>\n",
       "      <td>45.0</td>\n",
       "      <td>Toby Haynes</td>\n",
       "    </tr>\n",
       "    <tr>\n",
       "      <th>75</th>\n",
       "      <td>revived</td>\n",
       "      <td>6.0</td>\n",
       "      <td>NaN</td>\n",
       "      <td>214b</td>\n",
       "      <td>2.0</td>\n",
       "      <td>Day of the Moon</td>\n",
       "      <td>episode</td>\n",
       "      <td>2011-04-30</td>\n",
       "      <td>2.2</td>\n",
       "      <td>7.30</td>\n",
       "      <td>87.0</td>\n",
       "      <td>45.0</td>\n",
       "      <td>Toby Haynes</td>\n",
       "    </tr>\n",
       "    <tr>\n",
       "      <th>154</th>\n",
       "      <td>revived</td>\n",
       "      <td>11.0</td>\n",
       "      <td>NaN</td>\n",
       "      <td>287</td>\n",
       "      <td>NaN</td>\n",
       "      <td>Resolution</td>\n",
       "      <td>special</td>\n",
       "      <td>2019-01-01</td>\n",
       "      <td>NaN</td>\n",
       "      <td>7.13</td>\n",
       "      <td>80.0</td>\n",
       "      <td>60.0</td>\n",
       "      <td>Wayne Yip</td>\n",
       "    </tr>\n",
       "    <tr>\n",
       "      <th>139</th>\n",
       "      <td>revived</td>\n",
       "      <td>10.0</td>\n",
       "      <td>NaN</td>\n",
       "      <td>273</td>\n",
       "      <td>9.0</td>\n",
       "      <td>Empress of Mars</td>\n",
       "      <td>episode</td>\n",
       "      <td>2017-06-10</td>\n",
       "      <td>NaN</td>\n",
       "      <td>5.02</td>\n",
       "      <td>83.0</td>\n",
       "      <td>44.0</td>\n",
       "      <td>Wayne Yip</td>\n",
       "    </tr>\n",
       "    <tr>\n",
       "      <th>138</th>\n",
       "      <td>revived</td>\n",
       "      <td>10.0</td>\n",
       "      <td>NaN</td>\n",
       "      <td>272</td>\n",
       "      <td>8.0</td>\n",
       "      <td>The Lie of the Land</td>\n",
       "      <td>episode</td>\n",
       "      <td>2017-06-03</td>\n",
       "      <td>NaN</td>\n",
       "      <td>4.82</td>\n",
       "      <td>82.0</td>\n",
       "      <td>45.0</td>\n",
       "      <td>Wayne Yip</td>\n",
       "    </tr>\n",
       "  </tbody>\n",
       "</table>\n",
       "<p>162 rows × 13 columns</p>\n",
       "</div>"
      ],
      "text/plain": [
       "         era season_number serial_title story_number  episode_number  \\\n",
       "64   revived           5.0          NaN         206b             5.0   \n",
       "63   revived           5.0          NaN         206a             4.0   \n",
       "60   revived           5.0          NaN          203             1.0   \n",
       "47   revived           4.0          NaN          193             6.0   \n",
       "51   revived           4.0          NaN          196            10.0   \n",
       "..       ...           ...          ...          ...             ...   \n",
       "74   revived           6.0          NaN         214a             1.0   \n",
       "75   revived           6.0          NaN         214b             2.0   \n",
       "154  revived          11.0          NaN          287             NaN   \n",
       "139  revived          10.0          NaN          273             9.0   \n",
       "138  revived          10.0          NaN          272             8.0   \n",
       "\n",
       "                episode_title     type first_aired production_code  \\\n",
       "64            Flesh and Stone  episode  2010-05-01             1.5   \n",
       "63         The Time of Angels  episode  2010-04-24             1.4   \n",
       "60          The Eleventh Hour  episode  2010-04-03             1.1   \n",
       "47      The Doctor's Daughter  episode  2008-05-10             4.6   \n",
       "51                   Midnight  episode  2008-06-14             4.8   \n",
       "..                        ...      ...         ...             ...   \n",
       "74   The Impossible Astronaut  episode  2011-04-23             2.1   \n",
       "75            Day of the Moon  episode  2011-04-30             2.2   \n",
       "154                Resolution  special  2019-01-01             NaN   \n",
       "139           Empress of Mars  episode  2017-06-10             NaN   \n",
       "138       The Lie of the Land  episode  2017-06-03             NaN   \n",
       "\n",
       "     uk_viewers  rating  duration         director  \n",
       "64         8.50    86.0      45.0       Adam Smith  \n",
       "63         8.59    87.0      45.0       Adam Smith  \n",
       "60        10.09    86.0      65.0       Adam Smith  \n",
       "47         7.33    88.0      45.0  Alice Troughton  \n",
       "51         8.05    86.0      45.0  Alice Troughton  \n",
       "..          ...     ...       ...              ...  \n",
       "74         8.86    88.0      45.0      Toby Haynes  \n",
       "75         7.30    87.0      45.0      Toby Haynes  \n",
       "154        7.13    80.0      60.0        Wayne Yip  \n",
       "139        5.02    83.0      44.0        Wayne Yip  \n",
       "138        4.82    82.0      45.0        Wayne Yip  \n",
       "\n",
       "[162 rows x 13 columns]"
      ]
     },
     "execution_count": 78,
     "metadata": {},
     "output_type": "execute_result"
    }
   ],
   "source": [
    "# Trabajando con datos duplicados\n",
    "union2.duplicated()\n",
    "union2[union2.duplicated()]\n",
    "## Validando por columnas especificas\n",
    "# con .duplicated() hay una función keep con la cual puede eliminar o conservar los datos\n",
    "#   * first: Deja las primeras apariciones\n",
    "#   * last: Dejar las últimas apariciones\n",
    "#   * False: Elimine todos los datos\n",
    "\n",
    "duplicates = union2.duplicated(subset='director', keep=False)\n",
    "union2[duplicates].sort_values(by='director')"
   ]
  },
  {
   "cell_type": "markdown",
   "metadata": {},
   "source": [
    "--------------------------------------------------------------------- EXPRESIONES REGULARES"
   ]
  },
  {
   "cell_type": "code",
   "execution_count": 98,
   "metadata": {},
   "outputs": [
    {
     "name": "stdout",
     "output_type": "stream",
     "text": [
      "['autosuperación', 'autosuperación']\n",
      "[' de moral por veracidad', ' del moralista en su antítesis']\n"
     ]
    }
   ],
   "source": [
    "import re \n",
    "txt = \"La autosuperación de moral por veracidad, porsilas la autosuperación del moralista en su antítesis, es lo que significa en mi boca el nombre Zaratustra.\"\n",
    "x = re.findall(\"autosuperación\", txt)\n",
    "print(x)\n",
    "re.search(r'.autosuperación(.*?),', txt).group(0)\n",
    "mo = re.findall(\"autosuperación(.*?),\", txt)\n",
    "print(mo)"
   ]
  },
  {
   "cell_type": "code",
   "execution_count": 101,
   "metadata": {},
   "outputs": [
    {
     "data": {
      "text/plain": [
       "2"
      ]
     },
     "execution_count": 101,
     "metadata": {},
     "output_type": "execute_result"
    }
   ],
   "source": [
    "txt.find(\"por\") # muestra la posicion donde encontró la palabra\n",
    "re.findall(\"por\", txt) # lista las palabras encontradas\n",
    "txt.count('por') ## Contando palabras"
   ]
  },
  {
   "cell_type": "code",
   "execution_count": 102,
   "metadata": {},
   "outputs": [
    {
     "name": "stdout",
     "output_type": "stream",
     "text": [
      "nomb\n"
     ]
    },
    {
     "data": {
      "text/plain": [
       "['Un', 'nombre cualquiera']"
      ]
     },
     "execution_count": 102,
     "metadata": {},
     "output_type": "execute_result"
    }
   ],
   "source": [
    "input_1 = 'Un nombre cualquiera'\n",
    "len(input_1)\n",
    "## Extrayendo  un número definido de elementos\n",
    "print(input_1[3:7])\n",
    "## Partiendo el texto\n",
    "input_1.split(sep=\" \")\n",
    "## Partiendo el texto\n",
    "input_1.split(sep=\" \", maxsplit=1)"
   ]
  },
  {
   "cell_type": "markdown",
   "metadata": {},
   "source": [
    "--------------------------------------------------------------------- ESTADISTICA BASICA"
   ]
  },
  {
   "cell_type": "code",
   "execution_count": 123,
   "metadata": {},
   "outputs": [
    {
     "name": "stdout",
     "output_type": "stream",
     "text": [
      "5.0476190476190474\n",
      "5.0476190476190474\n",
      "5.0\n",
      "6.521541950113379\n",
      "2.5537309862460806\n"
     ]
    },
    {
     "data": {
      "text/plain": [
       "9.234517604065275"
      ]
     },
     "execution_count": 123,
     "metadata": {},
     "output_type": "execute_result"
    }
   ],
   "source": [
    "import numpy as np\n",
    "# Conjunto de datos es una colección de datos\n",
    "results = [1, 2, 3,4,5,7,8,9,7,6,5,4,3,3, 2,8,7,6,5, 10, 1]\n",
    "\n",
    "# PROMEDIO:  es el resultado de sumar un grupo de número y dividirlo entre el número de sumandos.\n",
    "print(np.mean(results))\n",
    "\n",
    "# MEDIA - media aritmética: suma todos los valores y divide el resultado por el número de valores de la distribución\n",
    "print(np.mean(results))\n",
    "\n",
    "# MEDIANA - es la valor medio de un conjunto de datos ordenados. podemos definir la mediana como el valor \n",
    "# que separa una secuencia en dos partes: la mitad inferior y la mitad superior.\n",
    "print(np.median(results))\n",
    "\n",
    "# VARIANZA: La varianza es una medida de dispersión que representa la variabilidad de una serie\n",
    "# de datos respecto a su media.\n",
    "print(np.var(results))\n",
    "\n",
    "# DESVIACION ESTANDAR: es la medida de dispersión más común, que indica qué tan dispersos están los datos con \n",
    "# respecto a la media\n",
    "print(np.std(results))\n",
    "\n",
    "# COHEFICIENTE DE VARIACION:  es una forma de medir qué tan dispersos están los valores en un conjunto de datos \n",
    "# en relación con la media.\n",
    "# permite comparar las dispersiones de dos distribuciones distintas, siempre que sus medias sean positivas.\n",
    "# se utiliza cuando se desea hacer referencia a la relación entre el tamaño de la media y la variabilidad de la variable.\n",
    "data = [88, 85, 82, 97, 67, 77, 74, 86, 81, 95, 77, 88, 85, 76, 81, 82]\n",
    "\n",
    "#define la función para calcular cv \n",
    "cv = lambda x: np. std (x, ddof = 1 ) / np. mean (x) * 100 \n",
    " \n",
    "#calcular CV\n",
    "cv (data)\n",
    "\n",
    "# PROMEDIO RECORTADO\n",
    "# PERCENTIL\n",
    "# FUNDAMENTALES\n"
   ]
  },
  {
   "cell_type": "code",
   "execution_count": 118,
   "metadata": {},
   "outputs": [
    {
     "name": "stdout",
     "output_type": "stream",
     "text": [
      "10\n",
      "nike\n",
      "[10]\n",
      "['nike', 'adidas', 'jordan']\n"
     ]
    }
   ],
   "source": [
    "# La moda es el valor más frecuente en el conjunto de datos. la funcion modo devuelve el primer modo que encuentra, \n",
    "# multi modal, son los valores más frecuente en el conjunto de datos. multimodo devuelve una lista con los valores \n",
    "# más frecuentes del conjunto de datos.\n",
    "from statistics import mode, multimode\n",
    "\n",
    "points_per_game = [3, 15, 23, 42, 30, 10, 10, 12]\n",
    "sponsorship = ['nike', 'adidas', 'nike', 'jordan', 'jordan', 'rebook', 'under-armour', 'adidas']\n",
    "print(mode(points_per_game))\n",
    "print(mode(sponsorship))\n",
    "print(multimode(points_per_game))\n",
    "print(multimode(sponsorship))"
   ]
  },
  {
   "cell_type": "code",
   "execution_count": 135,
   "metadata": {},
   "outputs": [
    {
     "data": {
      "text/plain": [
       "99"
      ]
     },
     "execution_count": 135,
     "metadata": {},
     "output_type": "execute_result"
    }
   ],
   "source": [
    "#Medidas de posición: cuartiles y percentiles\n",
    "# El concepto es igual al de mediana, salvo que aquí la división ya no es en el 50%. \n",
    "# podemos ordenar los datos de menor a mayor y dividirlos en cuatro partes con la misma cantidad de datos. \n",
    "# Los cortes de estas divisiones son lo que llamamos cuartiles.\n",
    "# El 25% de las observaciones es menor que el primer cuartil. \n",
    "# Los cuartiles abarcan el 25%, 50% y 75% de las observaciones. \n",
    "# Los percentiles son una generalización con cualquier porcentaje.\n",
    "\n",
    "# Ejemplo: ¿Cuál es la nota que tiene como mínimo el 10% más nota de la clase?\n",
    "# Este enunciado nos pide calcular el percentil 90.\n",
    "\n",
    "import pandas as pd\n",
    "import numpy as np\n",
    "\n",
    "data = {\"n\": np.random.randint(1,100, 100)}\n",
    "df = pd.DataFrame(data)\n",
    "df.n.max()"
   ]
  },
  {
   "cell_type": "code",
   "execution_count": 139,
   "metadata": {},
   "outputs": [
    {
     "name": "stdout",
     "output_type": "stream",
     "text": [
      "0.25    26.0\n",
      "0.50    42.5\n",
      "0.75    73.5\n",
      "Name: n, dtype: float64\n",
      "    n  Q1  Q2  Q3  Q4\n",
      "0  29   0   1   0   0\n",
      "1  65   0   0   1   0\n",
      "2  17   1   0   0   0\n",
      "3  40   0   1   0   0\n",
      "4  36   0   1   0   0\n",
      "1.0\n"
     ]
    }
   ],
   "source": [
    "print(df.n.quantile([.25, .50, .75]))\n",
    "qs = df.n.quantile([.25, .50, .75]).values\n",
    "df[\"Q1\"] = (df.n <=qs[0])+0\n",
    "df[\"Q2\"] = ((df.n <=qs[1]) & (df.n >qs[0])) +0\n",
    "df[\"Q3\"] = ((df.n <=qs[2]) & (df.n >qs[1])) +0\n",
    "df[\"Q4\"] = (df.n >qs[2]) +0\n",
    "print(df.head())\n",
    "# PERCENTIL\n",
    "perc75np = np.percentile(df, 75)\n",
    "print (perc75np)"
   ]
  },
  {
   "cell_type": "code",
   "execution_count": 8,
   "metadata": {},
   "outputs": [],
   "source": [
    "# buscar presentacion\n",
    "# https://github.com/carlosjimenez88M/EDA_Course/blob/master/presentaciones/Example_pandas.ipynb\n",
    "# hacer tarea\n",
    "# ---------------------------- buscar conceptos y ejemplos\n",
    "# desviacion estandar\n",
    "# promedio\n",
    "# coheficiente de variacion\n",
    "# mediana\n",
    "# promedio recortado\n",
    "# percentil\n",
    "# fundamentales\n",
    "# porque el promedio es la peor medicion\n",
    "\n",
    "\n",
    "\n"
   ]
  }
 ],
 "metadata": {
  "interpreter": {
   "hash": "da65ed090eb2976cf88c79e74be6b5b2b10d374740b6feb7e8ace11928b88969"
  },
  "kernelspec": {
   "display_name": "Python 3.9.7 64-bit ('base': conda)",
   "language": "python",
   "name": "python3"
  },
  "language_info": {
   "codemirror_mode": {
    "name": "ipython",
    "version": 3
   },
   "file_extension": ".py",
   "mimetype": "text/x-python",
   "name": "python",
   "nbconvert_exporter": "python",
   "pygments_lexer": "ipython3",
   "version": "3.9.7"
  },
  "orig_nbformat": 4
 },
 "nbformat": 4,
 "nbformat_minor": 2
}

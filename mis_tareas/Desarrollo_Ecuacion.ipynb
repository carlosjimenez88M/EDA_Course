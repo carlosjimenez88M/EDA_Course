{
 "cells": [
  {
   "cell_type": "code",
   "execution_count": null,
   "metadata": {},
   "outputs": [],
   "source": [
    "$$\n",
    "\n",
    "    5(-3x-2)-(-x-3)=-4(4x+5)+13\n",
    "\n",
    "$$\n",
    "\n",
    "\n",
    "$$\n",
    "    (-15x-10)-(-x-3)=(-16x-20)+13\n",
    "$$ \n",
    "\n",
    "$$\n",
    "  -15x+x-10+3=-16x-20+13\n",
    "$$\n",
    "\n",
    "$$\n",
    "    -14x+7=16x-7\n",
    "$$\n",
    "\n",
    "$$\n",
    "    -14X+16X=-7+7\n",
    "$$\n",
    "\n",
    "$$\n",
    "    2X=0\n",
    "$$\n",
    "\n",
    "$$\n",
    "    X=0    \n",
    "$$"
   ]
  }
 ],
 "metadata": {
  "interpreter": {
   "hash": "d5aebddd1559b0be0739bc8c4fd467746963dd9ea36c2fb6c6a219a1584baf31"
  },
  "kernelspec": {
   "display_name": "Python 3.8.8 64-bit ('base': conda)",
   "language": "python",
   "name": "python3"
  },
  "language_info": {
   "name": "python",
   "version": "3.8.8"
  },
  "orig_nbformat": 4
 },
 "nbformat": 4,
 "nbformat_minor": 2
}

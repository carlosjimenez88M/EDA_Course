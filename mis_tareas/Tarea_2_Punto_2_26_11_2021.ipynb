{
 "cells": [
  {
   "cell_type": "code",
   "execution_count": null,
   "metadata": {},
   "outputs": [],
   "source": []
  },
  {
   "cell_type": "markdown",
   "metadata": {},
   "source": [
    "$\n",
    "Tarea 2\n",
    "$\n",
    "\n",
    "$\n",
    "Punto 2\n",
    "$\n"
   ]
  },
  {
   "cell_type": "code",
   "execution_count": 6,
   "metadata": {},
   "outputs": [
    {
     "name": "stdout",
     "output_type": "stream",
     "text": [
      "0 no es divisible por 5\n",
      "5 no es divisible por 4\n",
      "10 es el resultado de la siguiente operación = 2 * 5\n",
      "15 es el resultado de la siguiente operación = 3 * 5\n",
      "20 es el resultado de la siguiente operación = 2 * 10\n",
      "25 es el resultado de la siguiente operación = 5 * 5\n",
      "30 es el resultado de la siguiente operación = 2 * 15\n",
      "35 es el resultado de la siguiente operación = 5 * 7\n",
      "40 es el resultado de la siguiente operación = 2 * 20\n",
      "45 es el resultado de la siguiente operación = 3 * 15\n",
      "50 es el resultado de la siguiente operación = 2 * 25\n",
      "55 es el resultado de la siguiente operación = 5 * 11\n",
      "60 es el resultado de la siguiente operación = 2 * 30\n",
      "65 es el resultado de la siguiente operación = 5 * 13\n",
      "70 es el resultado de la siguiente operación = 2 * 35\n",
      "75 es el resultado de la siguiente operación = 3 * 25\n",
      "80 es el resultado de la siguiente operación = 2 * 40\n",
      "85 es el resultado de la siguiente operación = 5 * 17\n",
      "90 es el resultado de la siguiente operación = 2 * 45\n",
      "95 es el resultado de la siguiente operación = 5 * 19\n"
     ]
    }
   ],
   "source": [
    "#Complete la siguiente función\n",
    "\n",
    "for n in range(0, 100,5):\n",
    "    for x in range(2, n):\n",
    "         if n % x == 0:\n",
    "             print(n, 'es el resultado de la siguiente operación =', x, '*', n//x)\n",
    "             break\n",
    "    else:\n",
    "        \n",
    "         print(n, 'no es divisible por', x)"
   ]
  }
 ],
 "metadata": {
  "interpreter": {
   "hash": "3deacdf3704d783b64d002f5dc902b9292bcd4657f18fdc996abfb4f7bea3572"
  },
  "kernelspec": {
   "display_name": "Python 3.9.7 64-bit (conda)",
   "language": "python",
   "name": "python3"
  },
  "language_info": {
   "codemirror_mode": {
    "name": "ipython",
    "version": 3
   },
   "file_extension": ".py",
   "mimetype": "text/x-python",
   "name": "python",
   "nbconvert_exporter": "python",
   "pygments_lexer": "ipython3",
   "version": "3.9.7"
  },
  "orig_nbformat": 4
 },
 "nbformat": 4,
 "nbformat_minor": 2
}

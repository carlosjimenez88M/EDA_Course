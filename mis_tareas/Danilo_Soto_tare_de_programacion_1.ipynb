{
 "cells": [
  {
   "cell_type": "code",
   "execution_count": 18,
   "metadata": {},
   "outputs": [],
   "source": [
    "import numpy as np"
   ]
  },
  {
   "cell_type": "code",
   "execution_count": 39,
   "metadata": {},
   "outputs": [
    {
     "name": "stdout",
     "output_type": "stream",
     "text": [
      "Sigue intentandolo\n"
     ]
    }
   ],
   "source": [
    "X = float (input(\"ingrese el posible valor de x= \"))\n",
    "\n",
    "a = (5*((-3*X)-2))-(-X-3)\n",
    "b = -4*((4*X)+5)+13\n",
    "\n",
    "if a == b : print (\"has encontrado el valor de X\")\n",
    "else : print (\"Sigue intentandolo\")\n",
    "\n",
    "\n",
    "\n"
   ]
  }
 ],
 "metadata": {
  "interpreter": {
   "hash": "971660b783d99d941ab2dc7f738bdc08be4c84f974788fd2a47065742b0c4702"
  },
  "kernelspec": {
   "display_name": "Python 3.8.8 64-bit ('base': conda)",
   "language": "python",
   "name": "python3"
  },
  "language_info": {
   "codemirror_mode": {
    "name": "ipython",
    "version": 3
   },
   "file_extension": ".py",
   "mimetype": "text/x-python",
   "name": "python",
   "nbconvert_exporter": "python",
   "pygments_lexer": "ipython3",
   "version": "3.10.0"
  },
  "orig_nbformat": 4
 },
 "nbformat": 4,
 "nbformat_minor": 2
}

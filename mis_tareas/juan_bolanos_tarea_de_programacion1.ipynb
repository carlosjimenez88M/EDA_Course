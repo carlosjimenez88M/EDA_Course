{
 "cells": [
  {
   "cell_type": "code",
   "execution_count": 3,
   "metadata": {},
   "outputs": [
    {
     "name": "stdout",
     "output_type": "stream",
     "text": [
      "Evaluando cuando x es -10\n",
      "Evaluando cuando x es -9\n",
      "Evaluando cuando x es -8\n",
      "Evaluando cuando x es -7\n",
      "Evaluando cuando x es -6\n",
      "Evaluando cuando x es -5\n",
      "Evaluando cuando x es -4\n",
      "Evaluando cuando x es -3\n",
      "Evaluando cuando x es -2\n",
      "Evaluando cuando x es -1\n",
      "Evaluando cuando x es 0\n",
      "**** El valor de x es:0****\n",
      "Evaluando cuando x es 1\n",
      "Evaluando cuando x es 2\n",
      "Evaluando cuando x es 3\n",
      "Evaluando cuando x es 4\n",
      "Evaluando cuando x es 5\n",
      "Evaluando cuando x es 6\n",
      "Evaluando cuando x es 7\n",
      "Evaluando cuando x es 8\n",
      "Evaluando cuando x es 9\n"
     ]
    },
    {
     "data": {
      "image/png": "[encoded data removed]",
      "text/plain": [
       "<Figure size 432x288 with 1 Axes>"
      ]
     },
     "metadata": {
      "needs_background": "light"
     },
     "output_type": "display_data"
    }
   ],
   "source": [
    "import numpy as np\n",
    "import matplotlib.pyplot as plt\n",
    "\n",
    "# Buscando el x:\n",
    "for x in range(-10, 10):\n",
    "    print(\"Evaluando cuando x es \" + str(x))\n",
    "    a = (5 * ((-3 * x) - 2))-(-x - 3)\n",
    "    b = -4 * ((4 * x) + 5 ) + 13\n",
    "\n",
    "    if a == b: \n",
    "        print (\"**** El valor de x es:\" + str(x) + \"****\")\n",
    "\n",
    "# Vista gráfica para identificar el x:\n",
    "x = np.linspace(-10, 10)\n",
    "plt.plot(\n",
    "    x, (5 * ((-3 * x) - 2))-(-x - 3), \n",
    "    x, -4 * ((4 * x) + 5 ) + 13\n",
    ")\n",
    "plt.show()"
   ]
  }
 ],
 "metadata": {
  "interpreter": {
   "hash": "31f2aee4e71d21fbe5cf8b01ff0e069b9275f58929596ceb00d14d90e3e16cd6"
  },
  "kernelspec": {
   "display_name": "Python 3.8.2 64-bit",
   "language": "python",
   "name": "python3"
  },
  "language_info": {
   "codemirror_mode": {
    "name": "ipython",
    "version": 3
   },
   "file_extension": ".py",
   "mimetype": "text/x-python",
   "name": "python",
   "nbconvert_exporter": "python",
   "pygments_lexer": "ipython3",
   "version": "3.8.2"
  },
  "orig_nbformat": 4
 },
 "nbformat": 4,
 "nbformat_minor": 2
}

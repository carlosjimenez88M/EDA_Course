{
 "cells": [
  {
   "cell_type": "code",
   "execution_count": null,
   "metadata": {},
   "outputs": [],
   "source": [
    "import numpy as np\n",
    "import matplotlib.pyplot as plt\n",
    "\n",
    "# Buscando el x:\n",
    "for x in range(-10, 10):\n",
    "    print(\"Evaluando cuando x es \" + str(x))\n",
    "    a = (5 * ((-3 * x) - 2))-(-x - 3)\n",
    "    b = -4 * ((4 * x) + 5 ) + 13\n",
    "\n",
    "    if a == b: \n",
    "        print (\"**** El valor de x es:\" + str(x) + \"****\")\n",
    "\n",
    "# Vista gráfica para identificar el x:\n",
    "x = np.linspace(0, 9, 100)\n",
    "plt.plot(\n",
    "    x, (5 * ((-3 * x) - 2))-(-x - 3), \n",
    "    x, -4 * ((4 * x) + 5 ) + 13\n",
    ")\n",
    "plt.show()"
   ]
  }
 ],
 "metadata": {
  "language_info": {
   "name": "python"
  },
  "orig_nbformat": 4
 },
 "nbformat": 4,
 "nbformat_minor": 2
}

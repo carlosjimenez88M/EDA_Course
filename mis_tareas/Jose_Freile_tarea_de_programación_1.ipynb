{
 "cells": [
  {
   "cell_type": "code",
   "execution_count": 1,
   "metadata": {},
   "outputs": [
    {
     "name": "stdout",
     "output_type": "stream",
     "text": [
      "Valor x = 5.0\n",
      "5(-3x-2)-(-x-3)=-4(4x+5)+13\n",
      "-77.0=-87.0\n"
     ]
    }
   ],
   "source": [
    "x = float(input(\"Valor X : \"))\n",
    "Izq = 5*(-3*x-2)-(-x-3)\n",
    "Der = -4*(4*x+5)+13\n",
    "\n",
    "print ('Valor x = '+ str(x))\n",
    "print ('5(-3x-2)-(-x-3)=-4(4x+5)+13')\n",
    "print (str(Izq) + '=' + str(Der))"
   ]
  }
 ],
 "metadata": {
  "interpreter": {
   "hash": "4447cc7378cf30879333494e5d460e5c62c12902847286c87503f98d25a71d26"
  },
  "kernelspec": {
   "display_name": "Python 3.8.9 64-bit",
   "language": "python",
   "name": "python3"
  },
  "language_info": {
   "codemirror_mode": {
    "name": "ipython",
    "version": 3
   },
   "file_extension": ".py",
   "mimetype": "text/x-python",
   "name": "python",
   "nbconvert_exporter": "python",
   "pygments_lexer": "ipython3",
   "version": "3.8.9"
  },
  "orig_nbformat": 4
 },
 "nbformat": 4,
 "nbformat_minor": 2
}

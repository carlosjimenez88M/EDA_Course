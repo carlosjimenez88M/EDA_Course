{
 "cells": [
  {
   "cell_type": "code",
   "execution_count": 2,
   "metadata": {},
   "outputs": [
    {
     "name": "stdout",
     "output_type": "stream",
     "text": [
      "1\n",
      "2\n",
      "3\n",
      "4\n"
     ]
    }
   ],
   "source": [
    "## Tarea 2\n",
    "##Desarrolle un while loop donde i se imprima siempre que sea menor a 4\n",
    "i = 0\n",
    "while i < 10:\n",
    "  i += 1\n",
    "  if i > 4:\n",
    "    continue\n",
    "  print(i)\n"
   ]
  }
 ],
 "metadata": {
  "interpreter": {
   "hash": "c71eb680aa9a4f45045b765811544f9f690a79e39e1750c6296536fe597cc2e5"
  },
  "kernelspec": {
   "display_name": "Python 3.10.0 64-bit",
   "language": "python",
   "name": "python3"
  },
  "language_info": {
   "codemirror_mode": {
    "name": "ipython",
    "version": 3
   },
   "file_extension": ".py",
   "mimetype": "text/x-python",
   "name": "python",
   "nbconvert_exporter": "python",
   "pygments_lexer": "ipython3",
   "version": "3.10.0"
  },
  "orig_nbformat": 4
 },
 "nbformat": 4,
 "nbformat_minor": 2
}

{
 "cells": [
  {
   "cell_type": "markdown",
   "metadata": {},
   "source": [
    "# TAREA PARA EL 20 DE NOVIEMBRE\n",
    "\n",
    "Esta tarea deberá ser agregada al brach 'Tareas' del repo del profe, la notebook la va a llamar con su nombre + tarea_de_programación_1\n",
    "\n",
    "Cómo ya sabe hacer operaciones matemáticas en Python , va a resolver la siguiente ecucación, acá la idea es que usted investigue como se resuelve y me explique como lo hizo\n",
    "\n",
    "$$\n",
    "5(-3x-2)-(-x-3) = -4(4x+5)+13\n",
    "$$\n",
    "\n",
    "\n",
    "Recuerde que hay plazo de entregarlo hasta el sábado 20 a media noche después de ello nada será tomado en cuenta!!\n",
    "\n",
    "![](https://turismotics.files.wordpress.com/2014/03/houston-tenemos-un-problema.gif?w=561&zoom=2)"
   ]
  },
  {
   "cell_type": "code",
   "execution_count": 1,
   "metadata": {},
   "outputs": [
    {
     "name": "stdout",
     "output_type": "stream",
     "text": [
      "Tu indice de masa corporal es : 0.003066890495867769  Estas flaco\n"
     ]
    }
   ],
   "source": [
    "## Notese que se usará la función input\n",
    "Peso = float(input(\"Hey dime tu peso : \"))\n",
    "Estatura = float(input(\"Hey dime tu estatura : \"))\n",
    "BMI = Peso/(Estatura**2)\n",
    "if BMI <= 18.5:\n",
    "    print('Tu indice de masa corporal es :', BMI, ' Estas flaco')\n",
    "\n",
    "elif 18.5 < BMI < 25:\n",
    "    print('Tu indice de masa corporal es :', BMI,'Ni fu ni fa')\n",
    "\n",
    "elif 25 < BMI < 30:\n",
    "    print('Tu indice de masa corporal es :', BMI,' Estamos gorditos!!')\n",
    "\n",
    "elif BMI > 30:\n",
    "    print('Tu indice de masa corporal es :', BMI,'No sigas asi! vas a explotar ')\n",
    "    "
   ]
  }
 ],
 "metadata": {
  "interpreter": {
   "hash": "b3ba2566441a7c06988d0923437866b63cedc61552a5af99d1f4fb67d367b25f"
  },
  "kernelspec": {
   "display_name": "Python 3.8.8 64-bit ('base': conda)",
   "language": "python",
   "name": "python3"
  },
  "language_info": {
   "codemirror_mode": {
    "name": "ipython",
    "version": 3
   },
   "file_extension": ".py",
   "mimetype": "text/x-python",
   "name": "python",
   "nbconvert_exporter": "python",
   "pygments_lexer": "ipython3",
   "version": "3.8.8"
  },
  "orig_nbformat": 4
 },
 "nbformat": 4,
 "nbformat_minor": 2
}

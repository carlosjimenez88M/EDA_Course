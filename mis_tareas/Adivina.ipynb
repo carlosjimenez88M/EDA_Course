{
 "cells": [
  {
   "cell_type": "code",
   "execution_count": 1,
   "metadata": {},
   "outputs": [
    {
     "name": "stdout",
     "output_type": "stream",
     "text": [
      "Busca un número más grande\n",
      "Busca un número más grande\n",
      "Busca un número más grande\n",
      "Busca un número más pequeño\n",
      "¡Ganaste!\n"
     ]
    }
   ],
   "source": [
    "# Ejercicio de Python, se trata de un juego para adivinar un numero usando la libreria random\n",
    "\n",
    "import random\n",
    "\n",
    "\n",
    "def run():\n",
    "    numero_aleatorio = random.randint(1, 100)\n",
    "    numero_elegido = int(input('Elige un número del 1 al 100: '))\n",
    "    while numero_elegido != numero_aleatorio:\n",
    "        if numero_elegido < numero_aleatorio:\n",
    "            print('Busca un número más grande')\n",
    "        else:\n",
    "            print('Busca un número más pequeño')\n",
    "        numero_elegido = int(input('Elige otro número: '))\n",
    "    print('¡Ganaste!')\n",
    "\n",
    "\n",
    "if __name__ == '__main__':\n",
    "    run()"
   ]
  }
 ],
 "metadata": {
  "interpreter": {
   "hash": "b3ba2566441a7c06988d0923437866b63cedc61552a5af99d1f4fb67d367b25f"
  },
  "kernelspec": {
   "display_name": "Python 3.8.8 64-bit ('base': conda)",
   "language": "python",
   "name": "python3"
  },
  "language_info": {
   "codemirror_mode": {
    "name": "ipython",
    "version": 3
   },
   "file_extension": ".py",
   "mimetype": "text/x-python",
   "name": "python",
   "nbconvert_exporter": "python",
   "pygments_lexer": "ipython3",
   "version": "3.8.8"
  },
  "orig_nbformat": 4
 },
 "nbformat": 4,
 "nbformat_minor": 2
}

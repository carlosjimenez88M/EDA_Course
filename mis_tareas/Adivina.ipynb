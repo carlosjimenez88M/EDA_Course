{
 "cells": [
  {
   "cell_type": "code",
   "execution_count": null,
   "metadata": {},
   "outputs": [],
   "source": [
    "# Ejercicio de Python, se trata de un juego para adivinar un numero usando la libreria random\n",
    "\n",
    "import random\n",
    "\n",
    "\n",
    "def run():\n",
    "    numero_aleatorio = random.randint(1, 100)\n",
    "    numero_elegido = int(input('Elige un número del 1 al 100: '))\n",
    "    while numero_elegido != numero_aleatorio:\n",
    "        if numero_elegido < numero_aleatorio:\n",
    "            print('Busca un número más grande')\n",
    "        else:\n",
    "            print('Busca un número más pequeño')\n",
    "        numero_elegido = int(input('Elige otro número: '))\n",
    "    print('¡Ganaste!')\n",
    "\n",
    "\n",
    "if __name__ == '__main__':\n",
    "    run()"
   ]
  }
 ],
 "metadata": {
  "language_info": {
   "name": "python"
  },
  "orig_nbformat": 4
 },
 "nbformat": 4,
 "nbformat_minor": 2
}

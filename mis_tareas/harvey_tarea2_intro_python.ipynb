{
 "cells": [
  {
   "cell_type": "code",
   "execution_count": 74,
   "metadata": {},
   "outputs": [
    {
     "name": "stdout",
     "output_type": "stream",
     "text": [
      "0 Es la multiplicacion de 5 * 0\n",
      "5 Es la multiplicacion de 5 * 1\n",
      "10 Es la multiplicacion de 2 * 5\n",
      "15 Es la multiplicacion de 3 * 5\n",
      "20 Es la multiplicacion de 2 * 10\n",
      "25 Es la multiplicacion de 5 * 5\n",
      "30 Es la multiplicacion de 2 * 15\n",
      "35 Es la multiplicacion de 5 * 7\n",
      "40 Es la multiplicacion de 2 * 20\n",
      "45 Es la multiplicacion de 3 * 15\n",
      "50 Es la multiplicacion de 2 * 25\n",
      "55 Es la multiplicacion de 5 * 11\n",
      "60 Es la multiplicacion de 2 * 30\n",
      "65 Es la multiplicacion de 5 * 13\n",
      "70 Es la multiplicacion de 2 * 35\n",
      "75 Es la multiplicacion de 3 * 25\n",
      "80 Es la multiplicacion de 2 * 40\n",
      "85 Es la multiplicacion de 5 * 17\n",
      "90 Es la multiplicacion de 2 * 45\n",
      "95 Es la multiplicacion de 5 * 19\n"
     ]
    }
   ],
   "source": [
    "# Complete la siguiente función\n",
    "\n",
    "# for n in range(0, 100,5):\n",
    "#    for x in range(2, n):\n",
    "#         if n % x == 0:\n",
    "#             print(n, 'Completa acá', x, '*', n//x)\n",
    "#             break\n",
    "#    else:\n",
    "        \n",
    "#         print(n, 'Completa acá')\n",
    "\n",
    "for n in range(0,100,5):\n",
    "    for x in range(1, n):\n",
    "        if n % x == 0 and x >= 2:\n",
    "            print(n, 'Es la multiplicacion de', x, '*', n//x)\n",
    "            break\n",
    "        if n == 5 and x == 1:\n",
    "            print(n, 'Es la multiplicacion de 5 * 1')\n",
    "    if n == 0:\n",
    "        print(n, 'Es la multiplicacion de 5 * 0')"
   ]
  },
  {
   "cell_type": "code",
   "execution_count": 72,
   "metadata": {},
   "outputs": [
    {
     "data": {
      "text/plain": [
       "[1, 2, 3, 4]"
      ]
     },
     "execution_count": 72,
     "metadata": {},
     "output_type": "execute_result"
    }
   ],
   "source": [
    "list(range(1,5))"
   ]
  },
  {
   "cell_type": "code",
   "execution_count": 37,
   "metadata": {},
   "outputs": [
    {
     "data": {
      "text/plain": [
       "[1, 2, 3, 4]"
      ]
     },
     "execution_count": 37,
     "metadata": {},
     "output_type": "execute_result"
    }
   ],
   "source": [
    "list(range(1, 5))"
   ]
  }
 ],
 "metadata": {
  "interpreter": {
   "hash": "b3ba2566441a7c06988d0923437866b63cedc61552a5af99d1f4fb67d367b25f"
  },
  "kernelspec": {
   "display_name": "Python 3.8.8 64-bit ('base': conda)",
   "language": "python",
   "name": "python3"
  },
  "language_info": {
   "codemirror_mode": {
    "name": "ipython",
    "version": 3
   },
   "file_extension": ".py",
   "mimetype": "text/x-python",
   "name": "python",
   "nbconvert_exporter": "python",
   "pygments_lexer": "ipython3",
   "version": "3.7.4"
  },
  "orig_nbformat": 4
 },
 "nbformat": 4,
 "nbformat_minor": 2
}

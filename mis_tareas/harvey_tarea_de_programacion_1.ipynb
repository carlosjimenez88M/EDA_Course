{
 "cells": [
  {
   "cell_type": "code",
   "execution_count": 14,
   "metadata": {},
   "outputs": [
    {
     "name": "stdout",
     "output_type": "stream",
     "text": [
      "La ecuación esta resuelta\n"
     ]
    }
   ],
   "source": [
    "x = float(input(\"¿Cuál es el valor de x: \"))\n",
    "\n",
    "A = 5*(-3*x-2)-(-x-3)\n",
    "B = -4*(4*x+5)+13\n",
    "\n",
    "if A == B:\n",
    "    print('La ecuación esta resuelta')\n",
    "\n",
    "elif A != B:\n",
    "    print('La ecuación no está resuelta, el valor de x debe ser 0')\n",
    "\n",
    "# La solución a la ecuación se obtiene despejando x de la siguiente manera:\n",
    "# 5*(-3*x-2)-(-x-3) = -4*(4*x+5)+13\n",
    "# -15*x-10+x+3 = -16*x-20+13\n",
    "# -14*x-7 = -16*x-7\n",
    "# 2*x = 0\n",
    "# x = 0\n"
   ]
  },
  {
   "cell_type": "code",
   "execution_count": null,
   "metadata": {},
   "outputs": [],
   "source": []
  }
 ],
 "metadata": {
  "interpreter": {
   "hash": "f12391edbe6514a79a60c52c4c4164ba2cdbaaa2142cef551c85414801522536"
  },
  "kernelspec": {
   "display_name": "Python 3.7.4 64-bit ('base': conda)",
   "language": "python",
   "name": "python3"
  },
  "language_info": {
   "codemirror_mode": {
    "name": "ipython",
    "version": 3
   },
   "file_extension": ".py",
   "mimetype": "text/x-python",
   "name": "python",
   "nbconvert_exporter": "python",
   "pygments_lexer": "ipython3",
   "version": "3.7.4"
  },
  "orig_nbformat": 4
 },
 "nbformat": 4,
 "nbformat_minor": 2
}

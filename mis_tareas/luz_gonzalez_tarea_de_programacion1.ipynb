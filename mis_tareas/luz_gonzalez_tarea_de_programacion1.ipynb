{
 "cells": [
  {
   "cell_type": "code",
   "execution_count": null,
   "metadata": {},
   "outputs": [],
   "source": [
    "$$\n",
    "5(-3x-2)-(-x-3)=-4(4x+5)+13\n",
    "    (-15x-10)-(-x-3)=-16x-20+13\n",
    "    -15x+x-10+3=-16x-20+13\n",
    "    -14x-7=-16x-7\n",
    "    \t-14X+16X=-7+7\n",
    "         2X=0\n",
    "\t      X=0\n",
    "$$        "
   ]
  }
 ],
 "metadata": {
  "interpreter": {
   "hash": "bc6416bb58303ed070ed186d3fcb3b2d9d246e941d7e4d206a2556087ad73f1c"
  },
  "kernelspec": {
   "display_name": "Python 3.10.0 64-bit",
   "language": "python",
   "name": "python3"
  },
  "language_info": {
   "name": "python",
   "version": "3.10.0"
  },
  "orig_nbformat": 4
 },
 "nbformat": 4,
 "nbformat_minor": 2
}

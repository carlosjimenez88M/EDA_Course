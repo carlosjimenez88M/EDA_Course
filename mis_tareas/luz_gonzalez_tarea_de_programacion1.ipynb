{
 "cells": [
  {
   "cell_type": "code",
   "execution_count": 1,
   "metadata": {},
   "outputs": [
    {
     "ename": "SyntaxError",
     "evalue": "invalid decimal literal (Temp/ipykernel_18240/3629154913.py, line 2)",
     "output_type": "error",
     "traceback": [
      "\u001b[1;36m  File \u001b[1;32m\"C:\\Users\\luzed\\AppData\\Local\\Temp/ipykernel_18240/3629154913.py\"\u001b[1;36m, line \u001b[1;32m2\u001b[0m\n\u001b[1;33m    5(-3x-2)-(-x-3)=-4(4x+5)+13\u001b[0m\n\u001b[1;37m       ^\u001b[0m\n\u001b[1;31mSyntaxError\u001b[0m\u001b[1;31m:\u001b[0m invalid decimal literal\n"
     ]
    }
   ],
   "source": [
    "$$\n",
    "5(-3x-2)-(-x-3)=-4(4x+5)+13\n",
    "    (-15x-10)-(-x-3)=-16x-20+13\n",
    "    -15x+x-10+3=-16x-20+13\n",
    "    -14x-7=-16x-7\n",
    "    \t-14X+16X=-7+7\n",
    "         2X=0\n",
    "\t      X=0\n",
    "$$        "
   ]
  },
  {
   "cell_type": "code",
   "execution_count": null,
   "metadata": {},
   "outputs": [],
   "source": []
  }
 ],
 "metadata": {
  "interpreter": {
   "hash": "bc6416bb58303ed070ed186d3fcb3b2d9d246e941d7e4d206a2556087ad73f1c"
  },
  "kernelspec": {
   "display_name": "Python 3.10.0 64-bit",
   "language": "python",
   "name": "python3"
  },
  "language_info": {
   "codemirror_mode": {
    "name": "ipython",
    "version": 3
   },
   "file_extension": ".py",
   "mimetype": "text/x-python",
   "name": "python",
   "nbconvert_exporter": "python",
   "pygments_lexer": "ipython3",
   "version": "3.8.8"
  },
  "orig_nbformat": 4
 },
 "nbformat": 4,
 "nbformat_minor": 2
}

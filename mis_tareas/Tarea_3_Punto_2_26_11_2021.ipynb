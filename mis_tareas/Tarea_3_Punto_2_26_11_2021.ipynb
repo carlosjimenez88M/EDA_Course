{
 "cells": [
  {
   "cell_type": "code",
   "execution_count": null,
   "metadata": {},
   "outputs": [],
   "source": []
  },
  {
   "cell_type": "markdown",
   "metadata": {},
   "source": [
    "$\n",
    "TAREA     3\n",
    "$"
   ]
  },
  {
   "cell_type": "code",
   "execution_count": null,
   "metadata": {},
   "outputs": [],
   "source": [
    "#Cree una función del tipo fibonacci pero a este resultado dividalo entre 3, \n",
    "# dejelo con un solo digito y al lado de este valor coloqué su representación logarítmica #"
   ]
  },
  {
   "cell_type": "code",
   "execution_count": 28,
   "metadata": {},
   "outputs": [
    {
     "name": "stdout",
     "output_type": "stream",
     "text": [
      "0.0\n",
      "0.3\n",
      "0.3\n",
      "0.7\n",
      "1.0\n",
      "1.7\n",
      "2.7\n",
      "4.3\n",
      "7.0\n",
      "11.3\n",
      "18.3\n",
      "29.7\n",
      "48.0\n",
      "77.7\n",
      "125.7\n",
      "203.3\n",
      "329.0\n",
      "532.3\n",
      "861.3\n",
      "1393.7\n",
      "2255.0\n",
      "3648.7\n",
      "5903.7\n"
     ]
    }
   ],
   "source": [
    "from math import sqrt\n",
    "def F(n):\n",
    "    return ((1+sqrt(5))**n-(1-sqrt(5))**n)/(2**n*sqrt(5))/3\n",
    "\n",
    "def Fibonacci(i, j):\n",
    "    n = 0\n",
    "    cur = F(n)\n",
    "    while cur <= j:\n",
    "        if i <= cur:\n",
    "            print(round(cur,1))\n",
    "        n += 1\n",
    "        cur = F(n)\n",
    "Fibonacci(0,6000)\n"
   ]
  }
 ],
 "metadata": {
  "interpreter": {
   "hash": "3deacdf3704d783b64d002f5dc902b9292bcd4657f18fdc996abfb4f7bea3572"
  },
  "kernelspec": {
   "display_name": "Python 3.9.7 64-bit (conda)",
   "language": "python",
   "name": "python3"
  },
  "language_info": {
   "codemirror_mode": {
    "name": "ipython",
    "version": 3
   },
   "file_extension": ".py",
   "mimetype": "text/x-python",
   "name": "python",
   "nbconvert_exporter": "python",
   "pygments_lexer": "ipython3",
   "version": "3.9.7"
  },
  "orig_nbformat": 4
 },
 "nbformat": 4,
 "nbformat_minor": 2
}

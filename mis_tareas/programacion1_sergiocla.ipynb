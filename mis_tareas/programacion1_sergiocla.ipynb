{
 "cells": [
  {
   "cell_type": "code",
   "execution_count": 2,
   "metadata": {},
   "outputs": [
    {
     "name": "stdout",
     "output_type": "stream",
     "text": [
      "Correcto\n"
     ]
    }
   ],
   "source": [
    "X = float (input(\"Cual crees que es el valor de x? \"))\n",
    "\n",
    "ec_A = (5*((-3*X)-2))-(-X-3)\n",
    "\n",
    "\n",
    "ec_B = -4*((4*X)+5)+13\n",
    "\n",
    "if ec_A == ec_B : print (\"Correcto\")\n",
    "else : print (\"Intenta con otro numero\")"
   ]
  }
 ],
 "metadata": {
  "interpreter": {
   "hash": "9ef96523c59acb72f8be3df55b465faac605c6a27778ffa1ea35dc136c935abb"
  },
  "kernelspec": {
   "display_name": "Python 3.8.8 64-bit (conda)",
   "language": "python",
   "name": "python3"
  },
  "language_info": {
   "codemirror_mode": {
    "name": "ipython",
    "version": 3
   },
   "file_extension": ".py",
   "mimetype": "text/x-python",
   "name": "python",
   "nbconvert_exporter": "python",
   "pygments_lexer": "ipython3",
   "version": "3.8.8"
  },
  "orig_nbformat": 4
 },
 "nbformat": 4,
 "nbformat_minor": 2
}

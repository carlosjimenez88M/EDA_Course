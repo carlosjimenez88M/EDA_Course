{
 "cells": [
  {
   "cell_type": "markdown",
   "metadata": {},
   "source": [
    "# Tarea conflictos en GitHub (Ramas y solución de conflictos)\n",
    "\n",
    "Cree la tarea y la subi a la rama wiroal <br>\n",
    "\n",
    "![](https://drive.google.com/file/d/1-QxZZKyZzAxgNpIHq9gW8GS8XpSpGeEx/view)\n",
    "\n",
    "### Modifico lo que escribi en el perfil y lo vuelvo a cargar\n",
    "\n",
    "![](https://drive.google.com/file/d/1-a26kfQTZK705F7vgMR9DL6jsnUwPID_/view)\n",
    "\n",
    "## Verifico con git log las versiones\n"
   ]
  },
  {
   "cell_type": "markdown",
   "metadata": {},
   "source": []
  }
 ],
 "metadata": {
  "language_info": {
   "name": "python"
  },
  "orig_nbformat": 4
 },
 "nbformat": 4,
 "nbformat_minor": 2
}

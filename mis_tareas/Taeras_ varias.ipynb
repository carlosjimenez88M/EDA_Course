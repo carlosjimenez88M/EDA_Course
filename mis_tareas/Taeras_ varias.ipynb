{
 "cells": [
  {
   "cell_type": "code",
   "execution_count": 1,
   "metadata": {},
   "outputs": [],
   "source": [
    "## Librerias requeridas\n",
    "import pandas as pd\n",
    "import numpy as np\n",
    "# import sys\n",
    "# pip install line_profiler\n",
    "# import line_profiler\n"
   ]
  },
  {
   "cell_type": "code",
   "execution_count": 12,
   "metadata": {},
   "outputs": [
    {
     "name": "stdout",
     "output_type": "stream",
     "text": [
      "Este es un código super eficiente\n",
      "Wall time: 0 ns\n",
      "siempre usará [*] para desempaquetar listas\n",
      "siempre usará [*] para desempaquetar listas\n",
      "siempre usará [*] para desempaquetar listas\n",
      "siempre usará [*] para desempaquetar listas\n",
      "siempre usará [*] para desempaquetar listas\n",
      "siempre usará [*] para desempaquetar listas\n",
      "siempre usará [*] para desempaquetar listas\n",
      "siempre usará [*] para desempaquetar listas\n",
      "siempre usará [*] para desempaquetar listas\n",
      "siempre usará [*] para desempaquetar listas\n",
      "siempre usará [*] para desempaquetar listas\n",
      "siempre usará [*] para desempaquetar listas\n",
      "siempre usará [*] para desempaquetar listas\n",
      "siempre usará [*] para desempaquetar listas\n",
      "siempre usará [*] para desempaquetar listas\n",
      "siempre usará [*] para desempaquetar listas\n",
      "siempre usará [*] para desempaquetar listas\n",
      "siempre usará [*] para desempaquetar listas\n",
      "siempre usará [*] para desempaquetar listas\n"
     ]
    }
   ],
   "source": [
    "# Esta es la primera tarea de imprimir una plana\n",
    "print('Este es un código super eficiente')\n",
    "nums = list(range(1,20))\n",
    "Plana = 'siempre usará [*] para desempaquetar listas'\n",
    "%time\n",
    "Plana = [print (Plana) for x in nums]\n"
   ]
  }
 ],
 "metadata": {
  "interpreter": {
   "hash": "db1bc898b120c8721915127ef36348ab49be24ae0b4c76f21a16650ae706b744"
  },
  "kernelspec": {
   "display_name": "Python 3.10.0 64-bit",
   "name": "python3"
  },
  "language_info": {
   "codemirror_mode": {
    "name": "ipython",
    "version": 3
   },
   "file_extension": ".py",
   "mimetype": "text/x-python",
   "name": "python",
   "nbconvert_exporter": "python",
   "pygments_lexer": "ipython3",
   "version": "3.10.0"
  },
  "orig_nbformat": 4
 },
 "nbformat": 4,
 "nbformat_minor": 2
}

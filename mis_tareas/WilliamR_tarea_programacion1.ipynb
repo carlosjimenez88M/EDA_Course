{
 "cells": [
  {
   "cell_type": "code",
   "execution_count": 1,
   "metadata": {},
   "outputs": [],
   "source": [
    "# Tarea ecuación \n",
    "# Llamo la libreria numpy\n",
    "\n",
    "import numpy as np\n",
    "import matplotlib.pyplot as plt"
   ]
  },
  {
   "cell_type": "code",
   "execution_count": 1,
   "metadata": {},
   "outputs": [
    {
     "name": "stdout",
     "output_type": "stream",
     "text": [
      "La ecuación no está resuelta, el valor de x debe ser 0\n"
     ]
    }
   ],
   "source": [
    "#valor_de_x = float(input(\"¿Cual es el valor de X?\"))\n",
    "# Denifirn la variable de X\n",
    "# Hay que despejar x Se supone que se hace con NumPy \n",
    "# Lo primero que hicimos fue llamar numpy, no lo pude hacer\n",
    "# Estuvimos trabajando con Harbey Rrodriguez, quien primero resolvio la eccuaicon \n",
    "\n",
    "\n",
    "\n",
    "x = float(input(\"¿Cuál es el valor de x: \"))\n",
    "\n",
    "IZQ = 5*(-3*x-2)-(-x-3)\n",
    "DER = -4*(4*x+5)+13\n",
    "\n",
    "if IZQ == DER:\n",
    "    print('La ecuación esta resuelta')\n",
    "\n",
    "elif IZQ != DER:\n",
    "    print('La ecuación no está resuelta, el valor de x debe ser 0')\n",
    "\n"
   ]
  }
 ],
 "metadata": {
  "interpreter": {
   "hash": "b3ba2566441a7c06988d0923437866b63cedc61552a5af99d1f4fb67d367b25f"
  },
  "kernelspec": {
   "display_name": "Python 3.8.8 64-bit ('base': conda)",
   "language": "python",
   "name": "python3"
  },
  "language_info": {
   "codemirror_mode": {
    "name": "ipython",
    "version": 3
   },
   "file_extension": ".py",
   "mimetype": "text/x-python",
   "name": "python",
   "nbconvert_exporter": "python",
   "pygments_lexer": "ipython3",
   "version": "3.8.8"
  },
  "orig_nbformat": 4
 },
 "nbformat": 4,
 "nbformat_minor": 2
}

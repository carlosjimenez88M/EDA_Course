{
 "cells": [
  {
   "cell_type": "markdown",
   "metadata": {},
   "source": [
    "# NOTAS DEL CUSO (SOPLETE)\n",
    "\n",
    "# Sitio para estudiar\n",
    "[Kaggle](https://www.kaggle.com/competitions) <br>\n",
    "Ejercicio final<br>\n",
    "predecir con Titanic <br>\n",
    "\n",
    "Link\n",
    "- Ejercicio en Python [Ir](https://www.kaggle.com/pmarcelino/comprehensive-data-exploration-with-python) \n",
    "- Ejercicio con el Titanic [Ir](https://www.kaggle.com/startupsci/titanic-data-science-solutions)\n",
    "# imagenes\n",
    "- Ejercicio con imagenes [Ir](https://teachablemachine.withgoogle.com/train/image)\n",
    "\n",
    "Ejercicios iamges\n",
    "\n",
    "- No se que es [Ir](https://teachablemachine.withgoogle.com/train/image)\n",
    "- tampco se que es [Ir](https://huggingface.co/course/chapter1 )\n",
    "- Ni idea [Ir](https://es.wikipedia.org/wiki/Raspberry_Pi)"
   ]
  }
 ],
 "metadata": {
  "interpreter": {
   "hash": "b3ba2566441a7c06988d0923437866b63cedc61552a5af99d1f4fb67d367b25f"
  },
  "kernelspec": {
   "display_name": "Python 3.8.8 64-bit ('base': conda)",
   "language": "python",
   "name": "python3"
  },
  "language_info": {
   "codemirror_mode": {
    "name": "ipython",
    "version": 3
   },
   "file_extension": ".py",
   "mimetype": "text/x-python",
   "name": "python",
   "nbconvert_exporter": "python",
   "pygments_lexer": "ipython3",
   "version": "3.8.8"
  },
  "orig_nbformat": 4
 },
 "nbformat": 4,
 "nbformat_minor": 2
}

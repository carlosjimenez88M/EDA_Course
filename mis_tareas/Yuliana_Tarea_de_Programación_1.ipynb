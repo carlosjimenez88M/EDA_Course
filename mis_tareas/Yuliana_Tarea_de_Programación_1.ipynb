{
 "cells": [
  {
   "cell_type": "code",
   "execution_count": null,
   "metadata": {},
   "outputs": [],
   "source": [
    "$$\n",
    "    5(-3x-2)-(-x-3)=-4(4x+5)+13\n",
    "    (-15x-10)-(-x-3)=(-16x-20)+13\n",
    "    -15x-10+x+3=-16x-20+13\n",
    "    -14x-7=-16x-7\n",
    "    -14x+16x =-7+7\n",
    "    2x=0\n",
    "    x=0/2\n",
    "    x=0\n",
    "$$"
   ]
  }
 ],
 "metadata": {
  "language_info": {
   "name": "python"
  },
  "orig_nbformat": 4
 },
 "nbformat": 4,
 "nbformat_minor": 2
}

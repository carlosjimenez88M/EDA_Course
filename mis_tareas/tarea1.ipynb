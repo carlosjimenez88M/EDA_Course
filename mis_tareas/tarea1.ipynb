{
 "cells": [
  {
   "cell_type": "code",
   "execution_count": 1,
   "metadata": {},
   "outputs": [
    {
     "name": "stdout",
     "output_type": "stream",
     "text": [
      "Tu indice de masa corporal es : 0.0027041644131963224  Estas flaco\n"
     ]
    }
   ],
   "source": [
    "Peso = float(input(\"Hey dime tu peso : \"))\n",
    "Estatura = float(input(\"Hey dime tu estatura : \"))\n",
    "BMI = Peso/(Estatura**2)\n",
    "if BMI <= 18.5:\n",
    "    print('Tu indice de masa corporal es :', BMI, ' Estas flaco')\n",
    "\n",
    "elif 18.5 < BMI < 25:\n",
    "    print('Tu indice de masa corporal es :', BMI,'Ni fu ni fa')\n",
    "\n",
    "elif 25 < BMI < 30:\n",
    "    print('Tu indice de masa corporal es :', BMI,' Estamos gorditos!!')\n",
    "\n",
    "elif BMI > 30:\n",
    "    print('Tu indice de masa corporal es :', BMI,'No sigas asi! vas a explotar ')\n"
   ]
  }
 ],
 "metadata": {
  "interpreter": {
   "hash": "9ef96523c59acb72f8be3df55b465faac605c6a27778ffa1ea35dc136c935abb"
  },
  "kernelspec": {
   "display_name": "Python 3.8.8 64-bit",
   "language": "python",
   "name": "python3"
  },
  "language_info": {
   "codemirror_mode": {
    "name": "ipython",
    "version": 3
   },
   "file_extension": ".py",
   "mimetype": "text/x-python",
   "name": "python",
   "nbconvert_exporter": "python",
   "pygments_lexer": "ipython3",
   "version": "3.8.8"
  },
  "orig_nbformat": 4
 },
 "nbformat": 4,
 "nbformat_minor": 2
}

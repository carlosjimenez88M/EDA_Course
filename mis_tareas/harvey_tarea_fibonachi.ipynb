{
 "cells": [
  {
   "cell_type": "code",
   "execution_count": 5,
   "metadata": {},
   "outputs": [],
   "source": [
    "import pandas as pd\n",
    "import numpy as np"
   ]
  },
  {
   "cell_type": "code",
   "execution_count": 13,
   "metadata": {},
   "outputs": [],
   "source": [
    "def fib(n):\n",
    "    if n < 2:\n",
    "        return n\n",
    "    return fib(n-1) + fib(n-2)"
   ]
  },
  {
   "cell_type": "code",
   "execution_count": 38,
   "metadata": {},
   "outputs": [
    {
     "name": "stdout",
     "output_type": "stream",
     "text": [
      "[0.0, 0.0, 0.0, 1.0, 1.0, 2.0, 3.0, 4.0, 7.0, 11.0, 18.0, 30.0, 48.0, 78.0, 126.0, 203.0, 329.0, 532.0, 861.0, 1394.0]\n"
     ]
    }
   ],
   "source": [
    "A = []\n",
    "\n",
    "for x in range(20):\n",
    "    A.append(round((fib(x)/3),0))\n",
    "\n",
    "print(list(A))"
   ]
  },
  {
   "cell_type": "code",
   "execution_count": 45,
   "metadata": {},
   "outputs": [
    {
     "name": "stdout",
     "output_type": "stream",
     "text": [
      "0.0 es el numero de Fibonachi y este es su logaritmo -inf\n",
      "0.0 es el numero de Fibonachi y este es su logaritmo -inf\n",
      "0.0 es el numero de Fibonachi y este es su logaritmo -inf\n",
      "1.0 es el numero de Fibonachi y este es su logaritmo 0.0\n",
      "1.0 es el numero de Fibonachi y este es su logaritmo 0.0\n",
      "2.0 es el numero de Fibonachi y este es su logaritmo 0.6931471805599453\n",
      "3.0 es el numero de Fibonachi y este es su logaritmo 1.0986122886681098\n",
      "4.0 es el numero de Fibonachi y este es su logaritmo 1.3862943611198906\n",
      "7.0 es el numero de Fibonachi y este es su logaritmo 1.9459101490553132\n",
      "11.0 es el numero de Fibonachi y este es su logaritmo 2.3978952727983707\n",
      "18.0 es el numero de Fibonachi y este es su logaritmo 2.8903717578961645\n",
      "30.0 es el numero de Fibonachi y este es su logaritmo 3.4011973816621555\n",
      "48.0 es el numero de Fibonachi y este es su logaritmo 3.871201010907891\n",
      "78.0 es el numero de Fibonachi y este es su logaritmo 4.356708826689592\n",
      "126.0 es el numero de Fibonachi y este es su logaritmo 4.836281906951478\n",
      "203.0 es el numero de Fibonachi y este es su logaritmo 5.313205979041787\n",
      "329.0 es el numero de Fibonachi y este es su logaritmo 5.796057750765372\n",
      "532.0 es el numero de Fibonachi y este es su logaritmo 6.2766434893416445\n",
      "861.0 es el numero de Fibonachi y este es su logaritmo 6.7580945044277305\n",
      "1394.0 es el numero de Fibonachi y este es su logaritmo 7.2399325913204695\n"
     ]
    },
    {
     "name": "stderr",
     "output_type": "stream",
     "text": [
      "C:\\Users\\HARBEY\\Anaconda3\\lib\\site-packages\\ipykernel_launcher.py:2: RuntimeWarning: divide by zero encountered in log\n",
      "  \n"
     ]
    }
   ],
   "source": [
    "for i in A:\n",
    "    print(i, 'es el numero de Fibonachi', 'y este es su logaritmo', np.log(i))\n"
   ]
  }
 ],
 "metadata": {
  "interpreter": {
   "hash": "f12391edbe6514a79a60c52c4c4164ba2cdbaaa2142cef551c85414801522536"
  },
  "kernelspec": {
   "display_name": "Python 3.7.4 64-bit ('base': conda)",
   "language": "python",
   "name": "python3"
  },
  "language_info": {
   "codemirror_mode": {
    "name": "ipython",
    "version": 3
   },
   "file_extension": ".py",
   "mimetype": "text/x-python",
   "name": "python",
   "nbconvert_exporter": "python",
   "pygments_lexer": "ipython3",
   "version": "3.7.4"
  },
  "orig_nbformat": 4
 },
 "nbformat": 4,
 "nbformat_minor": 2
}

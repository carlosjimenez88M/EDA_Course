{
 "cells": [
  {
   "cell_type": "code",
   "execution_count": 20,
   "metadata": {},
   "outputs": [
    {
     "name": "stdout",
     "output_type": "stream",
     "text": [
      "*         \n",
      "* *        \n",
      "* * *       \n",
      "* * * *      \n",
      "* * *       \n",
      "* *        \n",
      "*         \n"
     ]
    }
   ],
   "source": [
    "# Tarea: patron de asteriscos\n",
    "\n",
    "for i in range (7): # filas\n",
    "    for j in range(9): # columnas\n",
    "        if (i == 0 or i == 6) and (j == 0):\n",
    "            print ('* ', end = '')\n",
    "        elif (i == 1 or i == 5) and (j <= 1):\n",
    "            print('* ', end = '')\n",
    "        elif (i == 2 or i == 4) and (j <= 2):\n",
    "            print('* ', end = '')\n",
    "        elif (i == 3 ) and (j <= 3):\n",
    "            print('* ', end = '')\n",
    "        else:\n",
    "            print(' ', end = '')\n",
    "    print()"
   ]
  }
 ],
 "metadata": {
  "interpreter": {
   "hash": "f12391edbe6514a79a60c52c4c4164ba2cdbaaa2142cef551c85414801522536"
  },
  "kernelspec": {
   "display_name": "Python 3.7.4 64-bit ('base': conda)",
   "language": "python",
   "name": "python3"
  },
  "language_info": {
   "codemirror_mode": {
    "name": "ipython",
    "version": 3
   },
   "file_extension": ".py",
   "mimetype": "text/x-python",
   "name": "python",
   "nbconvert_exporter": "python",
   "pygments_lexer": "ipython3",
   "version": "3.7.4"
  },
  "orig_nbformat": 4
 },
 "nbformat": 4,
 "nbformat_minor": 2
}

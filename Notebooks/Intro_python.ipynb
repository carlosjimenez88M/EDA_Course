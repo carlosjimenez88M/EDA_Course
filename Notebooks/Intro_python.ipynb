{
 "cells": [
  {
   "cell_type": "markdown",
   "metadata": {},
   "source": [
    "## Introducción a Python para el análisis de datos\n",
    "\n",
    "docente:[Daniel Jiménez](www.danieljimenezm.com)"
   ]
  },
  {
   "cell_type": "markdown",
   "metadata": {},
   "source": [
    "## Declaración de variables"
   ]
  },
  {
   "cell_type": "code",
   "execution_count": 9,
   "metadata": {},
   "outputs": [
    {
     "name": "stdout",
     "output_type": "stream",
     "text": [
      "De esta manera se imprime el peso 100\n",
      "De esta manera se imprime la altura 1.6\n"
     ]
    }
   ],
   "source": [
    "Peso = 100\n",
    "Altura = 1.60\n",
    "print('De esta manera se imprime el peso',Peso)\n",
    "print('De esta manera se imprime la altura',Altura)"
   ]
  },
  {
   "cell_type": "markdown",
   "metadata": {},
   "source": [
    "## Haciendo unos calculos sencillos\n",
    "$$\n",
    "IBM = \\frac{Peso}{Altura^2}\n",
    "$$\n"
   ]
  },
  {
   "cell_type": "code",
   "execution_count": 10,
   "metadata": {},
   "outputs": [
    {
     "name": "stdout",
     "output_type": "stream",
     "text": [
      "Este es el caso del calculo IBM 39.06249999999999\n"
     ]
    }
   ],
   "source": [
    "## Modelando el caso anterior\n",
    "\n",
    "IBM = Peso/Altura**2\n",
    "print('Este es el caso del calculo IBM',IBM)"
   ]
  },
  {
   "cell_type": "markdown",
   "metadata": {},
   "source": [
    "Notese que para elevar un dato en  Python se trabaja con el Operador **"
   ]
  },
  {
   "cell_type": "code",
   "execution_count": 11,
   "metadata": {},
   "outputs": [
    {
     "data": {
      "text/plain": [
       "float"
      ]
     },
     "execution_count": 11,
     "metadata": {},
     "output_type": "execute_result"
    }
   ],
   "source": [
    "## Identificando de que tipo de dato se trata\n",
    "type(IBM)"
   ]
  },
  {
   "cell_type": "code",
   "execution_count": 12,
   "metadata": {},
   "outputs": [
    {
     "data": {
      "text/plain": [
       "float"
      ]
     },
     "execution_count": 12,
     "metadata": {},
     "output_type": "execute_result"
    }
   ],
   "source": [
    "type(Altura)"
   ]
  },
  {
   "cell_type": "code",
   "execution_count": 13,
   "metadata": {},
   "outputs": [
    {
     "name": "stdout",
     "output_type": "stream",
     "text": [
      "<class 'str'>\n",
      "<class 'int'>\n"
     ]
    }
   ],
   "source": [
    "## Algunos ejemplos sencillos\n",
    "\n",
    "Nombre = 'No se que'\n",
    "dia = 5\n",
    "print(type(Nombre))\n",
    "print(type(dia))\n"
   ]
  },
  {
   "cell_type": "markdown",
   "metadata": {},
   "source": [
    "De la anterior manera podrá verificar con que tipo de datos se trabaja"
   ]
  },
  {
   "cell_type": "code",
   "execution_count": 14,
   "metadata": {},
   "outputs": [
    {
     "data": {
      "text/plain": [
       "'Alicia'"
      ]
     },
     "execution_count": 14,
     "metadata": {},
     "output_type": "execute_result"
    }
   ],
   "source": [
    "## Se puede sumar palabras??\n",
    "\n",
    "'Al' + 'icia'"
   ]
  },
  {
   "cell_type": "markdown",
   "metadata": {},
   "source": [
    "## Tipo de datos\n",
    "\n",
    "* float: Números reales\n",
    "* int: Números enteros\n",
    "* bool: Verdad/Falso\n",
    "* str: strings o textos\n"
   ]
  },
  {
   "cell_type": "markdown",
   "metadata": {},
   "source": [
    "## Listas"
   ]
  },
  {
   "cell_type": "code",
   "execution_count": 15,
   "metadata": {},
   "outputs": [
    {
     "name": "stdout",
     "output_type": "stream",
     "text": [
      "[1, 2, 3, 4, 5, 6, 7]\n",
      "<class 'list'>\n"
     ]
    }
   ],
   "source": [
    "lista = [1,2,3,4,5,6,7]\n",
    "print(lista)\n",
    "print(type(lista))"
   ]
  },
  {
   "cell_type": "code",
   "execution_count": 16,
   "metadata": {},
   "outputs": [
    {
     "name": "stdout",
     "output_type": "stream",
     "text": [
      "['Lunes', 8]\n",
      "<class 'list'>\n"
     ]
    }
   ],
   "source": [
    "## Las listas pueden combinar distintos tipos de factores\n",
    "lista_combinada = ['Lunes',8]\n",
    "print(lista_combinada)\n",
    "print(type(lista_combinada))"
   ]
  },
  {
   "cell_type": "code",
   "execution_count": 17,
   "metadata": {},
   "outputs": [
    {
     "name": "stdout",
     "output_type": "stream",
     "text": [
      "<class 'str'> primer elemento de la lista\n",
      "<class 'int'> Segundo elemento de la lista\n"
     ]
    }
   ],
   "source": [
    "## Si evaluamos los elementos de la lista\n",
    "print(type(lista_combinada[0]), 'primer elemento de la lista')\n",
    "print(type(lista_combinada[1]),'Segundo elemento de la lista')"
   ]
  },
  {
   "cell_type": "code",
   "execution_count": 18,
   "metadata": {},
   "outputs": [
    {
     "data": {
      "text/plain": [
       "[0, 2, 4, 6, 8, 10]"
      ]
     },
     "execution_count": 18,
     "metadata": {},
     "output_type": "execute_result"
    }
   ],
   "source": [
    "## ¿Qué pasaría si hago esto?\n",
    "list(range(0,11,2))"
   ]
  },
  {
   "cell_type": "code",
   "execution_count": 19,
   "metadata": {},
   "outputs": [
    {
     "data": {
      "text/plain": [
       "10"
      ]
     },
     "execution_count": 19,
     "metadata": {},
     "output_type": "execute_result"
    }
   ],
   "source": [
    "A = list(range(0,11,2))\n",
    "A[-1]"
   ]
  },
  {
   "cell_type": "code",
   "execution_count": 20,
   "metadata": {},
   "outputs": [
    {
     "data": {
      "text/plain": [
       "[4, 6]"
      ]
     },
     "execution_count": 20,
     "metadata": {},
     "output_type": "execute_result"
    }
   ],
   "source": [
    "A = list(range(0,11,2))\n",
    "A[2:4]"
   ]
  },
  {
   "cell_type": "code",
   "execution_count": 21,
   "metadata": {},
   "outputs": [
    {
     "data": {
      "text/plain": [
       "6"
      ]
     },
     "execution_count": 21,
     "metadata": {},
     "output_type": "execute_result"
    }
   ],
   "source": [
    "len(A)"
   ]
  },
  {
   "cell_type": "code",
   "execution_count": 22,
   "metadata": {},
   "outputs": [
    {
     "name": "stdout",
     "output_type": "stream",
     "text": [
      "[0, 2, 4, 6, 8, 12]\n"
     ]
    }
   ],
   "source": [
    "## Anexando un cambio a un elemento a la lista\n",
    "A[5] = 12\n",
    "print(A)"
   ]
  },
  {
   "cell_type": "code",
   "execution_count": 23,
   "metadata": {},
   "outputs": [
    {
     "name": "stdout",
     "output_type": "stream",
     "text": [
      "[0, 2, 4, 6, 8, 12, 'No se aceptan trabajos después de las 11:59', 'a.m', 13]\n"
     ]
    }
   ],
   "source": [
    "## Agregando elementos a la Lista\n",
    "B  = ['No se aceptan trabajos después de las 11:59', 'a.m',13]\n",
    "C = A + B\n",
    "print(C)"
   ]
  },
  {
   "cell_type": "code",
   "execution_count": 24,
   "metadata": {},
   "outputs": [
    {
     "name": "stdout",
     "output_type": "stream",
     "text": [
      "[2, 4, 6, 8, 12]\n"
     ]
    }
   ],
   "source": [
    "## ¿Qué pasaría si hago esto?\n",
    "del(A[0])\n",
    "print(A)"
   ]
  },
  {
   "cell_type": "code",
   "execution_count": 25,
   "metadata": {},
   "outputs": [
    {
     "name": "stdout",
     "output_type": "stream",
     "text": [
      "['Karen', 'Felipe', 'Valentina', 'F', 'Tortuga']\n"
     ]
    }
   ],
   "source": [
    "## Veamos otros tratamientos a la lista\n",
    "x = ['Karen','Felipe','Valentina','F','Tortuga']\n",
    "y = list(x)\n",
    "print(y)"
   ]
  },
  {
   "cell_type": "code",
   "execution_count": 26,
   "metadata": {},
   "outputs": [
    {
     "data": {
      "text/plain": [
       "'Felipe'"
      ]
     },
     "execution_count": 26,
     "metadata": {},
     "output_type": "execute_result"
    }
   ],
   "source": [
    "y_1 = x[:]\n",
    "y_1[1]"
   ]
  },
  {
   "cell_type": "code",
   "execution_count": 27,
   "metadata": {},
   "outputs": [
    {
     "name": "stdout",
     "output_type": "stream",
     "text": [
      "Karen\n",
      "Felipe\n",
      "Valentina\n",
      "F\n",
      "Tortuga\n"
     ]
    }
   ],
   "source": [
    "## Qué pasaría si?\n",
    "for i in y : # Leasé: por cada elemento de Y (llamado i)\n",
    "    print(i) # Imprima el valor de i\n"
   ]
  },
  {
   "cell_type": "code",
   "execution_count": 28,
   "metadata": {},
   "outputs": [
    {
     "name": "stdout",
     "output_type": "stream",
     "text": [
      "El individuo de esta lista se llama:Karen\n",
      "El individuo de esta lista se llama:Felipe\n",
      "El individuo de esta lista se llama:Valentina\n",
      "El individuo de esta lista se llama:F\n",
      "El individuo de esta lista se llama:Tortuga\n"
     ]
    }
   ],
   "source": [
    "## Ajustando un poco el ciclo\n",
    "for i in y :\n",
    "    A = 'El individuo de esta lista se llama:'\n",
    "    print(A + i)"
   ]
  },
  {
   "cell_type": "code",
   "execution_count": 29,
   "metadata": {},
   "outputs": [
    {
     "name": "stdout",
     "output_type": "stream",
     "text": [
      "El cuadrado del elemento 0  es 0\n",
      "El cuadrado del elemento 1  es 1\n",
      "El cuadrado del elemento 2  es 4\n",
      "El cuadrado del elemento 3  es 9\n",
      "El cuadrado del elemento 4  es 16\n",
      "El cuadrado del elemento 5  es 25\n",
      "El cuadrado del elemento 6  es 36\n",
      "El cuadrado del elemento 7  es 49\n",
      "El cuadrado del elemento 8  es 64\n",
      "El cuadrado del elemento 9  es 81\n"
     ]
    }
   ],
   "source": [
    "for i in range(10):\n",
    "    print('El cuadrado del elemento', i,' es', i**2)"
   ]
  },
  {
   "cell_type": "code",
   "execution_count": 30,
   "metadata": {},
   "outputs": [
    {
     "name": "stdout",
     "output_type": "stream",
     "text": [
      "Este número no es divisible es igual a 5 0\n",
      "Este número no es divisible es igual a 5 1\n",
      "Este número no es divisible es igual a 5 2\n",
      "Este número no es divisible es igual a 5 3\n",
      "Este número no es divisible es igual a 5 4\n",
      "Este número no es divisible es igual a 5 5\n",
      "Este número es igual a cinco 5\n",
      "Este número no es divisible es igual a 5 6\n",
      "Este número no es divisible es igual a 5 7\n",
      "Este número no es divisible es igual a 5 8\n",
      "Este número no es divisible es igual a 5 9\n"
     ]
    }
   ],
   "source": [
    "## Jugando un poco con el for \n",
    "for i in range(10):\n",
    "    print('Este número no es divisible es igual a 5', i)\n",
    "    if i==5:\n",
    "        print('Este número es igual a cinco',5) \n",
    "    "
   ]
  },
  {
   "cell_type": "code",
   "execution_count": 31,
   "metadata": {},
   "outputs": [
    {
     "name": "stdout",
     "output_type": "stream",
     "text": [
      "Este # no es divisible por dos:  0\n",
      "Este # no es divisible por dos:  1\n",
      "Este # no es divisible por dos:  3\n",
      "Este # no es divisible por dos:  5\n",
      "Este # no es divisible por dos:  7\n",
      "Este # no es divisible por dos:  9\n"
     ]
    }
   ],
   "source": [
    "lista = list(range(10))\n",
    "for i in lista:\n",
    "    if i %2 != 0:\n",
    "        lista.remove(i)\n",
    "    print('Este # no es divisible por dos: ', i)\n"
   ]
  },
  {
   "cell_type": "code",
   "execution_count": 32,
   "metadata": {},
   "outputs": [
    {
     "name": "stdout",
     "output_type": "stream",
     "text": [
      "Este #  es divisible por dos:  0\n",
      "Este #  es divisible por dos:  2\n",
      "Este #  es divisible por dos:  6\n",
      "Este #  es divisible por dos:  8\n"
     ]
    }
   ],
   "source": [
    "lista = list(range(10))\n",
    "for i in lista:\n",
    "    if i %2 == 0:\n",
    "        lista.remove(i)\n",
    "    if i == 4:\n",
    "        continue\n",
    "    print('Este #  es divisible por dos: ', i)\n",
    "    "
   ]
  },
  {
   "cell_type": "code",
   "execution_count": 33,
   "metadata": {},
   "outputs": [
    {
     "name": "stdout",
     "output_type": "stream",
     "text": [
      "Este #  es divisible por dos:  0\n",
      "Este #  es divisible por dos:  2\n",
      "Este #  es divisible por dos:  16\n",
      "Este #  es divisible por dos:  6\n",
      "Este #  es divisible por dos:  8\n"
     ]
    }
   ],
   "source": [
    "lista = list(range(10))\n",
    "for i in lista:\n",
    "    if i %2 == 0:\n",
    "        lista.remove(i)\n",
    "    if i == 4:\n",
    "         i=i**2\n",
    "    print('Este #  es divisible por dos: ', i)"
   ]
  },
  {
   "cell_type": "markdown",
   "metadata": {},
   "source": [
    "## Tarea\n",
    "### Punto1\n",
    "En un nuevo notebook haga una lista que cumpla con las siguientes condiciones:\n",
    "\n",
    "1. Que sean números divisibles por 3\n",
    "2. la lista debe tener al menos 111 elementos\n",
    "3. Omita el Número 9 en el loop\n",
    "\n",
    "### Punto2\n",
    "Complete la siguiente función"
   ]
  },
  {
   "cell_type": "code",
   "execution_count": 34,
   "metadata": {},
   "outputs": [
    {
     "name": "stdout",
     "output_type": "stream",
     "text": [
      "0 Completa acá\n",
      "5 Completa acá\n",
      "10 Completa acá 2 * 5\n",
      "15 Completa acá 3 * 5\n",
      "20 Completa acá 2 * 10\n",
      "25 Completa acá 5 * 5\n",
      "30 Completa acá 2 * 15\n",
      "35 Completa acá 5 * 7\n",
      "40 Completa acá 2 * 20\n",
      "45 Completa acá 3 * 15\n",
      "50 Completa acá 2 * 25\n",
      "55 Completa acá 5 * 11\n",
      "60 Completa acá 2 * 30\n",
      "65 Completa acá 5 * 13\n",
      "70 Completa acá 2 * 35\n",
      "75 Completa acá 3 * 25\n",
      "80 Completa acá 2 * 40\n",
      "85 Completa acá 5 * 17\n",
      "90 Completa acá 2 * 45\n",
      "95 Completa acá 5 * 19\n"
     ]
    }
   ],
   "source": [
    "for n in range(0, 100,5):\n",
    "    for x in range(2, n):\n",
    "         if n % x == 0:\n",
    "             print(n, 'Completa acá', x, '*', n//x)\n",
    "             break\n",
    "    else:\n",
    "        \n",
    "         print(n, 'Completa acá')"
   ]
  },
  {
   "cell_type": "code",
   "execution_count": 35,
   "metadata": {},
   "outputs": [
    {
     "name": "stdout",
     "output_type": "stream",
     "text": [
      "95\n",
      "0\n"
     ]
    }
   ],
   "source": [
    "A = list(range(0, 100,5))\n",
    "print(max(A))\n",
    "print(min(A))"
   ]
  },
  {
   "cell_type": "code",
   "execution_count": 36,
   "metadata": {},
   "outputs": [
    {
     "name": "stdout",
     "output_type": "stream",
     "text": [
      "0.0\n",
      "2.5\n",
      "5.0\n",
      "7.5\n",
      "10.0\n",
      "12.5\n",
      "15.0\n",
      "17.5\n",
      "20.0\n",
      "22.5\n",
      "25.0\n",
      "27.5\n",
      "30.0\n",
      "32.5\n",
      "35.0\n",
      "37.5\n",
      "40.0\n",
      "42.5\n",
      "45.0\n",
      "47.5\n"
     ]
    }
   ],
   "source": [
    "## Ajustando los valores en un for \n",
    "A=list(range(0,100,5))\n",
    "for i in A:\n",
    "    div = i/2\n",
    "    print(round(div,1))"
   ]
  },
  {
   "cell_type": "code",
   "execution_count": 37,
   "metadata": {},
   "outputs": [
    {
     "name": "stdout",
     "output_type": "stream",
     "text": [
      "0.0\n",
      "1.67\n",
      "3.33\n",
      "5.0\n",
      "6.67\n",
      "8.33\n",
      "10.0\n",
      "11.67\n",
      "13.33\n",
      "15.0\n",
      "16.67\n",
      "18.33\n",
      "20.0\n",
      "21.67\n",
      "23.33\n",
      "25.0\n",
      "26.67\n",
      "28.33\n",
      "30.0\n",
      "31.67\n"
     ]
    }
   ],
   "source": [
    "A=list(range(0,100,5))\n",
    "for i in A:\n",
    "    div = i/3\n",
    "    print(round(div,2))"
   ]
  },
  {
   "cell_type": "code",
   "execution_count": 38,
   "metadata": {},
   "outputs": [
    {
     "name": "stdout",
     "output_type": "stream",
     "text": [
      "================================================================\n",
      "Colocando el nombre con la primer letra con mayúscula\n",
      "Walter\n",
      "Colocando todas las letras en mayúsculas\n",
      "WALTER\n",
      "Reemplazando algunas letras\n",
      "gualter\n",
      "================================================================\n"
     ]
    }
   ],
   "source": [
    "## Ajustando valores en una lista\n",
    "un_nombre = 'walter'\n",
    "print('='*64)\n",
    "print('Colocando el nombre con la primer letra con mayúscula')\n",
    "print(un_nombre.capitalize())\n",
    "print('Colocando todas las letras en mayúsculas')\n",
    "print(un_nombre.upper())\n",
    "print('Reemplazando algunas letras')\n",
    "print(un_nombre.replace('w','gu'))\n",
    "print('='*64)"
   ]
  },
  {
   "cell_type": "markdown",
   "metadata": {},
   "source": [
    "## Creando funciones"
   ]
  },
  {
   "cell_type": "code",
   "execution_count": 39,
   "metadata": {},
   "outputs": [],
   "source": [
    "def my_name():\n",
    "    print('Me llamo Bruce')"
   ]
  },
  {
   "cell_type": "code",
   "execution_count": 40,
   "metadata": {},
   "outputs": [
    {
     "name": "stdout",
     "output_type": "stream",
     "text": [
      "Me llamo Bruce\n"
     ]
    }
   ],
   "source": [
    "my_name()"
   ]
  },
  {
   "cell_type": "code",
   "execution_count": 41,
   "metadata": {},
   "outputs": [],
   "source": [
    "def your_name(i):\n",
    "    print('Su nombre es: ',i)\n",
    "    "
   ]
  },
  {
   "cell_type": "code",
   "execution_count": 42,
   "metadata": {},
   "outputs": [
    {
     "name": "stdout",
     "output_type": "stream",
     "text": [
      "Su nombre es:  Ali\n"
     ]
    }
   ],
   "source": [
    "your_name('Ali')"
   ]
  },
  {
   "cell_type": "code",
   "execution_count": 43,
   "metadata": {},
   "outputs": [
    {
     "name": "stdout",
     "output_type": "stream",
     "text": [
      "33\n",
      "55\n",
      "99\n"
     ]
    }
   ],
   "source": [
    "def my_function(x):\n",
    "  return 11 * x\n",
    "\n",
    "print(my_function(3))\n",
    "print(my_function(5))\n",
    "print(my_function(9))"
   ]
  },
  {
   "cell_type": "markdown",
   "metadata": {},
   "source": [
    "## Tarea 2\n",
    "\n",
    "Cree una función del tipo fibonacci pero a este resultado dividalo entre 3, dejelo con un solo digito y al lado de este valor coloqué su representación logarítmica"
   ]
  },
  {
   "cell_type": "code",
   "execution_count": 44,
   "metadata": {},
   "outputs": [
    {
     "data": {
      "text/plain": [
       "[0, 2, 4, 6, 8, 10]"
      ]
     },
     "execution_count": 44,
     "metadata": {},
     "output_type": "execute_result"
    }
   ],
   "source": [
    "Numeros = list(range(0,11))\n",
    "eventos = Numeros[0::2]\n",
    "eventos"
   ]
  },
  {
   "cell_type": "code",
   "execution_count": 45,
   "metadata": {},
   "outputs": [
    {
     "name": "stdout",
     "output_type": "stream",
     "text": [
      "Karen\n",
      "Felipe\n",
      "Valentina\n",
      "F\n",
      "Tortuga\n"
     ]
    }
   ],
   "source": [
    "## Comprobando algunas cosas\n",
    "x = list(['Karen','Felipe','Valentina','F','Tortuga'])\n",
    "for i in x:\n",
    "    if i =='Felipe':\n",
    "        pass\n",
    "    print(i)"
   ]
  },
  {
   "cell_type": "code",
   "execution_count": 46,
   "metadata": {},
   "outputs": [
    {
     "data": {
      "text/plain": [
       "True"
      ]
     },
     "execution_count": 46,
     "metadata": {},
     "output_type": "execute_result"
    }
   ],
   "source": [
    "x[1]==x[1]"
   ]
  },
  {
   "cell_type": "code",
   "execution_count": 47,
   "metadata": {},
   "outputs": [
    {
     "data": {
      "text/plain": [
       "False"
      ]
     },
     "execution_count": 47,
     "metadata": {},
     "output_type": "execute_result"
    }
   ],
   "source": [
    "x[1]==x[2]"
   ]
  },
  {
   "cell_type": "code",
   "execution_count": 48,
   "metadata": {},
   "outputs": [
    {
     "data": {
      "text/plain": [
       "True"
      ]
     },
     "execution_count": 48,
     "metadata": {},
     "output_type": "execute_result"
    }
   ],
   "source": [
    "[1,2,3]>[1,0,3]"
   ]
  },
  {
   "cell_type": "markdown",
   "metadata": {},
   "source": [
    "## Diccionario"
   ]
  },
  {
   "cell_type": "code",
   "execution_count": 49,
   "metadata": {},
   "outputs": [],
   "source": [
    "Notas = {\"Julio\":5,\n",
    "         \"Martina\":2}"
   ]
  },
  {
   "cell_type": "code",
   "execution_count": 50,
   "metadata": {},
   "outputs": [
    {
     "data": {
      "text/plain": [
       "{'Julio': 5, 'Martina': 2}"
      ]
     },
     "execution_count": 50,
     "metadata": {},
     "output_type": "execute_result"
    }
   ],
   "source": [
    "Notas"
   ]
  },
  {
   "cell_type": "code",
   "execution_count": 51,
   "metadata": {},
   "outputs": [
    {
     "data": {
      "text/plain": [
       "dict"
      ]
     },
     "execution_count": 51,
     "metadata": {},
     "output_type": "execute_result"
    }
   ],
   "source": [
    "type(Notas)"
   ]
  },
  {
   "cell_type": "code",
   "execution_count": 58,
   "metadata": {},
   "outputs": [
    {
     "data": {
      "text/html": [
       "<div>\n",
       "<style scoped>\n",
       "    .dataframe tbody tr th:only-of-type {\n",
       "        vertical-align: middle;\n",
       "    }\n",
       "\n",
       "    .dataframe tbody tr th {\n",
       "        vertical-align: top;\n",
       "    }\n",
       "\n",
       "    .dataframe thead th {\n",
       "        text-align: right;\n",
       "    }\n",
       "</style>\n",
       "<table border=\"1\" class=\"dataframe\">\n",
       "  <thead>\n",
       "    <tr style=\"text-align: right;\">\n",
       "      <th></th>\n",
       "      <th>Nombres</th>\n",
       "      <th>Notas</th>\n",
       "    </tr>\n",
       "  </thead>\n",
       "  <tbody>\n",
       "    <tr>\n",
       "      <th>0</th>\n",
       "      <td>Julio</td>\n",
       "      <td>1</td>\n",
       "    </tr>\n",
       "    <tr>\n",
       "      <th>1</th>\n",
       "      <td>Martina</td>\n",
       "      <td>5</td>\n",
       "    </tr>\n",
       "  </tbody>\n",
       "</table>\n",
       "</div>"
      ],
      "text/plain": [
       "   Nombres  Notas\n",
       "0    Julio      1\n",
       "1  Martina      5"
      ]
     },
     "execution_count": 58,
     "metadata": {},
     "output_type": "execute_result"
    }
   ],
   "source": [
    "import pandas as pd\n",
    "data = {'Nombres': ['Julio','Martina'], \n",
    "        'Notas': [1,5]}\n",
    "pd.DataFrame.from_dict(data)"
   ]
  }
 ],
 "metadata": {
  "interpreter": {
   "hash": "7812ea015bdcee6f23a998adcdd2ef97c151c0c241b7b7070987d9313e41299d"
  },
  "kernelspec": {
   "display_name": "Python 3.9.4 64-bit",
   "language": "python",
   "name": "python3"
  },
  "language_info": {
   "codemirror_mode": {
    "name": "ipython",
    "version": 3
   },
   "file_extension": ".py",
   "mimetype": "text/x-python",
   "name": "python",
   "nbconvert_exporter": "python",
   "pygments_lexer": "ipython3",
   "version": "3.8.5"
  },
  "orig_nbformat": 4
 },
 "nbformat": 4,
 "nbformat_minor": 2
}

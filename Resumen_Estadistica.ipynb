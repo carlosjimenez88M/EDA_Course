{
 "cells": [
  {
   "cell_type": "code",
   "execution_count": null,
   "metadata": {},
   "outputs": [],
   "source": []
  },
  {
   "cell_type": "markdown",
   "metadata": {},
   "source": [
    "--------------------------------------------------------------------- ESTADISTICA BASICA"
   ]
  },
  {
   "cell_type": "code",
   "execution_count": null,
   "metadata": {},
   "outputs": [],
   "source": [
    "import numpy as np\n",
    "# Conjunto de datos es una colección de datos\n",
    "results = [1, 2, 3,4,5,7,8,9,7,6,5,4,3,3, 2,8,7,6,5, 10, 1]\n",
    "\n",
    "# PROMEDIO:  es el resultado de sumar un grupo de número y dividirlo entre el número de sumandos.\n",
    "print(np.mean(results))\n",
    "\n",
    "# MEDIA - media aritmética: suma todos los valores y divide el resultado por el número de valores de la distribución\n",
    "print(np.mean(results))\n",
    "\n",
    "# MEDIANA - es la valor medio de un conjunto de datos ordenados. podemos definir la mediana como el valor \n",
    "# que separa una secuencia en dos partes: la mitad inferior y la mitad superior.\n",
    "print(np.median(results))\n",
    "\n",
    "# VARIANZA: La varianza es una medida de dispersión que representa la variabilidad de una serie\n",
    "# de datos respecto a su media.\n",
    "print(np.var(results))\n",
    "\n",
    "# DESVIACION ESTANDAR: es la medida de dispersión más común, que indica qué tan dispersos están los datos con \n",
    "# respecto a la media\n",
    "print(np.std(results))\n",
    "\n",
    "# COHEFICIENTE DE VARIACION:  es una forma de medir qué tan dispersos están los valores en un conjunto de datos \n",
    "# en relación con la media.\n",
    "# permite comparar las dispersiones de dos distribuciones distintas, siempre que sus medias sean positivas.\n",
    "# se utiliza cuando se desea hacer referencia a la relación entre el tamaño de la media y la variabilidad de la variable.\n",
    "data = [88, 85, 82, 97, 67, 77, 74, 86, 81, 95, 77, 88, 85, 76, 81, 82]\n",
    "\n",
    "#define la función para calcular cv \n",
    "cv = lambda x: np. std (x, ddof = 1 ) / np. mean (x) * 100 \n",
    " \n",
    "#calcular CV\n",
    "cv (data)\n",
    "\n",
    "# PROMEDIO RECORTADO\n",
    "# PERCENTIL\n",
    "# FUNDAMENTALES\n"
   ]
  },
  {
   "cell_type": "code",
   "execution_count": null,
   "metadata": {},
   "outputs": [],
   "source": [
    "# La moda es el valor más frecuente en el conjunto de datos. la funcion modo devuelve el primer modo que encuentra, \n",
    "# multi modal, son los valores más frecuente en el conjunto de datos. multimodo devuelve una lista con los valores \n",
    "# más frecuentes del conjunto de datos.\n",
    "from statistics import mode, multimode\n",
    "\n",
    "points_per_game = [3, 15, 23, 42, 30, 10, 10, 12]\n",
    "sponsorship = ['nike', 'adidas', 'nike', 'jordan', 'jordan', 'rebook', 'under-armour', 'adidas']\n",
    "print(mode(points_per_game))\n",
    "print(mode(sponsorship))\n",
    "print(multimode(points_per_game))\n",
    "print(multimode(sponsorship))"
   ]
  },
  {
   "cell_type": "code",
   "execution_count": null,
   "metadata": {},
   "outputs": [],
   "source": [
    "#Medidas de posición: cuartiles y percentiles\n",
    "# El concepto es igual al de mediana, salvo que aquí la división ya no es en el 50%. \n",
    "# podemos ordenar los datos de menor a mayor y dividirlos en cuatro partes con la misma cantidad de datos. \n",
    "# Los cortes de estas divisiones son lo que llamamos cuartiles.\n",
    "# El 25% de las observaciones es menor que el primer cuartil. \n",
    "# Los cuartiles abarcan el 25%, 50% y 75% de las observaciones. \n",
    "# Los percentiles son una generalización con cualquier porcentaje.\n",
    "\n",
    "# Ejemplo: ¿Cuál es la nota que tiene como mínimo el 10% más nota de la clase?\n",
    "# Este enunciado nos pide calcular el percentil 90.\n",
    "\n",
    "import pandas as pd\n",
    "import numpy as np\n",
    "\n",
    "data = {\"n\": np.random.randint(1,100, 100)}\n",
    "df = pd.DataFrame(data)\n",
    "df.n.max()"
   ]
  },
  {
   "cell_type": "code",
   "execution_count": null,
   "metadata": {},
   "outputs": [],
   "source": [
    "print(df.n.quantile([.25, .50, .75]))\n",
    "qs = df.n.quantile([.25, .50, .75]).values\n",
    "df[\"Q1\"] = (df.n <=qs[0])+0\n",
    "df[\"Q2\"] = ((df.n <=qs[1]) & (df.n >qs[0])) +0\n",
    "df[\"Q3\"] = ((df.n <=qs[2]) & (df.n >qs[1])) +0\n",
    "df[\"Q4\"] = (df.n >qs[2]) +0\n",
    "print(df.head())\n",
    "# PERCENTIL\n",
    "perc75np = np.percentile(df, 75)\n",
    "print (perc75np)"
   ]
  },
  {
   "cell_type": "code",
   "execution_count": null,
   "metadata": {},
   "outputs": [],
   "source": [
    "# percentil: se debe ordenar la lista de mayor a menor\n",
    "# para el percentil 50 se toma la cantidad de registros x 50%\n",
    "import pandas as pd\n",
    "import numpy as np\n",
    "import matplotlib.pyplot as plt\n",
    "A = np.array([28,66,51,33,40,42,46,38,39,35,41,33,60])\n",
    "\n"
   ]
  },
  {
   "cell_type": "code",
   "execution_count": null,
   "metadata": {},
   "outputs": [],
   "source": [
    "np.sort(A)\n",
    "print (np.percentile(A,1))\n",
    "print (np.percentile(A,25))\n",
    "print (np.percentile(A,50))\n",
    "print (np.percentile(A,75))\n",
    "print (np.percentile(A,99))"
   ]
  },
  {
   "cell_type": "code",
   "execution_count": null,
   "metadata": {},
   "outputs": [],
   "source": [
    "import seaborn as sns\n",
    "sns.boxplot(data= A)"
   ]
  },
  {
   "cell_type": "code",
   "execution_count": null,
   "metadata": {},
   "outputs": [],
   "source": [
    "\n",
    "\n",
    "pokemon = pd.read_csv('https://gist.githubusercontent.com/armgilles/194bcff35001e7eb53a2a8b441e8b2c6/raw/92200bc0a673d5ce2110aaad4544ed6c4010f687/pokemon.csv')\n",
    "pokemon = pokemon.drop(['#'],axis=1)\n",
    "pokemon.boxplot(column=['Attack'])\n"
   ]
  }
 ],
 "metadata": {
  "interpreter": {
   "hash": "da65ed090eb2976cf88c79e74be6b5b2b10d374740b6feb7e8ace11928b88969"
  },
  "kernelspec": {
   "display_name": "Python 3.9.7 64-bit ('base': conda)",
   "language": "python",
   "name": "python3"
  },
  "language_info": {
   "name": "python",
   "version": "3.9.7"
  },
  "orig_nbformat": 4
 },
 "nbformat": 4,
 "nbformat_minor": 2
}

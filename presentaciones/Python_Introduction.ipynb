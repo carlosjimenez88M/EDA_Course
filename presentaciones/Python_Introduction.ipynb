{
 "cells": [
  {
   "cell_type": "markdown",
   "metadata": {},
   "source": [
    "## Introducción a Python \n",
    "\n",
    "* Profesor : [Daniel Jiménez](https://www.danieljimenezm.com/)\n",
    "* Institución : [Universidad Nacional de Colombia](https://unal.edu.co/)\n",
    "\n",
    "\n",
    "__Objetivo__ : En este modulo aprenderemos los fundamentos de programación en Python, donde aprenderemos nociones básicas desde como asignar variables, hasta como desarrollar un tipo de programación con funciones lógicas.\n"
   ]
  },
  {
   "cell_type": "markdown",
   "metadata": {},
   "source": [
    "## Una vez más ¿Por qué Python?\n",
    "\n",
    "En la siguiente tabla encontrará algunos soportes a esta idea de aprender __Python__\n",
    "\n",
    "|Recurso|Link|\n",
    "|------:|---:|\n",
    "|Python vs R|[URL](https://www.ibm.com/cloud/blog/python-vs-r#:~:text=The%20main%20distinction%20between%20the,their%20approach%20to%20data%20science.&text=But%20while%20R%20is%20mainly,syntax%20that's%20easy%20to%20learn.)|\n",
    "|Why Python is Essential for Data Analysis?|[URL](https://www.section.io/engineering-education/why-python-is-essential-for-data-analysis/#:~:text=Python%20focuses%20on%20both%20simplicity,a%20few%20lines%20of%20code.)|\n",
    "|Why Python Will Remain Undisputed For The Next Decade|[URL](https://towardsdatascience.com/why-python-will-remain-undisputed-for-the-next-decade-79002a84345b)|\n",
    "\n",
    "\n",
    "En términos generales, **Python** es el lenguaje de programación que mayor acogida en la comunidad de desarrollo y en la de tecnología a nivel mundial, por ejemplo la mayor parte de los avances de IOT esta basado en Python, al igual que la inteligencia artificial.\n",
    "\n",
    "Recuerde que la primer fotografía del agujero negro fue desarrollada con técnicas de Machine Learning en Python.\n",
    "\n",
    "![](https://miro.medium.com/max/700/1*8KzCvo8K-jPK8aSqZh68GQ.png)\n",
    "\n",
    "![](https://miro.medium.com/max/687/1*0kufTkH4s4MgLt-udXkLYg.png)\n",
    "\n",
    "Paso seguido, al ser un lenguaje basado en OOP, de lo cual hablaremos más adelante, es muy sencillo de aprender, solo necesita mucha practica y esto solo depende de usted.\n",
    "\n",
    "## Quiénes usan Python a nivel empresarial \n",
    "\n",
    "![](https://files.realpython.com/media/8-World-Class-Software-Companies-That-Use-Python_Watermarked.2fc96b06141c.jpg)"
   ]
  },
  {
   "cell_type": "markdown",
   "metadata": {},
   "source": [
    "## ¿Qué es un algotimo?\n",
    "\n",
    "1. Una serie de pasos que logran un objetivo\n",
    "2. Cada paso tiene un ejecutable\n",
    "3. Estos ejecutables tienen condiciones especiales\n",
    "\n",
    "![](https://cdn.programiz.com/sites/tutorial2program/files/Python_if_statement.jpg)"
   ]
  },
  {
   "cell_type": "code",
   "execution_count": 4,
   "metadata": {},
   "outputs": [
    {
     "name": "stdout",
     "output_type": "stream",
     "text": [
      "3 Es un número positivo\n",
      "Este siempre se muestra\n"
     ]
    }
   ],
   "source": [
    "## Ejemplo \n",
    "num = 3\n",
    "if num > 0:\n",
    "    print(num, \"Es un número positivo\")\n",
    "print(\"Este siempre se muestra\")\n",
    "\n"
   ]
  },
  {
   "cell_type": "markdown",
   "metadata": {},
   "source": [
    "## ¿Cómo definir una variable?"
   ]
  },
  {
   "cell_type": "code",
   "execution_count": 5,
   "metadata": {},
   "outputs": [
    {
     "name": "stdout",
     "output_type": "stream",
     "text": [
      "Les presento una variable 8\n"
     ]
    }
   ],
   "source": [
    "# Así\n",
    "una_variable = 8\n",
    "print('Les presento una variable', una_variable)"
   ]
  },
  {
   "cell_type": "code",
   "execution_count": 8,
   "metadata": {},
   "outputs": [
    {
     "name": "stdout",
     "output_type": "stream",
     "text": [
      "================================\n",
      "Siempre se asigna con el signo igual\n",
      "================================\n"
     ]
    }
   ],
   "source": [
    "print('='*32)\n",
    "print('Siempre se asigna con el signo igual')\n",
    "print('='*32)"
   ]
  },
  {
   "cell_type": "markdown",
   "metadata": {},
   "source": [
    "## ¿ Cómo se hacen operaciones matemáticas en Python?\n",
    "\n"
   ]
  },
  {
   "cell_type": "code",
   "execution_count": 9,
   "metadata": {},
   "outputs": [
    {
     "name": "stdout",
     "output_type": "stream",
     "text": [
      "La suma\n",
      "2\n",
      "La resta\n",
      "1\n",
      "La mutiplicación\n",
      "64\n",
      "La División\n",
      "10.0\n",
      "La Elevada\n",
      "27\n"
     ]
    }
   ],
   "source": [
    "## Suma \n",
    "print('La suma')\n",
    "print(1+1)\n",
    "\n",
    "## Resta\n",
    "print('La resta')\n",
    "print(2-1)\n",
    "\n",
    "## Multiplicación \n",
    "print('La mutiplicación')\n",
    "print(8*8)\n",
    "\n",
    "## División \n",
    "print('La División')\n",
    "print(100/10)\n",
    "\n",
    "## Elevar un dato\n",
    "print('La Elevada')\n",
    "print(3**3)"
   ]
  },
  {
   "cell_type": "markdown",
   "metadata": {},
   "source": [
    "## Tarea sorpresa \n",
    "\n",
    "Esta tarea deberá ser agregada al brach 'Tareas' del repo del profe, la notebook la va a llamar con su nombre + tarea_de_programación_1\n",
    "\n",
    "Cómo ya sabe hacer operaciones matemáticas en Python , va a resolver la siguiente ecucación, acá la idea es que usted investigue como se resuelve y me explique como lo hizo\n",
    "\n",
    "$$\n",
    "5(-3x-2)-(-x-3) = -4(4x+5)+13\n",
    "$$\n",
    "\n",
    "\n",
    "Recuerde que hay plazo de entregarlo hasta el sábado 20 a media noche después de ello nada será tomado en cuenta!!\n",
    "\n",
    "FYI\n",
    "\n",
    "\n",
    "![](https://memegenerator.net/img/instances/69210688.jpg)\n"
   ]
  },
  {
   "cell_type": "markdown",
   "metadata": {},
   "source": [
    "$$\n",
    "5(-3x-2)-(-x-3) = -4(4x+5)+13\n",
    "$$\n",
    "\n",
    "$$\n",
    "(-15x-10) +x+3 = (-16-20)+13 \n",
    "$$"
   ]
  },
  {
   "cell_type": "markdown",
   "metadata": {},
   "source": [
    "## Suponga que quiere tener una división entera"
   ]
  },
  {
   "cell_type": "code",
   "execution_count": 10,
   "metadata": {},
   "outputs": [
    {
     "data": {
      "text/plain": [
       "3.5"
      ]
     },
     "execution_count": 10,
     "metadata": {},
     "output_type": "execute_result"
    }
   ],
   "source": [
    "7/2"
   ]
  },
  {
   "cell_type": "code",
   "execution_count": 12,
   "metadata": {},
   "outputs": [
    {
     "name": "stdout",
     "output_type": "stream",
     "text": [
      "División entera\n",
      "7\n"
     ]
    }
   ],
   "source": [
    "print('División entera')\n",
    "print(30//4)"
   ]
  },
  {
   "cell_type": "code",
   "execution_count": 14,
   "metadata": {},
   "outputs": [
    {
     "data": {
      "text/plain": [
       "10.0"
      ]
     },
     "execution_count": 14,
     "metadata": {},
     "output_type": "execute_result"
    }
   ],
   "source": [
    "## Si quiere avanzar en este tipo de operaciones \n",
    "import math\n",
    "math.sqrt(100)"
   ]
  },
  {
   "cell_type": "markdown",
   "metadata": {},
   "source": [
    "## Concatenar cadenas\n"
   ]
  },
  {
   "cell_type": "code",
   "execution_count": 17,
   "metadata": {},
   "outputs": [
    {
     "name": "stdout",
     "output_type": "stream",
     "text": [
      "================================\n",
      "Concatenando\n",
      "Ella nunca te .... completen la frase =)\n",
      "================================\n"
     ]
    }
   ],
   "source": [
    "mensaje_1 = 'Ella'\n",
    "mensaje_2 = ' nunca'\n",
    "mensaje_3 = ' te'\n",
    "mensaje_4 = ' .... completen la frase =)'\n",
    "\n",
    "print('='*32)\n",
    "print('Concatenando')\n",
    "print(mensaje_1 + mensaje_2 + mensaje_3 + mensaje_4)\n",
    "print('='*32)"
   ]
  },
  {
   "cell_type": "code",
   "execution_count": 19,
   "metadata": {},
   "outputs": [
    {
     "name": "stdout",
     "output_type": "stream",
     "text": [
      "Muchachos Karem está ?\n"
     ]
    }
   ],
   "source": [
    "primera_parte = 'Muchachos '\n",
    "segunda_parte = 'Karem '\n",
    "tercera_parte = 'está ?'\n",
    "feliz = primera_parte + segunda_parte + tercera_parte\n",
    "print(feliz)"
   ]
  },
  {
   "cell_type": "code",
   "execution_count": 20,
   "metadata": {},
   "outputs": [
    {
     "data": {
      "text/plain": [
       "'Muchachos Karem está ?'"
      ]
     },
     "execution_count": 20,
     "metadata": {},
     "output_type": "execute_result"
    }
   ],
   "source": [
    "'Muchachos ' + 'Karem ' + 'está ?'"
   ]
  },
  {
   "cell_type": "markdown",
   "metadata": {},
   "source": [
    "## Escribiendo nuestro primer programa "
   ]
  },
  {
   "cell_type": "code",
   "execution_count": 22,
   "metadata": {},
   "outputs": [
    {
     "name": "stdout",
     "output_type": "stream",
     "text": [
      "Tu indice de masa corporal es : 27.70083102493075  Estamos gorditos!!\n"
     ]
    }
   ],
   "source": [
    "## Notese que se usará la función input\n",
    "Peso = float(input(\"Hey dime tu peso : \"))\n",
    "Estatura = float(input(\"Hey dime tu estatura : \"))\n",
    "BMI = Peso/(Estatura**2)\n",
    "if BMI <= 18.5:\n",
    "    print('Tu indice de masa corporal es :', BMI, ' Estas flaco')\n",
    "\n",
    "elif 18.5 < BMI < 25:\n",
    "    print('Tu indice de masa corporal es :', BMI,'Ni fu ni fa')\n",
    "\n",
    "elif 25 < BMI < 30:\n",
    "    print('Tu indice de masa corporal es :', BMI,' Estamos gorditos!!')\n",
    "\n",
    "elif BMI > 30:\n",
    "    print('Tu indice de masa corporal es :', BMI,'No sigas asi! vas a explotar ')\n",
    "    "
   ]
  },
  {
   "cell_type": "code",
   "execution_count": 23,
   "metadata": {},
   "outputs": [
    {
     "data": {
      "text/plain": [
       "100.0"
      ]
     },
     "execution_count": 23,
     "metadata": {},
     "output_type": "execute_result"
    }
   ],
   "source": [
    "Peso"
   ]
  },
  {
   "cell_type": "code",
   "execution_count": 24,
   "metadata": {},
   "outputs": [
    {
     "data": {
      "text/plain": [
       "1.9"
      ]
     },
     "execution_count": 24,
     "metadata": {},
     "output_type": "execute_result"
    }
   ],
   "source": [
    "Estatura"
   ]
  },
  {
   "cell_type": "markdown",
   "metadata": {},
   "source": [
    "## Una forma más sofisticada de hacerlo\n",
    "\n",
    "![](https://www.pandasecurity.com/es/mediacenter/src/uploads/2012/01/meme.jpg)"
   ]
  },
  {
   "cell_type": "code",
   "execution_count": 1,
   "metadata": {},
   "outputs": [
    {
     "name": "stdout",
     "output_type": "stream",
     "text": [
      "Tu indice de masa corporal es : 27.70083102493075  Estamos gorditos!!\n",
      "None\n"
     ]
    }
   ],
   "source": [
    "Peso = float(input(\"Hey dime tu peso : \"))\n",
    "Estatura = float(input(\"Hey dime tu estatura : \"))\n",
    "\n",
    "def BMI(Peso,Estatura) :\n",
    "    BMI = Peso/(Estatura**2)\n",
    "    if BMI <= 18.5:\n",
    "        print('Tu indice de masa corporal es :', BMI, ' Estas flaco')\n",
    "\n",
    "    elif 18.5 < BMI < 25:\n",
    "        print('Tu indice de masa corporal es :', BMI,'Ni fu ni fa')\n",
    "\n",
    "    elif 25 < BMI < 30:\n",
    "        print('Tu indice de masa corporal es :', BMI,' Estamos gorditos!!')\n",
    "\n",
    "    elif BMI > 30:\n",
    "        print('Tu indice de masa corporal es :', BMI,'No sigas asi! vas a explotar ')\n",
    "print(BMI(Peso,Estatura))\n"
   ]
  },
  {
   "cell_type": "markdown",
   "metadata": {},
   "source": [
    "## Comando IF\n",
    "\n",
    "Es un condicional que dice lo siguiente : solo sigue por este camino si cumple la siguiente condición.\n",
    "\n",
    "\n"
   ]
  },
  {
   "cell_type": "code",
   "execution_count": 3,
   "metadata": {},
   "outputs": [
    {
     "name": "stdout",
     "output_type": "stream",
     "text": [
      "1\n",
      "2\n",
      "3\n",
      "4\n",
      "5\n",
      "6\n",
      "7\n",
      "8\n",
      "9\n",
      "10\n"
     ]
    }
   ],
   "source": [
    "## Una mini explicación al for\n",
    "lista = list(range(1, 11))\n",
    "\n",
    "for i in lista:\n",
    "    print(i)"
   ]
  },
  {
   "cell_type": "code",
   "execution_count": 4,
   "metadata": {},
   "outputs": [
    {
     "name": "stdout",
     "output_type": "stream",
     "text": [
      "1\n",
      "4\n",
      "9\n",
      "16\n",
      "25\n",
      "36\n",
      "49\n",
      "64\n",
      "81\n",
      "100\n"
     ]
    }
   ],
   "source": [
    "for i in lista:\n",
    "    print(i**2)"
   ]
  },
  {
   "cell_type": "code",
   "execution_count": 5,
   "metadata": {},
   "outputs": [
    {
     "name": "stdout",
     "output_type": "stream",
     "text": [
      "4 Este número es mayor a tres!!!\n",
      "5 Este número es mayor a tres!!!\n",
      "6 Este número es mayor a tres!!!\n",
      "7 Este número es mayor a tres!!!\n",
      "8 Este número es mayor a tres!!!\n",
      "9 Este número es mayor a tres!!!\n",
      "10 Este número es mayor a tres!!!\n"
     ]
    }
   ],
   "source": [
    "## Suponga el siguiente ejemplo\n",
    "\n",
    "lista = list(range(1, 11))\n",
    "# Esto se lee así\n",
    "for i in lista : #  por cada elemento de la lista\n",
    "    if i > 3: # si es mayor a tres\n",
    "        print(i,'Este número es mayor a tres!!!') # imprime este mensaje\n"
   ]
  },
  {
   "cell_type": "markdown",
   "metadata": {},
   "source": [
    "## Comando Else\n",
    "\n",
    "Como vimos en el anterior ejemplo el if funciona en los consecutivos, para las antesalas es necesario el comando else (entonces)"
   ]
  },
  {
   "cell_type": "code",
   "execution_count": 6,
   "metadata": {},
   "outputs": [
    {
     "name": "stdout",
     "output_type": "stream",
     "text": [
      "1 Es un # menor a tres!!\n",
      "2 Es un # menor a tres!!\n",
      "3 Es un # menor a tres!!\n",
      "4 Este número es mayor a tres!!!\n",
      "5 Este número es mayor a tres!!!\n",
      "6 Este número es mayor a tres!!!\n",
      "7 Este número es mayor a tres!!!\n",
      "8 Este número es mayor a tres!!!\n",
      "9 Este número es mayor a tres!!!\n",
      "10 Este número es mayor a tres!!!\n"
     ]
    }
   ],
   "source": [
    "lista = list(range(1, 11))\n",
    "# Esto se lee así\n",
    "for i in lista : #  por cada elemento de la lista\n",
    "    if i > 3: # si es mayor a tres\n",
    "        print(i,'Este número es mayor a tres!!!') # imprime este mensaje\n",
    "    else : # Este es el entonces !!!\n",
    "        print(i, 'Es un # menor a tres!!')"
   ]
  },
  {
   "cell_type": "markdown",
   "metadata": {},
   "source": [
    "## Función pass\n",
    "\n",
    "Se uiliza para seguir o saltar una condicón una vez se encuentre"
   ]
  },
  {
   "cell_type": "code",
   "execution_count": 30,
   "metadata": {},
   "outputs": [
    {
     "name": "stdout",
     "output_type": "stream",
     "text": [
      "1\n",
      "2\n",
      "3\n",
      "5\n",
      "6\n",
      "7\n",
      "8\n",
      "9\n",
      "10\n"
     ]
    }
   ],
   "source": [
    "lista = list(range(1, 11))\n",
    "\n",
    "for i in lista :\n",
    "    if  i==4 :\n",
    "        pass\n",
    "    else :\n",
    "       print(i) "
   ]
  },
  {
   "cell_type": "code",
   "execution_count": 7,
   "metadata": {},
   "outputs": [
    {
     "name": "stdout",
     "output_type": "stream",
     "text": [
      "1\n",
      "2\n",
      "3\n"
     ]
    }
   ],
   "source": [
    "lista = list(range(1, 11))\n",
    "\n",
    "for i in lista :\n",
    "    if  2<= i >=4 :\n",
    "        pass\n",
    "    else :\n",
    "       print(i) "
   ]
  },
  {
   "cell_type": "code",
   "execution_count": 24,
   "metadata": {},
   "outputs": [
    {
     "name": "stdout",
     "output_type": "stream",
     "text": [
      "Explorando\n",
      "{'Nombre del estudiante': ['Claudia', 'Karem está?', 'Carlos Alberto'], 'Notas': [3, 2, 4]}\n",
      "<class 'dict'>\n"
     ]
    }
   ],
   "source": [
    "### crear una dataframe con base a un diccionario\n",
    "clase = {'Nombre del estudiante':['Claudia','Karem está?','Carlos Alberto'],\n",
    "        'Notas':[3,2,4]}\n",
    "print('Explorando')\n",
    "print(clase)\n",
    "print(type(clase))"
   ]
  },
  {
   "cell_type": "code",
   "execution_count": 26,
   "metadata": {},
   "outputs": [
    {
     "data": {
      "text/plain": [
       "[3, 2, 4]"
      ]
     },
     "execution_count": 26,
     "metadata": {},
     "output_type": "execute_result"
    }
   ],
   "source": [
    "clase['Notas']"
   ]
  },
  {
   "cell_type": "code",
   "execution_count": 28,
   "metadata": {},
   "outputs": [
    {
     "name": "stdout",
     "output_type": "stream",
     "text": [
      "  Nombre del estudiante  Notas\n",
      "0               Claudia      3\n",
      "1           Karem está?      2\n",
      "2        Carlos Alberto      4\n",
      "<class 'pandas.core.frame.DataFrame'>\n"
     ]
    }
   ],
   "source": [
    "## Transformando en base de datos\n",
    "import pandas as pd \n",
    "clase_2 = pd.DataFrame(clase)\n",
    "print(clase_2)\n",
    "print(type(clase_2))"
   ]
  },
  {
   "cell_type": "code",
   "execution_count": 33,
   "metadata": {},
   "outputs": [
    {
     "data": {
      "text/plain": [
       "<BarContainer object of 3 artists>"
      ]
     },
     "execution_count": 33,
     "metadata": {},
     "output_type": "execute_result"
    },
    {
     "data": {
      "image/png": "[encoded data removed]",
      "text/plain": [
       "<Figure size 432x288 with 1 Axes>"
      ]
     },
     "metadata": {
      "needs_background": "light"
     },
     "output_type": "display_data"
    }
   ],
   "source": [
    "import matplotlib.pyplot as plt\n",
    "plt.bar(clase_2['Nombre del estudiante'],clase_2['Notas'])"
   ]
  },
  {
   "cell_type": "code",
   "execution_count": 45,
   "metadata": {},
   "outputs": [
    {
     "data": {
      "text/plain": [
       "<BarContainer object of 3 artists>"
      ]
     },
     "execution_count": 45,
     "metadata": {},
     "output_type": "execute_result"
    },
    {
     "data": {
      "image/png": "[encoded data removed]",
      "text/plain": [
       "<Figure size 432x288 with 1 Axes>"
      ]
     },
     "metadata": {
      "needs_background": "light"
     },
     "output_type": "display_data"
    }
   ],
   "source": [
    "sorted = clase_2.sort_values(by='Notas',ascending=False)\n",
    "plt.bar(sorted['Nombre del estudiante'],sorted['Notas'])"
   ]
  },
  {
   "cell_type": "code",
   "execution_count": null,
   "metadata": {},
   "outputs": [],
   "source": []
  },
  {
   "cell_type": "code",
   "execution_count": 46,
   "metadata": {},
   "outputs": [
    {
     "data": {
      "text/plain": [
       "0     True\n",
       "1    False\n",
       "2     True\n",
       "Name: Notas, dtype: bool"
      ]
     },
     "execution_count": 46,
     "metadata": {},
     "output_type": "execute_result"
    }
   ],
   "source": [
    "clase_2['Notas']>2"
   ]
  },
  {
   "cell_type": "code",
   "execution_count": 12,
   "metadata": {},
   "outputs": [
    {
     "name": "stdout",
     "output_type": "stream",
     "text": [
      "Este estudiante se llama así: Claudia\n",
      "Este estudiante se llama así: Karem está?\n",
      "Este estudiante se llama así: Carlos Alberto\n"
     ]
    }
   ],
   "source": [
    "for i in clase_2['Nombre del estudiante']:\n",
    "    print('Este estudiante se llama así:',i)"
   ]
  },
  {
   "cell_type": "code",
   "execution_count": 19,
   "metadata": {},
   "outputs": [
    {
     "name": "stdout",
     "output_type": "stream",
     "text": [
      "CPU times: user 1e+03 ns, sys: 0 ns, total: 1e+03 ns\n",
      "Wall time: 3.1 µs\n",
      "Claudia tiene una nota mayor a dos y esta es su nota 3\n",
      "Karem está? tiene una nota menor a dos y esta es su nota 2\n",
      "Carlos Alberto tiene una nota mayor a dos y esta es su nota 4\n"
     ]
    }
   ],
   "source": [
    "%time\n",
    "nombres = clase_2['Nombre del estudiante']\n",
    "notas = clase_2['Notas']\n",
    "\n",
    "for nombre,nota in zip(nombres,notas):\n",
    "    if nota >2 :\n",
    "        print('{} tiene una nota mayor a dos y esta es su nota {}'.format(nombre,nota))\n",
    "    else :\n",
    "        print('{} tiene una nota menor a dos y esta es su nota {}'.format(nombre, nota))"
   ]
  },
  {
   "cell_type": "code",
   "execution_count": 22,
   "metadata": {},
   "outputs": [
    {
     "name": "stdout",
     "output_type": "stream",
     "text": [
      "Claudia tiene una nota mayor a dos y esta es su nota 3\n",
      "Karem está? tiene una nota menor a dos y esta es su nota 2\n",
      "Carlos Alberto tiene una nota mayor a dos y esta es su nota 4\n"
     ]
    }
   ],
   "source": [
    "\n",
    "nombres = clase_2[\"Nombre del estudiante\"]\n",
    "notas = clase_2[\"Notas\"]\n",
    "\n",
    "for nombre,nota in zip(nombres,notas):\n",
    "    if nota >2 :\n",
    "        print(\"{} tiene una nota mayor a dos y esta es su nota {}\".format(nombre,nota))\n",
    "    else :\n",
    "        print(\"{} tiene una nota menor a dos y esta es su nota {}\".format(nombre, nota))"
   ]
  },
  {
   "cell_type": "code",
   "execution_count": 23,
   "metadata": {},
   "outputs": [
    {
     "name": "stdout",
     "output_type": "stream",
     "text": [
      "Claudia  Tiene una nota mayor a dos y su nota es : 3\n",
      "Karem está?  Tiene una nota menor a dos y su nota es : 2\n",
      "Carlos Alberto  Tiene una nota mayor a dos y su nota es : 4\n"
     ]
    }
   ],
   "source": [
    "for nombre,nota in zip(nombres,notas):\n",
    "    if nota >2 :\n",
    "        print(nombre,\" Tiene una nota mayor a dos y su nota es :\", nota)\n",
    "    else :\n",
    "        print(nombre,\" Tiene una nota menor a dos y su nota es :\", nota)"
   ]
  },
  {
   "cell_type": "code",
   "execution_count": null,
   "metadata": {},
   "outputs": [],
   "source": []
  },
  {
   "cell_type": "markdown",
   "metadata": {},
   "source": [
    "## Bucles\n",
    "\n",
    "Sucesión de pasos !!!\n",
    "\n",
    "![](https://quantdare.com/wp-content/uploads/2014/09/sin-tc3adtulo9.png)"
   ]
  },
  {
   "cell_type": "code",
   "execution_count": 54,
   "metadata": {},
   "outputs": [],
   "source": [
    "def fib(n): # El limite de donde no debe pasar.\n",
    "    a, b = 0,1\n",
    "    while a < n: ## Acá esta el bucle\n",
    "        print(a, end=' ')\n",
    "        a, b = b, a+b\n",
    "    print()"
   ]
  },
  {
   "cell_type": "code",
   "execution_count": 55,
   "metadata": {},
   "outputs": [
    {
     "name": "stdout",
     "output_type": "stream",
     "text": [
      "0 1 1 2 3 5 8 \n"
     ]
    }
   ],
   "source": [
    "fib(10)"
   ]
  },
  {
   "cell_type": "code",
   "execution_count": 57,
   "metadata": {},
   "outputs": [],
   "source": [
    "## Veamos otro ejemplo\n",
    "## Este código no se corre acá \n",
    "def run():\n",
    "    limite = 1000\n",
    "\n",
    "    valor_inicial = 0\n",
    "    \n",
    "    valor_anexar = 1 + valor_inicial\n",
    "    \n",
    "    '''Acá vamos hacer el bucle'''\n",
    "    while valor_anexar < limite:\n",
    "        print(valor_anexar)\n",
    "        valor_inicial = valor_inicial + 1\n",
    "        valor_anexar = valor_inicial + 1\n",
    "\n"
   ]
  },
  {
   "cell_type": "markdown",
   "metadata": {},
   "source": [
    "## Guardando  datos -Listas- \n"
   ]
  },
  {
   "cell_type": "code",
   "execution_count": 59,
   "metadata": {},
   "outputs": [
    {
     "data": {
      "text/plain": [
       "list"
      ]
     },
     "execution_count": 59,
     "metadata": {},
     "output_type": "execute_result"
    }
   ],
   "source": [
    "varios_numeros = [1,2,3,4,5,6,6,4,3,2,1]\n",
    "type(varios_numeros)"
   ]
  },
  {
   "cell_type": "code",
   "execution_count": 60,
   "metadata": {},
   "outputs": [
    {
     "data": {
      "text/plain": [
       "2"
      ]
     },
     "execution_count": 60,
     "metadata": {},
     "output_type": "execute_result"
    }
   ],
   "source": [
    "## Accediendo a elementos de las listas\n",
    "varios_numeros[1]"
   ]
  },
  {
   "cell_type": "code",
   "execution_count": 62,
   "metadata": {},
   "outputs": [
    {
     "data": {
      "text/plain": [
       "1"
      ]
     },
     "execution_count": 62,
     "metadata": {},
     "output_type": "execute_result"
    }
   ],
   "source": [
    "varios_numeros[-1]"
   ]
  },
  {
   "cell_type": "code",
   "execution_count": 63,
   "metadata": {},
   "outputs": [
    {
     "name": "stdout",
     "output_type": "stream",
     "text": [
      "1 Este número es menor a Cinco\n",
      "2 Este número es menor a Cinco\n",
      "3 Este número es menor a Cinco\n",
      "4 Este número es menor a Cinco\n",
      "6 Este # es mayor a Cinco\n",
      "6 Este # es mayor a Cinco\n",
      "4 Este número es menor a Cinco\n",
      "3 Este número es menor a Cinco\n",
      "2 Este número es menor a Cinco\n",
      "1 Este número es menor a Cinco\n"
     ]
    }
   ],
   "source": [
    "for i in varios_numeros:\n",
    "    if i > 5 :\n",
    "        print(i,'Este # es mayor a Cinco')\n",
    "    elif i < 5 :\n",
    "        print(i,'Este número es menor a Cinco') "
   ]
  },
  {
   "cell_type": "code",
   "execution_count": 74,
   "metadata": {},
   "outputs": [
    {
     "data": {
      "text/plain": [
       "[1, 2, 3]"
      ]
     },
     "execution_count": 74,
     "metadata": {},
     "output_type": "execute_result"
    }
   ],
   "source": [
    "varios_numeros[0:3]"
   ]
  },
  {
   "cell_type": "markdown",
   "metadata": {},
   "source": [
    "## Tuplas\n",
    "\n",
    "Son colecciones de elementos que no se puedan modificar."
   ]
  },
  {
   "cell_type": "code",
   "execution_count": 75,
   "metadata": {},
   "outputs": [
    {
     "data": {
      "text/plain": [
       "tuple"
      ]
     },
     "execution_count": 75,
     "metadata": {},
     "output_type": "execute_result"
    }
   ],
   "source": [
    "tupla = (1,2,3,4,5,6,5,4,3,2,1,1)\n",
    "type(tupla)"
   ]
  },
  {
   "cell_type": "code",
   "execution_count": 76,
   "metadata": {},
   "outputs": [
    {
     "name": "stdout",
     "output_type": "stream",
     "text": [
      "================================\n",
      "Agregando elementos a la lista\n",
      "[1, 2, 3, 4, 5, 6, 5, 4, 3, 2, 1, 1, 11]\n",
      "================================\n"
     ]
    }
   ],
   "source": [
    "## Diferencia con listas\n",
    "## Con el comando .append() se agregan elementos a las listas\n",
    "lista = [1,2,3,4,5,6,5,4,3,2,1,1]\n",
    "type(lista)\n",
    "print('='*32)\n",
    "print('Agregando elementos a la lista')\n",
    "lista.append(11)\n",
    "print(lista)\n",
    "print('='*32)\n"
   ]
  },
  {
   "cell_type": "code",
   "execution_count": 78,
   "metadata": {},
   "outputs": [
    {
     "name": "stdout",
     "output_type": "stream",
     "text": [
      "================================\n",
      "Agregando elementos a la tupla\n"
     ]
    },
    {
     "ename": "AttributeError",
     "evalue": "'tuple' object has no attribute 'append'",
     "output_type": "error",
     "traceback": [
      "\u001b[0;31m---------------------------------------------------------------------------\u001b[0m",
      "\u001b[0;31mAttributeError\u001b[0m                            Traceback (most recent call last)",
      "\u001b[0;32m/var/folders/15/s_fc4vts7xv9w8r90nhtn5z80000gn/T/ipykernel_4520/2282695810.py\u001b[0m in \u001b[0;36m<module>\u001b[0;34m\u001b[0m\n\u001b[1;32m      3\u001b[0m \u001b[0mprint\u001b[0m\u001b[0;34m(\u001b[0m\u001b[0;34m'='\u001b[0m\u001b[0;34m*\u001b[0m\u001b[0;36m32\u001b[0m\u001b[0;34m)\u001b[0m\u001b[0;34m\u001b[0m\u001b[0;34m\u001b[0m\u001b[0m\n\u001b[1;32m      4\u001b[0m \u001b[0mprint\u001b[0m\u001b[0;34m(\u001b[0m\u001b[0;34m'Agregando elementos a la tupla'\u001b[0m\u001b[0;34m)\u001b[0m\u001b[0;34m\u001b[0m\u001b[0;34m\u001b[0m\u001b[0m\n\u001b[0;32m----> 5\u001b[0;31m \u001b[0mtupla\u001b[0m\u001b[0;34m.\u001b[0m\u001b[0mappend\u001b[0m\u001b[0;34m(\u001b[0m\u001b[0;36m11\u001b[0m\u001b[0;34m)\u001b[0m\u001b[0;34m\u001b[0m\u001b[0;34m\u001b[0m\u001b[0m\n\u001b[0m\u001b[1;32m      6\u001b[0m \u001b[0mprint\u001b[0m\u001b[0;34m(\u001b[0m\u001b[0mtupla\u001b[0m\u001b[0;34m)\u001b[0m\u001b[0;34m\u001b[0m\u001b[0;34m\u001b[0m\u001b[0m\n\u001b[1;32m      7\u001b[0m \u001b[0mprint\u001b[0m\u001b[0;34m(\u001b[0m\u001b[0;34m'='\u001b[0m\u001b[0;34m*\u001b[0m\u001b[0;36m32\u001b[0m\u001b[0;34m)\u001b[0m\u001b[0;34m\u001b[0m\u001b[0;34m\u001b[0m\u001b[0m\n",
      "\u001b[0;31mAttributeError\u001b[0m: 'tuple' object has no attribute 'append'"
     ]
    }
   ],
   "source": [
    "tupla = (1,2,3,4,5,6,5,4,3,2,1,1)\n",
    "type(tupla)\n",
    "print('='*32)\n",
    "print('Agregando elementos a la tupla')\n",
    "tupla.append(11)\n",
    "print(tupla)\n",
    "print('='*32)"
   ]
  },
  {
   "cell_type": "markdown",
   "metadata": {},
   "source": [
    "## Tarea Final!!!\n",
    "\n",
    "1. Cree una función que cambie grados celsius a fahrenheit\n",
    "2. Cree una lista (con un for) de # del 1 al 1363 \n",
    "3. Con base al punto anterior cree un for que solo imprima todos los # de la lista que son divisibles entre tres!!\n",
    "\n",
    "Punto Extra\n",
    "4.  Escriba una función que el output sea el siguiente\n",
    "\n",
    "   \n",
    "    * * * \n",
    "    * * * * \n",
    "    * * * * * \n",
    "    * * * * \n",
    "    * * * \n",
    "\n",
    "\n",
    "\n"
   ]
  }
 ],
 "metadata": {
  "interpreter": {
   "hash": "31f2aee4e71d21fbe5cf8b01ff0e069b9275f58929596ceb00d14d90e3e16cd6"
  },
  "kernelspec": {
   "display_name": "Python 3.8.2 64-bit",
   "name": "python3"
  },
  "language_info": {
   "codemirror_mode": {
    "name": "ipython",
    "version": 3
   },
   "file_extension": ".py",
   "mimetype": "text/x-python",
   "name": "python",
   "nbconvert_exporter": "python",
   "pygments_lexer": "ipython3",
   "version": "3.7.10"
  },
  "orig_nbformat": 4
 },
 "nbformat": 4,
 "nbformat_minor": 2
}

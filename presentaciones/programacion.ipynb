{
 "cells": [
  {
   "cell_type": "markdown",
   "metadata": {},
   "source": [
    "## Programación eficiente en python\n",
    "\n",
    "Profesor : [Daniel Jiménez](https://www.danieljimenezm.com/)\n",
    "\n",
    "Institución : [Universidad Nacional de Colombia ](https://unal.edu.co/)\n",
    "\n",
    "Objetivo : Presentar  al participante las buenas prácticas a la hora de programar en Python, por lo tanto en este modulo aprenderemos a :\n",
    "\n",
    "* Omitir el uso de Loops cuando sea posible,\n",
    "* Evaluar el uso de memoría y tiempos de ejecución de códigos\n",
    "* Uso de funciones map y lambda\n"
   ]
  },
  {
   "cell_type": "markdown",
   "metadata": {},
   "source": [
    "## ¿Qué es la programación eficiente?\n",
    "\n",
    "Puntualmente se dice que un código está optimizado cuando su tiempo de ejecución es mínimo al igual que el uso de memoria. Esto es una practica en el mundo de desarrollo de software que se aplica al area de Machine Learning Operation \n",
    "\n",
    "![](https://miro.medium.com/max/1000/1*wr7uGBu9Kb918igOxhJVlA.jpeg)\n",
    "\n",
    "*Imagen tomada de : https://towardsdatascience.com/what-is-mlops-everything-you-must-know-to-get-started-523f2d0b8bd8*\n",
    "\n"
   ]
  },
  {
   "cell_type": "markdown",
   "metadata": {},
   "source": [
    "Dicho lo anterior, la eficiencia de código es una disciplina de la ciencia de datos llevada a sistemas de desarrollo (Devops) donde se estandarizan procesos, en donde se busca llevar modelos, reportes o análisis a producción\n",
    "\n",
    "## Un poco de contexto sobre MLOps\n",
    "\n",
    "El Machine Learning Ops nace del ciclo de vida de la analítica y de los modelos de Machine Learning  en donde se tiene en cuenta \n",
    "\n",
    "* El origen y el entendimiento del problema a resolver\n",
    "* El proceso de ingenieria de datos (procesos)\n",
    "* La capa tecnológica \n",
    "\n",
    "Dicho lo anterior las fases a tener presente son:\n",
    "\n",
    "1. ¿Qué tipo de almacenamiento se va a tener sobre los datos?\n",
    "2. ¿Cómo se evidencian los cambios con respecto a las reglas del proyecto?\n",
    "3. ¿Cómo se comunica los hallazgos de este proyecto?\n",
    "4. ¿Cómo se evalua los riesgos del proyecto?\n",
    "\n",
    "## Arquitectura del proyecto y la necesidad de programación eficiente\n",
    "\n",
    "Lo primero a tener en cuenta es una investigación de las siguientes herramientas (inputs en este caso)\n",
    "\n",
    "1. Tener los dataset necesarios\n",
    "2. Validar la integralidad de los datos\n",
    "3. Las formas de acceder a los datos\n",
    "4. Cómo generar los pipelines para el trabajo con datos\n",
    "5. __Cómo se ejecuta un código de preparación de datos con eficiencia?__\n",
    "\n",
    "## Preparación de datos\n",
    "\n",
    "De antemano : __Este es el proceso que más tiempo toma a la hora de trabajar con datos__\n",
    "\n",
    "El trababajo de preparación de datos involucra la limpieza, estandarización, normalización y creación de ingenieria de caracteristica en un set de datos.\n",
    "\n",
    "Completar este trabajo requiere de buenas practicas en la creación de querys \n"
   ]
  },
  {
   "cell_type": "code",
   "execution_count": 3,
   "metadata": {},
   "outputs": [],
   "source": [
    "## Librerias requeridas\n",
    "import pandas as pd\n",
    "import numpy as np\n",
    "import sys\n",
    "# !pip install line_profiler\n",
    "import line_profiler\n"
   ]
  },
  {
   "cell_type": "markdown",
   "metadata": {},
   "source": [
    "## Formas de escribir una función "
   ]
  },
  {
   "cell_type": "code",
   "execution_count": 15,
   "metadata": {},
   "outputs": [
    {
     "name": "stdout",
     "output_type": "stream",
     "text": [
      "Este es un código algo lento e ineficiente\n",
      "CPU times: user 2 µs, sys: 1 µs, total: 3 µs\n",
      "Wall time: 4.77 µs\n",
      "[2, 4, 6, 8, 10, 12, 14, 16, 18, 20, 22, 24, 26, 28, 30, 32, 34, 36, 38, 40, 42, 44, 46, 48, 50, 52, 54, 56, 58, 60, 62, 64, 66, 68, 70, 72, 74, 76, 78, 80, 82, 84, 86, 88, 90, 92, 94, 96, 98, 100, 102, 104, 106, 108, 110, 112, 114, 116, 118, 120, 122, 124, 126, 128, 130, 132, 134, 136, 138, 140, 142, 144, 146, 148, 150, 152, 154, 156, 158, 160, 162, 164, 166, 168, 170, 172, 174, 176, 178, 180, 182, 184, 186, 188, 190, 192, 194, 196, 198, 200]\n",
      "Los tiempos que vemos acá son en microsegundos\n"
     ]
    }
   ],
   "source": [
    "## Notesé el timepo que toma esta función \n",
    "print('Este es un código algo lento e ineficiente')\n",
    "nums = list(range(1,101))\n",
    "double = []\n",
    "%time \n",
    "for i in range(len(nums)):\n",
    "    double.append(nums[i] * 2)\n",
    "print(double)\n",
    "print('Los tiempos que vemos acá son en microsegundos')"
   ]
  },
  {
   "cell_type": "code",
   "execution_count": 16,
   "metadata": {},
   "outputs": [
    {
     "name": "stdout",
     "output_type": "stream",
     "text": [
      "Este es un código super eficiente\n",
      "CPU times: user 2 µs, sys: 0 ns, total: 2 µs\n",
      "Wall time: 4.05 µs\n",
      "[2, 4, 6, 8, 10, 12, 14, 16, 18, 20, 22, 24, 26, 28, 30, 32, 34, 36, 38, 40, 42, 44, 46, 48, 50, 52, 54, 56, 58, 60, 62, 64, 66, 68, 70, 72, 74, 76, 78, 80, 82, 84, 86, 88, 90, 92, 94, 96, 98, 100, 102, 104, 106, 108, 110, 112, 114, 116, 118, 120, 122, 124, 126, 128, 130, 132, 134, 136, 138, 140, 142, 144, 146, 148, 150, 152, 154, 156, 158, 160, 162, 164, 166, 168, 170, 172, 174, 176, 178, 180, 182, 184, 186, 188, 190, 192, 194, 196, 198, 200]\n"
     ]
    }
   ],
   "source": [
    "## Notese la misma salida de manera eficiente print('Este es un código algo lento e ineficiente')\n",
    "print('Este es un código super eficiente')\n",
    "nums = list(range(1,101))\n",
    "double = []\n",
    "%time\n",
    "double = [x * 2 for x in nums]\n",
    "print(double)"
   ]
  },
  {
   "cell_type": "code",
   "execution_count": null,
   "metadata": {},
   "outputs": [],
   "source": [
    "## Goal: Solo quiero ver aquellos nombres que tengan al menos 5 letras\n",
    "# Notese que este código es altamente lento porque recorre cada elemento o input dentro de nombres\n",
    "\n",
    "nombres = ['Jorge', 'Karem está?', 'Claudia', 'Ian', 'Will','Carlos','Alicia','Emilia','Flor']\n",
    "i = 0\n",
    "nueva_lista =[]\n",
    "%timeit\n",
    "while i < len(nombres):\n",
    "    if len(nombres[i]) >=5 :\n",
    "        nueva_lista.append(nombres[i])\n",
    "        i +=1\n",
    "print(nueva_lista)"
   ]
  },
  {
   "cell_type": "code",
   "execution_count": 20,
   "metadata": {},
   "outputs": [
    {
     "name": "stdout",
     "output_type": "stream",
     "text": [
      "CPU times: user 1e+03 ns, sys: 1 µs, total: 2 µs\n",
      "Wall time: 4.05 µs\n",
      "['Jorge', 'Karem está?', 'Claudia', 'Carlos', 'Alicia', 'Emilia']\n"
     ]
    }
   ],
   "source": [
    "## Ahora un código más eficiente \n",
    "nombres = ['Jorge', 'Karem está?', 'Claudia', 'Ian', 'Will','Carlos','Alicia','Emilia','Flor']\n",
    "una_lista_optima = []\n",
    "%time\n",
    "for nombre in nombres:\n",
    "    if len(nombre) >= 5:\n",
    "        una_lista_optima.append(nombre)\n",
    "print(una_lista_optima)"
   ]
  },
  {
   "cell_type": "code",
   "execution_count": 23,
   "metadata": {},
   "outputs": [
    {
     "name": "stdout",
     "output_type": "stream",
     "text": [
      "CPU times: user 1e+03 ns, sys: 0 ns, total: 1e+03 ns\n",
      "Wall time: 2.62 µs\n",
      "['Karem está?', 'Claudia', 'Carlos', 'Alicia', 'Emilia']\n"
     ]
    }
   ],
   "source": [
    "# Ahora un código maestro \n",
    "nombres = ['Jorge', 'Karem está?', 'Claudia', 'Ian', 'Will','Carlos','Alicia','Emilia','Flor']\n",
    "%time\n",
    "una_lista_optima = [nombre for nombre in nombres if len(nombre) >= 6]\n",
    "print(una_lista_optima)"
   ]
  },
  {
   "cell_type": "markdown",
   "metadata": {},
   "source": [
    "Notesé que se reducen los tiempos de manera importante"
   ]
  },
  {
   "cell_type": "markdown",
   "metadata": {},
   "source": [
    "## Introducción a la función MAP\n",
    "\n",
    "Según reza la definición de geeks for geeks\n",
    "\n",
    "> \"map() function returns a map object(which is an iterator) of the results after applying the given function to each item of a given iterable (list, tuple etc.)\"\n"
   ]
  },
  {
   "cell_type": "code",
   "execution_count": 38,
   "metadata": {},
   "outputs": [
    {
     "name": "stdout",
     "output_type": "stream",
     "text": [
      "Lista de números aleatorios decimales [25.51055899 11.61377221 24.37842815  9.55904249 27.76606532]\n",
      "Aplicando el map para redonderar los números\n",
      "================================\n",
      "Estos son los resultados redondeados [26, 12, 24, 10, 28]\n"
     ]
    }
   ],
   "source": [
    "## Implementando un map para mutiples funciones \n",
    "# suponga que quiere redondear los siguientes números \n",
    "\n",
    "lista = np.random.uniform(1,30,5)\n",
    "print('Lista de números aleatorios decimales', lista)\n",
    "print('Aplicando el map para redonderar los números')\n",
    "print('='*32)\n",
    "lista_nueva = map(round,lista)\n",
    "print('Estos son los resultados redondeados', list(lista_nueva))\n"
   ]
  },
  {
   "cell_type": "code",
   "execution_count": 39,
   "metadata": {},
   "outputs": [
    {
     "name": "stdout",
     "output_type": "stream",
     "text": [
      "<class 'map'>\n"
     ]
    }
   ],
   "source": [
    "## Notese que cuando guardo la la nueva lista sin el list este es el resultado\n",
    "lista_nueva = map(round,lista)\n",
    "print(type(lista_nueva))"
   ]
  },
  {
   "cell_type": "code",
   "execution_count": 40,
   "metadata": {},
   "outputs": [
    {
     "data": {
      "text/plain": [
       "[26, 12, 24, 10, 28]"
      ]
     },
     "execution_count": 40,
     "metadata": {},
     "output_type": "execute_result"
    }
   ],
   "source": [
    "## Podemos usar list para desempaquetar los números pero hay una versión más eficiente que usted siempre usará\n",
    "[*lista_nueva]"
   ]
  },
  {
   "cell_type": "markdown",
   "metadata": {},
   "source": [
    "## Tarea #1\n",
    "\n",
    "1. Haga una plana con un for loop que diga que siempre usará [*] para desempaquetar listas\n",
    "2. haga 10 ejemplos entre palabras, números y operaciones matemáticas con las formas de óptimizar código mostrando los tiempos de ejecución con el comando %time o %timeit "
   ]
  },
  {
   "cell_type": "code",
   "execution_count": 41,
   "metadata": {},
   "outputs": [
    {
     "name": "stdout",
     "output_type": "stream",
     "text": [
      "[1, 4, 9, 16, 25, 36, 49, 64, 81, 100, 121, 144, 169, 196, 225, 256, 289, 324, 361, 400, 441, 484, 529, 576, 625, 676, 729, 784, 841, 900, 961, 1024, 1089, 1156, 1225, 1296, 1369, 1444, 1521, 1600, 1681, 1764, 1849, 1936, 2025, 2116, 2209, 2304, 2401, 2500, 2601, 2704, 2809, 2916, 3025, 3136, 3249, 3364, 3481, 3600, 3721, 3844, 3969, 4096, 4225, 4356, 4489, 4624, 4761, 4900, 5041, 5184, 5329, 5476, 5625, 5776, 5929, 6084, 6241, 6400, 6561, 6724, 6889, 7056, 7225, 7396, 7569, 7744, 7921, 8100, 8281, 8464, 8649, 8836, 9025, 9216, 9409, 9604, 9801]\n"
     ]
    }
   ],
   "source": [
    "# Ahora usando funciones Lambda \n",
    "numeros = list(range(1,100))\n",
    "cuadrados = list(map(lambda x: x**2, numeros))\n",
    "print(cuadrados)"
   ]
  },
  {
   "cell_type": "markdown",
   "metadata": {},
   "source": [
    "## Agregando Index \n"
   ]
  },
  {
   "cell_type": "code",
   "execution_count": 51,
   "metadata": {},
   "outputs": [
    {
     "name": "stdout",
     "output_type": "stream",
     "text": [
      "CPU times: user 3 µs, sys: 1 µs, total: 4 µs\n",
      "Wall time: 6.2 µs\n",
      "[(0, 'Jorge'), (1, 'Karem está?'), (2, 'Claudia'), (3, 'Ian'), (4, 'Will'), (5, 'Carlos'), (6, 'Alicia'), (7, 'Emilia'), (8, 'Flor')]\n"
     ]
    }
   ],
   "source": [
    "nombres = ['Jorge', 'Karem está?', 'Claudia', 'Ian', 'Will','Carlos','Alicia','Emilia','Flor']\n",
    "indexando_nombres = []\n",
    "%time\n",
    "for i,nombre in enumerate(nombres):\n",
    "    index_nombre = (i,nombre)\n",
    "    indexando_nombres.append(index_nombre)\n",
    "\n",
    "print(indexando_nombres)"
   ]
  },
  {
   "cell_type": "code",
   "execution_count": 52,
   "metadata": {},
   "outputs": [
    {
     "name": "stdout",
     "output_type": "stream",
     "text": [
      "CPU times: user 2 µs, sys: 1 µs, total: 3 µs\n",
      "Wall time: 4.05 µs\n",
      "[(0, 'Jorge'), (1, 'Karem está?'), (2, 'Claudia'), (3, 'Ian'), (4, 'Will'), (5, 'Carlos'), (6, 'Alicia'), (7, 'Emilia'), (8, 'Flor')]\n"
     ]
    }
   ],
   "source": [
    "## Haciendolo de manera eficiente \n",
    "%time \n",
    "indexando_como_gente_decente = [(i, nombre) for i, nombre in enumerate(nombres)]\n",
    "print(indexando_como_gente_decente)"
   ]
  },
  {
   "cell_type": "markdown",
   "metadata": {},
   "source": [
    "## Aprendiendo con funciones inteligentes"
   ]
  },
  {
   "cell_type": "code",
   "execution_count": 53,
   "metadata": {},
   "outputs": [
    {
     "name": "stdout",
     "output_type": "stream",
     "text": [
      "['JORGE', 'KAREM ESTÁ?', 'CLAUDIA', 'IAN', 'WILL', 'CARLOS', 'ALICIA', 'EMILIA', 'FLOR']\n"
     ]
    }
   ],
   "source": [
    "nombres_map = list(map(str.upper,nombres))\n",
    "print(nombres_map)"
   ]
  },
  {
   "cell_type": "code",
   "execution_count": 60,
   "metadata": {},
   "outputs": [
    {
     "name": "stdout",
     "output_type": "stream",
     "text": [
      "CPU times: user 1e+03 ns, sys: 1e+03 ns, total: 2 µs\n",
      "Wall time: 35 µs\n"
     ]
    },
    {
     "data": {
      "text/plain": [
       "array([1, 2])"
      ]
     },
     "execution_count": 60,
     "metadata": {},
     "output_type": "execute_result"
    }
   ],
   "source": [
    "## Filtrando datos de manera eficiente\n",
    "%time\n",
    "nums = [-2,-1,0,1,2]\n",
    "nums_np = np.array(nums)\n",
    "nums_np[nums_np>0]"
   ]
  },
  {
   "cell_type": "code",
   "execution_count": 59,
   "metadata": {},
   "outputs": [
    {
     "name": "stdout",
     "output_type": "stream",
     "text": [
      "CPU times: user 1e+03 ns, sys: 0 ns, total: 1e+03 ns\n",
      "Wall time: 3.1 µs\n",
      "[1, 2]\n"
     ]
    }
   ],
   "source": [
    "%time\n",
    "pos = [num for num in nums if num >0]\n",
    "print(pos)"
   ]
  },
  {
   "cell_type": "markdown",
   "metadata": {},
   "source": [
    "## Explorando a fondo los tiempos de ejecución"
   ]
  },
  {
   "cell_type": "code",
   "execution_count": 66,
   "metadata": {},
   "outputs": [
    {
     "name": "stdout",
     "output_type": "stream",
     "text": [
      "CPU times: user 2 µs, sys: 0 ns, total: 2 µs\n",
      "Wall time: 5.01 µs\n",
      "[0, 1, 2, 3, 4, 5, 6, 7, 8, 9, 10, 11, 12, 13, 14, 15, 16, 17, 18, 19, 20, 21, 22, 23, 24, 25, 26, 27, 28, 29, 30, 31, 32, 33, 34, 35, 36, 37, 38, 39, 40, 41, 42, 43, 44, 45, 46, 47, 48, 49, 50, 51, 52, 53, 54, 55, 56, 57, 58, 59, 60, 61, 62, 63, 64, 65, 66, 67, 68, 69, 70, 71, 72, 73, 74, 75, 76, 77, 78, 79, 80, 81, 82, 83, 84, 85, 86, 87, 88, 89, 90, 91, 92, 93, 94, 95, 96, 97, 98, 99]\n"
     ]
    }
   ],
   "source": [
    "%time\n",
    "nums=[]\n",
    "for x in range(100):\n",
    "    nums.append(x)\n",
    "print(nums)"
   ]
  },
  {
   "cell_type": "code",
   "execution_count": 67,
   "metadata": {},
   "outputs": [
    {
     "name": "stdout",
     "output_type": "stream",
     "text": [
      "CPU times: user 2 µs, sys: 0 ns, total: 2 µs\n",
      "Wall time: 4.29 µs\n",
      "[0, 1, 2, 3, 4, 5, 6, 7, 8, 9, 10, 11, 12, 13, 14, 15, 16, 17, 18, 19, 20, 21, 22, 23, 24, 25, 26, 27, 28, 29, 30, 31, 32, 33, 34, 35, 36, 37, 38, 39, 40, 41, 42, 43, 44, 45, 46, 47, 48, 49, 50, 51, 52, 53, 54, 55, 56, 57, 58, 59, 60, 61, 62, 63, 64, 65, 66, 67, 68, 69, 70, 71, 72, 73, 74, 75, 76, 77, 78, 79, 80, 81, 82, 83, 84, 85, 86, 87, 88, 89, 90, 91, 92, 93, 94, 95, 96, 97, 98, 99]\n"
     ]
    }
   ],
   "source": [
    "%time\n",
    "nums_list_comp = [num for num in range(100)]\n",
    "print(nums_list_comp)"
   ]
  },
  {
   "cell_type": "code",
   "execution_count": 68,
   "metadata": {},
   "outputs": [],
   "source": [
    "## Esto se carga para ver los tiempos de ejecución y memoria de los procesos\n",
    "%load_ext line_profiler"
   ]
  },
  {
   "cell_type": "code",
   "execution_count": 81,
   "metadata": {},
   "outputs": [],
   "source": [
    "## Suponga el siguiente ejercicio\n",
    "\n",
    "personajes = ['El chapulin Colorado','Juan Diego Alvira','Tal cual']\n",
    "alturas = np.array([158.0,181.0,113.0])\n",
    "pesos = np.array([95,101,74])\n",
    "\n",
    "## Ahora creo una función que convierta los datos anteriores\n",
    "\n",
    "def convert_units(personajes,alturas,pesos):\n",
    "    new_hts = [altura / 10 for altura in alturas]\n",
    "    new_wts = [peso * 2.20 for peso in pesos]\n",
    "\n",
    "    personaje_data = {}\n",
    "\n",
    "    for i, personaje in enumerate(personajes):\n",
    "        personaje_data[personaje] = (new_hts[i],new_wts[i])\n",
    "    return personaje_data "
   ]
  },
  {
   "cell_type": "code",
   "execution_count": 82,
   "metadata": {},
   "outputs": [
    {
     "data": {
      "text/plain": [
       "{'El chapulin Colorado': (15.8, 209.00000000000003),\n",
       " 'Juan Diego Alvira': (18.1, 222.20000000000002),\n",
       " 'Tal cual': (11.3, 162.8)}"
      ]
     },
     "execution_count": 82,
     "metadata": {},
     "output_type": "execute_result"
    }
   ],
   "source": [
    "convert_units(personajes,alturas,pesos)"
   ]
  },
  {
   "cell_type": "code",
   "execution_count": 83,
   "metadata": {},
   "outputs": [
    {
     "name": "stdout",
     "output_type": "stream",
     "text": [
      "Timer unit: 1e-06 s\n",
      "\n",
      "Total time: 9.1e-05 s\n",
      "File: <ipython-input-81-ba3a68fa2700>\n",
      "Function: convert_units at line 9\n",
      "\n",
      "Line #      Hits         Time  Per Hit   % Time  Line Contents\n",
      "==============================================================\n",
      "     9                                           def convert_units(personajes,alturas,pesos):\n",
      "    10         1         29.0     29.0     31.9      new_hts = [altura / 10 for altura in alturas]\n",
      "    11         1         49.0     49.0     53.8      new_wts = [peso * 2.20 for peso in pesos]\n",
      "    12                                           \n",
      "    13         1          2.0      2.0      2.2      personaje_data = {}\n",
      "    14                                           \n",
      "    15         4          7.0      1.8      7.7      for i, personaje in enumerate(personajes):\n",
      "    16         3          4.0      1.3      4.4          personaje_data[personaje] = (new_hts[i],new_wts[i])\n",
      "    17         1          0.0      0.0      0.0      return personaje_data"
     ]
    }
   ],
   "source": [
    "%lprun -f convert_units convert_units(personajes,alturas,pesos)"
   ]
  },
  {
   "cell_type": "code",
   "execution_count": 84,
   "metadata": {},
   "outputs": [
    {
     "data": {
      "text/plain": [
       "9104"
      ]
     },
     "execution_count": 84,
     "metadata": {},
     "output_type": "execute_result"
    }
   ],
   "source": [
    "## Eficiencia de la memoria\n",
    "import sys\n",
    "nums_list = [*range(1000)]\n",
    "sys.getsizeof(nums_list) ## Este tamaño lo da en byts"
   ]
  },
  {
   "cell_type": "code",
   "execution_count": 85,
   "metadata": {},
   "outputs": [
    {
     "data": {
      "text/plain": [
       "8096"
      ]
     },
     "execution_count": 85,
     "metadata": {},
     "output_type": "execute_result"
    }
   ],
   "source": [
    "numpy_np = np.array(range(1000))\n",
    "sys.getsizeof(numpy_np)"
   ]
  },
  {
   "cell_type": "code",
   "execution_count": null,
   "metadata": {},
   "outputs": [],
   "source": [
    "## Para validar que lo anterior es necesario grabar el ejercicio"
   ]
  }
 ],
 "metadata": {
  "interpreter": {
   "hash": "0c5cc5288271fec6451dc9bac85032aa47493088c24319f3f34dcbcf86184327"
  },
  "kernelspec": {
   "display_name": "Python 3.8.5 64-bit ('base': conda)",
   "language": "python",
   "name": "python3"
  },
  "language_info": {
   "codemirror_mode": {
    "name": "ipython",
    "version": 3
   },
   "file_extension": ".py",
   "mimetype": "text/x-python",
   "name": "python",
   "nbconvert_exporter": "python",
   "pygments_lexer": "ipython3",
   "version": "3.8.5"
  },
  "orig_nbformat": 4
 },
 "nbformat": 4,
 "nbformat_minor": 2
}

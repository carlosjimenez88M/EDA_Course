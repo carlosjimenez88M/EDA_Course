{
 "cells": [
  {
   "cell_type": "markdown",
   "metadata": {},
   "source": [
    "## Ejemplo principio a fin de trabajo con Pandas\n",
    "\n",
    "* Profesor : [Daniel Jiménez](https://www.danieljimenezm.com/)\n",
    "* Institución: [Universidad Nacional de Colombia](https://unal.edu.co/)\n",
    "\n",
    "__Objetivo:__ En este notebook se desarrollará un ejercicio de principo a fin con pandas y matplotlib para ver el potencial que tienen estos frameworks"
   ]
  },
  {
   "cell_type": "code",
   "execution_count": null,
   "metadata": {},
   "outputs": [],
   "source": [
    "## Librerias necesarias\n",
    "import pandas as pd \n",
    "import matplotlib.pyplot as plt\n",
    "import matplotlib.ticker as mtick\n",
    "import warnings\n",
    "warnings.filterwarnings(\"ignore\")\n",
    "\n",
    "pokemon = pd.read_csv('https://gist.githubusercontent.com/armgilles/194bcff35001e7eb53a2a8b441e8b2c6/raw/92200bc0a673d5ce2110aaad4544ed6c4010f687/pokemon.csv')\n",
    "pokemon = pokemon.drop(['#'],axis=1)"
   ]
  },
  {
   "cell_type": "code",
   "execution_count": null,
   "metadata": {},
   "outputs": [],
   "source": []
  },
  {
   "cell_type": "markdown",
   "metadata": {},
   "source": [
    "## Validando la estructura de los datos"
   ]
  },
  {
   "cell_type": "code",
   "execution_count": null,
   "metadata": {},
   "outputs": [],
   "source": [
    "print('Validando la cantidad de datos')\n",
    "print('='*32)\n",
    "print(pokemon.shape)\n",
    "print('='*32)"
   ]
  },
  {
   "cell_type": "code",
   "execution_count": null,
   "metadata": {},
   "outputs": [],
   "source": [
    "print('Validando la estructura de los datos')\n",
    "print('='*32)\n",
    "print(pokemon.info())\n",
    "print('='*32)"
   ]
  },
  {
   "cell_type": "code",
   "execution_count": null,
   "metadata": {},
   "outputs": [],
   "source": [
    "print('Validando el comportamienton general de los datos')\n",
    "print('='*64)\n",
    "print(pokemon.describe())\n",
    "print('='*64)"
   ]
  },
  {
   "cell_type": "code",
   "execution_count": null,
   "metadata": {},
   "outputs": [],
   "source": [
    "print('Validando la estructura de los datos ')\n",
    "print('='*32)\n",
    "print(pokemon['Name'].dtype)\n",
    "print('='*32)"
   ]
  },
  {
   "cell_type": "markdown",
   "metadata": {},
   "source": [
    "## Se exploraran los datos faltantes de la base de datos de manera ordenada"
   ]
  },
  {
   "cell_type": "code",
   "execution_count": null,
   "metadata": {},
   "outputs": [],
   "source": [
    "print('='*32)\n",
    "print('Para ver la cantidad de datos faltantes')\n",
    "print('='*32)\n",
    "print(pokemon.isnull().sum().sort_values(ascending=False))\n",
    "print('='*32)"
   ]
  },
  {
   "cell_type": "code",
   "execution_count": null,
   "metadata": {},
   "outputs": [],
   "source": [
    "## Visualización de datos faltantes\n",
    "pokemon.isnull().sum().sort_values(ascending=False).plot(kind='bar')"
   ]
  },
  {
   "cell_type": "code",
   "execution_count": null,
   "metadata": {},
   "outputs": [],
   "source": [
    "print('='*64)\n",
    "print('Para ver la cantidad de datos faltantes a nivel %')\n",
    "print('='*64)\n",
    "print((pokemon.isnull().mean()*100).sort_values(ascending=False))\n",
    "print('='*64)"
   ]
  },
  {
   "cell_type": "markdown",
   "metadata": {},
   "source": [
    "## Concatenando variables"
   ]
  },
  {
   "cell_type": "code",
   "execution_count": null,
   "metadata": {},
   "outputs": [],
   "source": [
    "type_of_combined = pokemon['Type 1'].str.cat(pokemon['Type 2'],sep='-',na_rep='nan')\n",
    "type_of_combined"
   ]
  },
  {
   "cell_type": "markdown",
   "metadata": {},
   "source": [
    "## Creando una nueva variable "
   ]
  },
  {
   "cell_type": "code",
   "execution_count": null,
   "metadata": {},
   "outputs": [],
   "source": [
    "pokemon['Type_of_conc'] = type_of_combined\n",
    "pokemon.head()"
   ]
  },
  {
   "cell_type": "markdown",
   "metadata": {},
   "source": [
    "## ¿Cuál es la diferencia en el Attack dado el Type 1 del pokemon?"
   ]
  },
  {
   "cell_type": "code",
   "execution_count": null,
   "metadata": {},
   "outputs": [],
   "source": [
    "pokemon['Type 1'].value_counts(ascending=False)"
   ]
  },
  {
   "cell_type": "code",
   "execution_count": null,
   "metadata": {},
   "outputs": [],
   "source": [
    "pokemon['Type 1'].value_counts(ascending=False).plot(kind='bar')"
   ]
  },
  {
   "cell_type": "code",
   "execution_count": null,
   "metadata": {},
   "outputs": [],
   "source": [
    "pokemon['Type 1'].value_counts(ascending=False, normalize=True)"
   ]
  },
  {
   "cell_type": "code",
   "execution_count": null,
   "metadata": {},
   "outputs": [],
   "source": [
    "(pokemon['Type 1'].value_counts(ascending=False, normalize=True)*100).plot(kind='bar').yaxis.set_major_formatter(mtick.PercentFormatter())\n"
   ]
  },
  {
   "cell_type": "code",
   "execution_count": null,
   "metadata": {},
   "outputs": [],
   "source": [
    "## Entendiendo las diferencias puntuales por grupos\n",
    "import seaborn as sns\n",
    "plt.figure(figsize=(20,10))\n",
    "sns.boxplot(x = \"Type 1\", y = \"Attack\",\n",
    "            data = pokemon) "
   ]
  },
  {
   "cell_type": "code",
   "execution_count": null,
   "metadata": {},
   "outputs": [],
   "source": [
    "## Ordenando la distribución \n",
    "import seaborn as sns\n",
    "plt.figure(figsize=(20,10))\n",
    "my_order = pokemon.groupby(['Type 1'])['Attack'].median().iloc[::-1].sort_values(ascending=False).index\n",
    "sns.boxplot(x = \"Type 1\", \n",
    "            y = \"Attack\",\n",
    "            data = pokemon, order=my_order) \n",
    "plt.title('Distribución del attack dada el Type of del pokemon')\n",
    "plt.ylabel('Nivel del Attack')\n",
    "plt.xlabel('Type of Pokemon')"
   ]
  },
  {
   "cell_type": "code",
   "execution_count": null,
   "metadata": {},
   "outputs": [],
   "source": [
    "## Una forma más elegante de ver esto sería \n",
    "\n",
    "plt.figure(figsize=(20,10))\n",
    "my_order = pokemon.groupby(['Type 1'])['Attack'].median().iloc[::-1].sort_values(ascending=False).index\n",
    "sns.boxplot(y = \"Type 1\", \n",
    "            x = \"Attack\",\n",
    "            data = pokemon, order=my_order) \n",
    "plt.title('Distribución del attack dada el Type of del pokemon')\n",
    "plt.xlabel('Nivel del Attack')\n",
    "plt.ylabel('Type of Pokemon')"
   ]
  },
  {
   "cell_type": "code",
   "execution_count": null,
   "metadata": {},
   "outputs": [],
   "source": [
    "#sns.histplot(data=penguins, x=\"flipper_length_mm\", hue=\"species\")\n",
    "plt.figure(figsize=(20,10))\n",
    "sns.histplot(data=pokemon,x='Attack', hue='Type 1')\n"
   ]
  },
  {
   "cell_type": "code",
   "execution_count": null,
   "metadata": {},
   "outputs": [],
   "source": [
    "sns.jointplot(x='Defense', \n",
    "              y='Speed', \n",
    "              data=pokemon, \n",
    "              color ='green', \n",
    "              kind ='scatter', \n",
    "              hue='Type 1',\n",
    "              size = 8.0)"
   ]
  },
  {
   "cell_type": "code",
   "execution_count": null,
   "metadata": {},
   "outputs": [],
   "source": [
    "sns.jointplot(x='Defense', \n",
    "              y='Speed', \n",
    "              data=pokemon, \n",
    "              color ='orange', \n",
    "              kind ='hex', \n",
    "              size = 8.0)"
   ]
  },
  {
   "cell_type": "code",
   "execution_count": null,
   "metadata": {},
   "outputs": [],
   "source": [
    "plt.figure(figsize=(20,10))\n",
    "g = sns.FacetGrid(pokemon, col='Type 1', col_wrap=3,sharex=True,sharey=True)\n",
    "g.map(plt.hist,'Attack')"
   ]
  },
  {
   "cell_type": "code",
   "execution_count": null,
   "metadata": {},
   "outputs": [],
   "source": [
    "pokemon.groupby(['Type 1'])['Type 2'].value_counts()"
   ]
  },
  {
   "cell_type": "code",
   "execution_count": null,
   "metadata": {},
   "outputs": [],
   "source": [
    "## Tablas cruzadas\n",
    "pd.crosstab(pokemon['Type 1'],pokemon['Generation'])"
   ]
  },
  {
   "cell_type": "code",
   "execution_count": null,
   "metadata": {},
   "outputs": [],
   "source": [
    "table = pd.crosstab(pokemon['Type 1'],pokemon['Generation'])\n",
    "table.plot(kind='bar')\n",
    "plt.show()"
   ]
  },
  {
   "cell_type": "code",
   "execution_count": null,
   "metadata": {},
   "outputs": [],
   "source": [
    "from matplotlib.pyplot import figure\n",
    "plt.rcParams[\"figure.figsize\"] = (20,10)\n",
    "table.plot(kind='bar',stacked = True)"
   ]
  },
  {
   "cell_type": "markdown",
   "metadata": {},
   "source": [
    "## Busqueda de valores anómalos"
   ]
  },
  {
   "cell_type": "code",
   "execution_count": null,
   "metadata": {},
   "outputs": [],
   "source": [
    "import numpy as np\n",
    "def outlier_check(data):\n",
    "\n",
    "   \n",
    "    M = max(data)\n",
    "    m, s = np.mean(data), np.std(data)\n",
    "    \n",
    "   \n",
    "    L, H = m-2*s, m+2*s\n",
    "    \n",
    "    \n",
    "    f, ax = plt.subplots()\n",
    "    f.set_figheight(5)\n",
    "    f.set_figwidth(5)\n",
    "    ax.set_ylim([0,0.025])\n",
    "    ax.set_xlim([0,M])\n",
    "    ax.set_title('\"{}\" outlier detection'.format(data.name))\n",
    "    \n",
    "    \n",
    "    ax.vlines(H, 0, 0.025, color='red', linestyle='dashed')\n",
    "    ax.fill_between(x=[H,M], y1=0.025, color='red', alpha=.05)\n",
    "    \n",
    "    \n",
    "    ax.vlines(L, 0, 0.025, color='red', linestyle='dashed')\n",
    "    ax.fill_between(x=[0,L], y1=0.025, color='red', alpha=.05)\n",
    "    \n",
    "    \n",
    "    sns.distplot(data, ax=ax)\n",
    "    \n",
    "    \n",
    "    return data[(data<L) | (data>H)].index"
   ]
  },
  {
   "cell_type": "code",
   "execution_count": null,
   "metadata": {},
   "outputs": [],
   "source": [
    "stats = pokemon.columns[4:-3]\n",
    "pokemon['Outlier'] = np.zeros((len(pokemon),1))\n",
    "for var in stats:\n",
    "    pokemon.loc[outlier_check(pokemon[var]),'Outlier'] = 1"
   ]
  },
  {
   "cell_type": "code",
   "execution_count": null,
   "metadata": {},
   "outputs": [],
   "source": []
  }
 ],
 "metadata": {
  "interpreter": {
   "hash": "0c5cc5288271fec6451dc9bac85032aa47493088c24319f3f34dcbcf86184327"
  },
  "kernelspec": {
   "display_name": "Python 3.8.5 64-bit ('base': conda)",
   "language": "python",
   "name": "python3"
  },
  "language_info": {
   "codemirror_mode": {
    "name": "ipython",
    "version": 3
   },
   "file_extension": ".py",
   "mimetype": "text/x-python",
   "name": "python",
   "nbconvert_exporter": "python",
   "pygments_lexer": "ipython3",
   "version": "3.10.0"
  },
  "orig_nbformat": 4
 },
 "nbformat": 4,
 "nbformat_minor": 2
}

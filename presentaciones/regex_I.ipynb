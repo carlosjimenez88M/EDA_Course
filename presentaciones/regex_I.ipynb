{
 "cells": [
  {
   "cell_type": "markdown",
   "metadata": {},
   "source": [
    "## Introducción a las expresiones regulares\n",
    "### Universidad Nacional de Colombia\n",
    "* Profesor Principal: [Daniel Jiménez](https://www.danieljimenezm.com/)\n",
    "* Profesor Adjunto : [Daniel Cordoba](https://www.linkedin.com/in/alejandrocordobap/)\n",
    "\n",
    "__Objetivo:__ Introducir al participante del curso en el uso de expresiones regulares, con el objetivo de poder limpiar, tratar y manipular datos de la manera más eficiente y basados en las mejores practicas."
   ]
  },
  {
   "cell_type": "markdown",
   "metadata": {},
   "source": [
    "## Expresiones Regulares\n",
    "\n",
    "|Referencia|Link|\n",
    "|----------|----|\n",
    "|Documentación|[![Open Tutorial](https://img.shields.io/badge/tutorial-3670A0?style=for-the-badge&logo=python&logoColor=ffdd54)](https://www.tutorialspoint.com/python/python_reg_expressions.htm)|\n",
    "|Librería|[![Open library](https://img.shields.io/badge/Open%20in%20library-3670A0?style=for-the-badge&logo=python&logoColor=ffdd54)](https://docs.python.org/3/library/re.html)| \n",
    "|Ejemplo|[![Open in Youtube](https://img.shields.io/static/v1?label=&message=Open%20in%20youtube&labelColor=red&color=blue&logo=youtube)](https://www.youtube.com/watch?v=K8L6KVGG-7o)|"
   ]
  },
  {
   "cell_type": "code",
   "execution_count": 1,
   "metadata": {},
   "outputs": [
    {
     "name": "stdout",
     "output_type": "stream",
     "text": [
      "['autosuperación', 'autosuperación']\n"
     ]
    }
   ],
   "source": [
    "import re \n",
    "\n",
    "txt = \"La autosuperación de moral por veracidad, la autosuperación del moralista en su antítesis, es lo que significa en mi boca el nombre Zaratustra.\"\n",
    "x = re.findall(\"autosuperación\", txt)\n",
    "print(x)"
   ]
  },
  {
   "cell_type": "code",
   "execution_count": 2,
   "metadata": {},
   "outputs": [
    {
     "data": {
      "text/plain": [
       "' autosuperación de moral por veracidad,'"
      ]
     },
     "execution_count": 2,
     "metadata": {},
     "output_type": "execute_result"
    }
   ],
   "source": [
    "txt = \"La autosuperación de moral por veracidad, la autosuperación del moralista en su antítesis, es lo que significa en mi boca el nombre Zaratustra.\"\n",
    "re.search(r'.autosuperación(.*?),', txt).group(0)"
   ]
  },
  {
   "cell_type": "code",
   "execution_count": 3,
   "metadata": {},
   "outputs": [
    {
     "name": "stdout",
     "output_type": "stream",
     "text": [
      "[' de moral por veracidad', ' del moralista en su antítesis']\n"
     ]
    }
   ],
   "source": [
    "txt = \"La autosuperación de moral por veracidad, la autosuperación del moralista en su antítesis, es lo que significa en mi boca el nombre Zaratustra.\"\n",
    "\n",
    "mo = re.findall(\"autosuperación(.*?),\", txt)\n",
    "\n",
    "print(mo)"
   ]
  },
  {
   "cell_type": "markdown",
   "metadata": {},
   "source": [
    "## ¿Qué son las expresiones regulares?\n",
    "\n",
    "![](https://relopezbriega.github.io/images/regex.png)\n",
    "\n",
    "### Definiciones\n",
    "\n",
    "* Secuencia de caracteres que conforman un patrón\n",
    "\n",
    "* Patrones input con diseños definidos \n",
    "\n",
    "* Tipos de lenguajes que tienen presencia en común de un cierto cluster de identidades\n",
    "\n",
    "## Entendiendo un poco los documentos y los patrones"
   ]
  },
  {
   "cell_type": "code",
   "execution_count": 4,
   "metadata": {},
   "outputs": [
    {
     "data": {
      "text/plain": [
       "20"
      ]
     },
     "execution_count": 4,
     "metadata": {},
     "output_type": "execute_result"
    }
   ],
   "source": [
    "input_1 = 'Un nombre cualquiera'\n",
    "len(input_1)"
   ]
  },
  {
   "cell_type": "code",
   "execution_count": 5,
   "metadata": {},
   "outputs": [
    {
     "name": "stdout",
     "output_type": "stream",
     "text": [
      "nomb\n"
     ]
    }
   ],
   "source": [
    "## Extrayendo  un número definido de elementos\n",
    "print(input_1[3:7])"
   ]
  },
  {
   "cell_type": "code",
   "execution_count": 6,
   "metadata": {},
   "outputs": [
    {
     "data": {
      "text/plain": [
       "['Un', 'nombre', 'cualquiera']"
      ]
     },
     "execution_count": 6,
     "metadata": {},
     "output_type": "execute_result"
    }
   ],
   "source": [
    "## Partiendo el texto\n",
    "input_1.split(sep=\" \")"
   ]
  },
  {
   "cell_type": "code",
   "execution_count": 7,
   "metadata": {},
   "outputs": [
    {
     "data": {
      "text/plain": [
       "['Un', 'nombre cualquiera']"
      ]
     },
     "execution_count": 7,
     "metadata": {},
     "output_type": "execute_result"
    }
   ],
   "source": [
    "## Partiendo el texto\n",
    "input_1.split(sep=\" \", maxsplit=1)"
   ]
  },
  {
   "cell_type": "code",
   "execution_count": 8,
   "metadata": {},
   "outputs": [
    {
     "data": {
      "text/plain": [
       "['Un nombre', 'cualquiera']"
      ]
     },
     "execution_count": 8,
     "metadata": {},
     "output_type": "execute_result"
    }
   ],
   "source": [
    "## Haciendo un rsplit\n",
    "input_1.rsplit(sep=\" \", maxsplit=1)"
   ]
  },
  {
   "cell_type": "code",
   "execution_count": 9,
   "metadata": {},
   "outputs": [
    {
     "data": {
      "text/plain": [
       "460"
      ]
     },
     "execution_count": 9,
     "metadata": {},
     "output_type": "execute_result"
    }
   ],
   "source": [
    "## Encontrando patrones \n",
    "\n",
    "maluma = \"\"\"Deja de mentirte (ah)\n",
    "La foto que subiste con él diciendo que era tu cielo\n",
    "Bebé, yo te conozco tan bien, sé que fue pa' darme celos\n",
    "No te diré quién, pero llorando por mí te vieron\n",
    "Por mí te vieron\n",
    "Déjame decirte\n",
    "Se ve que él te trata bien, que es todo un caballero\n",
    "Pero eso no cambiará que yo llegué primero\n",
    "Sé que te va ir bien pero no te quiere como yo te quiero\n",
    "Puede que no te haga falta na', aparentemente na'\n",
    "Hawái de vacaciones, mis felicitaciones\n",
    "Muy lindo en Instagram lo que posteas\n",
    "Pa' que yo vea cómo te va, pa' que yo vea\n",
    "Puede que no te haga falta na', aparentemente na'\n",
    "Hawái de vacaciones, mis felicitaciones\n",
    "Muy lindo en Instagram lo que posteas\n",
    "Pa' que yo vea como te va de bien, pero te haces mal\n",
    "Porque el amor no se compra na'\n",
    "Miéntele a todos tus seguidore'\n",
    "Dile que los tiempo' de ahora son mejore'\n",
    "No creo que cuando te llame me ignores\n",
    "Si después de mí ya no habrán más amores\n",
    "Tú y yo fuimo' uno\n",
    "Lo hacíamo' en ayuna' antes del desayuno\n",
    "Fumábamo' la hookah y te pasaba el humo\n",
    "Y ahora en esta guerra no gana ninguno\n",
    "Si me preguntas, nadie tiene culpa\n",
    "A vece' los problemas a uno se le juntan\n",
    "Déjame hablar, porfa, no me interrumpas\n",
    "Si te hice algo malo, entonces discúlpame\n",
    "La gente te lo va a creer, actúas bien ese papel\n",
    "Baby, pero no eres feliz con él\n",
    "Puede que no te haga falta na', aparentemente na'\n",
    "Hawái de vacaciones, mis felicitaciones\n",
    "Muy lindo en Instagram lo que posteas\n",
    "Pa' que yo vea cómo te va, pa' que yo vea\n",
    "Puede que no te haga falta na', aparentemente na'\n",
    "Hawái de vacaciones, mis felicitaciones\n",
    "Muy lindo en Instagram lo que posteas\n",
    "Pa' que yo vea como te va de bien, pero te haces mal\n",
    "Porque el amor no se compra na'\n",
    "\"\"\"\n",
    "\n",
    "maluma.find('lindo')\n"
   ]
  },
  {
   "cell_type": "code",
   "execution_count": 10,
   "metadata": {},
   "outputs": [
    {
     "data": {
      "text/plain": [
       "['lindo', 'lindo', 'lindo', 'lindo']"
      ]
     },
     "execution_count": 10,
     "metadata": {},
     "output_type": "execute_result"
    }
   ],
   "source": [
    "re.findall(\"lindo\", maluma)"
   ]
  },
  {
   "cell_type": "code",
   "execution_count": 11,
   "metadata": {},
   "outputs": [
    {
     "data": {
      "text/plain": [
       "'Muy lindo en Instagram lo que posteas\\n'"
      ]
     },
     "execution_count": 11,
     "metadata": {},
     "output_type": "execute_result"
    }
   ],
   "source": [
    "re.search(r'(.*)lindo(.*?)\\n', maluma).group()"
   ]
  },
  {
   "cell_type": "code",
   "execution_count": 12,
   "metadata": {},
   "outputs": [
    {
     "data": {
      "text/plain": [
       "10"
      ]
     },
     "execution_count": 12,
     "metadata": {},
     "output_type": "execute_result"
    }
   ],
   "source": [
    "## Contando palabras \n",
    "maluma.count('yo')"
   ]
  },
  {
   "cell_type": "code",
   "execution_count": 13,
   "metadata": {},
   "outputs": [
    {
     "data": {
      "text/plain": [
       "4"
      ]
     },
     "execution_count": 13,
     "metadata": {},
     "output_type": "execute_result"
    }
   ],
   "source": [
    "maluma.count('lindo')"
   ]
  },
  {
   "cell_type": "code",
   "execution_count": 14,
   "metadata": {},
   "outputs": [
    {
     "data": {
      "text/plain": [
       "\"Deja de mentirte (ah)\\nLa foto que subiste con él diciendo que era tu cielo\\nBebé, yo te conozco tan bien, sé que fue pa' darme celos\\nNo te diré quién, pero llorando por mí te vieron\\nPor mí te vieron\\nDéjame decirte\\nSe ve que él te trata bien, que es todo un caballero\\nPero eso no cambiará que yo llegué primero\\nSé que te va ir bien pero no te quiere como yo te quiero\\nPuede que no te haga falta na', aparentemente na'\\nHawái de vacaciones, mis felicitaciones\\nMuy lindo en Instagram lo que posteas\\nPa' que yo vea cómo te va, pa' que yo vea\\nPuede que no te haga falta na', aparentemente na'\\nHawái de vacaciones, mis felicitaciones\\nMuy lindo en Instagram lo que posteas\\nPa' que yo vea como te va de bien, pero te haces mal\\nPorque el amor no se compra na'\\nMiéntele a todos tus seguidores\\nDile que los tiempo' de ahora son mejore'\\nNo creo que cuando te llame me ignores\\nSi después de mí ya no habrán más amores\\nTú y yo fuimo' uno\\nLo hacíamo' en ayuna' antes del desayuno\\nFumábamo' la hookah y te pasaba el humo\\nY ahora en esta guerra no gana ninguno\\nSi me preguntas, nadie tiene culpa\\nA vece' los problemas a uno se le juntan\\nDéjame hablar, porfa, no me interrumpas\\nSi te hice algo malo, entonces discúlpame\\nLa gente te lo va a creer, actúas bien ese papel\\nBaby, pero no eres feliz con él\\nPuede que no te haga falta na', aparentemente na'\\nHawái de vacaciones, mis felicitaciones\\nMuy lindo en Instagram lo que posteas\\nPa' que yo vea cómo te va, pa' que yo vea\\nPuede que no te haga falta na', aparentemente na'\\nHawái de vacaciones, mis felicitaciones\\nMuy lindo en Instagram lo que posteas\\nPa' que yo vea como te va de bien, pero te haces mal\\nPorque el amor no se compra na'\\n\""
      ]
     },
     "execution_count": 14,
     "metadata": {},
     "output_type": "execute_result"
    }
   ],
   "source": [
    "## Reemplazando palabras\n",
    "maluma.replace(\"seguidore'\",\"seguidores\")"
   ]
  },
  {
   "cell_type": "code",
   "execution_count": 15,
   "metadata": {},
   "outputs": [
    {
     "data": {
      "text/plain": [
       "\"Porque el amor no se compra nada'\""
      ]
     },
     "execution_count": 15,
     "metadata": {},
     "output_type": "execute_result"
    }
   ],
   "source": [
    "## Generando sustituciones secuenciales\n",
    "\n",
    "from string import Template\n",
    "fragmento = Template(\"Porque el amor no se compra ${na}'\")\n",
    "fragmento.substitute(na=\"nada\")"
   ]
  },
  {
   "cell_type": "code",
   "execution_count": 16,
   "metadata": {},
   "outputs": [
    {
     "name": "stdout",
     "output_type": "stream",
     "text": [
      "Hay muchos errores ..... ahhhh\n"
     ]
    }
   ],
   "source": [
    "## Creando diccionarios \n",
    "palabras_correctas = dict(hacíamo='hacíamos')\n",
    "\n",
    "fragmento = Template(\"Lo $hacíamo en ayuna' antes del desayuno Fumábamo' la hookah y te pasaba el humo Y ahora en esta guerra no gana ninguno\")\n",
    "\n",
    "try:\n",
    "    print(fragmento.substitute(palabras_correctas))\n",
    "except KeyError:\n",
    "    print('Hay muchos errores ..... ahhhh')\n"
   ]
  },
  {
   "cell_type": "code",
   "execution_count": 17,
   "metadata": {},
   "outputs": [
    {
     "data": {
      "text/plain": [
       "\"Lo hacíamos en ayuna' antes del desayuno Fumábamo'\""
      ]
     },
     "execution_count": 17,
     "metadata": {},
     "output_type": "execute_result"
    }
   ],
   "source": [
    "palabra_correcta = dict(haciamo=\"hacíamos\")\n",
    "fragmento = Template(\"Lo $haciamo en ayuna' antes del desayuno Fumábamo'\")\n",
    "fragmento.safe_substitute(palabra_correcta)"
   ]
  },
  {
   "cell_type": "code",
   "execution_count": 18,
   "metadata": {},
   "outputs": [
    {
     "data": {
      "text/plain": [
       "'Lo hacíamos en ayunas antes del desayuno Fumábamos'"
      ]
     },
     "execution_count": 18,
     "metadata": {},
     "output_type": "execute_result"
    }
   ],
   "source": [
    "## Una forma más eficiente de hacerlo es\n",
    "fragmento = \"Lo hacíamo' en ayuna' antes del desayuno Fumábamo'\"\n",
    "fragmento.replace(\"'\",\"s\")"
   ]
  },
  {
   "cell_type": "markdown",
   "metadata": {},
   "source": [
    "## Estructura de las expresiones regulares\n",
    "\n",
    "con ```\\d``` se extraen dígitos"
   ]
  },
  {
   "cell_type": "code",
   "execution_count": 19,
   "metadata": {},
   "outputs": [
    {
     "data": {
      "text/plain": [
       "['3', '5']"
      ]
     },
     "execution_count": 19,
     "metadata": {},
     "output_type": "execute_result"
    }
   ],
   "source": [
    "random = \"Uno de estos 3 tiene al menos 5 tareas mal\"\n",
    "re.findall(r'\\d',random)"
   ]
  },
  {
   "cell_type": "code",
   "execution_count": 20,
   "metadata": {},
   "outputs": [
    {
     "data": {
      "text/plain": [
       "['Deja de mentirte (ah)',\n",
       " 'La foto que subiste con él diciendo que era tu cielo',\n",
       " \"Bebé, yo te conozco tan bien, sé que fue pa' darme celos\",\n",
       " 'No te diré quién, pero llorando por mí te vieron',\n",
       " 'Por mí te vieron',\n",
       " 'Déjame decirte',\n",
       " 'Se ve que él te trata bien, que es todo un caballero',\n",
       " 'Pero eso no cambiará que yo llegué primero',\n",
       " 'Sé que te va ir bien pero no te quiere como yo te quiero',\n",
       " \"Puede que no te haga falta na', aparentemente na'\",\n",
       " 'Hawái de vacaciones, mis felicitaciones',\n",
       " 'Muy lindo en Instagram lo que posteas',\n",
       " \"Pa' que yo vea cómo te va, pa' que yo vea\",\n",
       " \"Puede que no te haga falta na', aparentemente na'\",\n",
       " 'Hawái de vacaciones, mis felicitaciones',\n",
       " 'Muy lindo en Instagram lo que posteas',\n",
       " \"Pa' que yo vea como te va de bien, pero te haces mal\",\n",
       " \"Porque el amor no se compra na'\",\n",
       " \"Miéntele a todos tus seguidore'\",\n",
       " \"Dile que los tiempo' de ahora son mejore'\",\n",
       " 'No creo que cuando te llame me ignores',\n",
       " 'Si después de mí ya no habrán más amores',\n",
       " \"Tú y yo fuimo' uno\",\n",
       " \"Lo hacíamo' en ayuna' antes del desayuno\",\n",
       " \"Fumábamo' la hookah y te pasaba el humo\",\n",
       " 'Y ahora en esta guerra no gana ninguno',\n",
       " 'Si me preguntas, nadie tiene culpa',\n",
       " \"A vece' los problemas a uno se le juntan\",\n",
       " 'Déjame hablar, porfa, no me interrumpas',\n",
       " 'Si te hice algo malo, entonces discúlpame',\n",
       " 'La gente te lo va a creer, actúas bien ese papel',\n",
       " 'Baby, pero no eres feliz con él',\n",
       " \"Puede que no te haga falta na', aparentemente na'\",\n",
       " 'Hawái de vacaciones, mis felicitaciones',\n",
       " 'Muy lindo en Instagram lo que posteas',\n",
       " \"Pa' que yo vea cómo te va, pa' que yo vea\",\n",
       " \"Puede que no te haga falta na', aparentemente na'\",\n",
       " 'Hawái de vacaciones, mis felicitaciones',\n",
       " 'Muy lindo en Instagram lo que posteas',\n",
       " \"Pa' que yo vea como te va de bien, pero te haces mal\",\n",
       " \"Porque el amor no se compra na'\",\n",
       " '']"
      ]
     },
     "execution_count": 20,
     "metadata": {},
     "output_type": "execute_result"
    }
   ],
   "source": [
    "re.split(r'\\n',maluma)"
   ]
  },
  {
   "cell_type": "code",
   "execution_count": 21,
   "metadata": {},
   "outputs": [
    {
     "data": {
      "text/plain": [
       "['5 u 7']"
      ]
     },
     "execution_count": 21,
     "metadata": {},
     "output_type": "execute_result"
    }
   ],
   "source": [
    "# Extrayendo dígitos\n",
    "\n",
    "ejemplo = 'Entre el 5 u 7% de los estudiantes presenta la tarea'\n",
    "re.findall(r\"\\d+ u \\d\",ejemplo)"
   ]
  },
  {
   "cell_type": "markdown",
   "metadata": {},
   "source": [
    "Para extraer palabras se trabaja con ```\\w```\n"
   ]
  },
  {
   "cell_type": "code",
   "execution_count": 22,
   "metadata": {},
   "outputs": [
    {
     "data": {
      "text/plain": [
       "['Esto', 'es', 'una', 'palabra', 'palabra', 'esto', 'no', '12345']"
      ]
     },
     "execution_count": 22,
     "metadata": {},
     "output_type": "execute_result"
    }
   ],
   "source": [
    "ejemplo_2 = \"Esto es una palabra:palabra, esto no : 12345\"\n",
    "re.findall(r\"\\w+\",ejemplo_2)"
   ]
  },
  {
   "cell_type": "code",
   "execution_count": 23,
   "metadata": {},
   "outputs": [
    {
     "data": {
      "text/plain": [
       "['los 80s']"
      ]
     },
     "execution_count": 23,
     "metadata": {},
     "output_type": "execute_result"
    }
   ],
   "source": [
    "## Encontrando fragmentos\n",
    "ejemplo_3 = \"La música moderna no se compara con la de los 80s y 90s\"\n",
    "re.findall(r\"los\\s\\d+s\",ejemplo_3)"
   ]
  },
  {
   "cell_type": "code",
   "execution_count": 24,
   "metadata": {},
   "outputs": [
    {
     "data": {
      "text/plain": [
       "[' 80s', ' 90s']"
      ]
     },
     "execution_count": 24,
     "metadata": {},
     "output_type": "execute_result"
    }
   ],
   "source": [
    "## Otra forma de hacerlo\n",
    "re.findall(r\"\\s\\d+s\",ejemplo_3)"
   ]
  },
  {
   "cell_type": "code",
   "execution_count": 25,
   "metadata": {},
   "outputs": [
    {
     "data": {
      "text/plain": [
       "[' 90s']"
      ]
     },
     "execution_count": 25,
     "metadata": {},
     "output_type": "execute_result"
    }
   ],
   "source": [
    "re.findall(r\"\\s\\d+s$\",ejemplo_3)"
   ]
  },
  {
   "cell_type": "code",
   "execution_count": 26,
   "metadata": {},
   "outputs": [
    {
     "data": {
      "text/plain": [
       "[' 80s', ' 90s']"
      ]
     },
     "execution_count": 26,
     "metadata": {},
     "output_type": "execute_result"
    }
   ],
   "source": [
    "re.findall(r\"\\s\\d+s\",ejemplo_3)"
   ]
  },
  {
   "cell_type": "code",
   "execution_count": 27,
   "metadata": {},
   "outputs": [
    {
     "data": {
      "text/plain": [
       "'La m sica moderna no se compara con la de los   s y   s'"
      ]
     },
     "execution_count": 27,
     "metadata": {},
     "output_type": "execute_result"
    }
   ],
   "source": [
    "re.sub(r\"[^a-zA-Z]\",\" \", ejemplo_3)"
   ]
  },
  {
   "cell_type": "code",
   "execution_count": 28,
   "metadata": {},
   "outputs": [
    {
     "data": {
      "text/plain": [
       "[('1', 'es'), ('2', 'tiene')]"
      ]
     },
     "execution_count": 28,
     "metadata": {},
     "output_type": "execute_result"
    }
   ],
   "source": [
    "## combinando las extracciones \n",
    "\n",
    "ejemplo_4 = \" Si 1 es un valor único , 2 tiene que ver con varios valores únicos\"\n",
    "re.findall(r\"(\\d)+\\s(es|tiene)\",ejemplo_4)"
   ]
  },
  {
   "cell_type": "markdown",
   "metadata": {},
   "source": [
    "![](https://i.stack.imgur.com/KiaKd.png)"
   ]
  }
 ],
 "metadata": {
  "interpreter": {
   "hash": "413147cdeddba8fddcc983a2914d7c8c1876ded10a238884a638b4dc920e3ef2"
  },
  "kernelspec": {
   "display_name": "Python 3.7.10 64-bit (conda)",
   "language": "python",
   "name": "python3"
  },
  "language_info": {
   "codemirror_mode": {
    "name": "ipython",
    "version": 3
   },
   "file_extension": ".py",
   "mimetype": "text/x-python",
   "name": "python",
   "nbconvert_exporter": "python",
   "pygments_lexer": "ipython3",
   "version": "3.7.10"
  },
  "orig_nbformat": 4
 },
 "nbformat": 4,
 "nbformat_minor": 2
}

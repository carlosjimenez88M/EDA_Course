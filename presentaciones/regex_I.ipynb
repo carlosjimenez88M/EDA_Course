{
 "cells": [
  {
   "cell_type": "markdown",
   "metadata": {},
   "source": [
    "## Introducción a las expresiones regulares\n",
    "### Universidad Nacional de Colombia\n",
    "* Profesor Principal: [Daniel Jiménez](https://www.danieljimenezm.com/)\n",
    "* Profesor Adjunto : [Daniel Cordoba](https://www.linkedin.com/in/alejandrocordobap/)\n",
    "\n",
    "__Objetivo:__ Introducir al participante del curso en el uso de expresiones regulares, con el objetivo de poder limpiar, tratar y manipular datos de la manera más eficiente y basados en las mejores practicas."
   ]
  },
  {
   "cell_type": "markdown",
   "metadata": {},
   "source": [
    "## Expresiones Regulares\n",
    "\n",
    "|Referencia|Link|\n",
    "|----------|----|\n",
    "|Documentación|[![Open Tutorial](https://img.shields.io/badge/tutorial-3670A0?style=for-the-badge&logo=python&logoColor=ffdd54)](https://www.tutorialspoint.com/python/python_reg_expressions.htm)|\n",
    "|Librería|[![Open library](https://img.shields.io/badge/Open%20in%20library-3670A0?style=for-the-badge&logo=python&logoColor=ffdd54)](https://docs.python.org/3/library/re.html)| \n",
    "|Ejemplo|[![Open in Youtube](https://img.shields.io/static/v1?label=&message=Open%20in%20youtube&labelColor=red&color=blue&logo=youtube)](https://www.youtube.com/watch?v=K8L6KVGG-7o)|"
   ]
  },
  {
   "cell_type": "code",
   "execution_count": 25,
   "metadata": {},
   "outputs": [
    {
     "name": "stdout",
     "output_type": "stream",
     "text": [
      "['autosuperación', 'autosuperación']\n"
     ]
    }
   ],
   "source": [
    "import re \n",
    "\n",
    "txt = \"La autosuperación de moral por veracidad, la autosuperación del moralista en su antítesis, es lo que significa en mi boca el nombre Zaratustra.\"\n",
    "x = re.findall(\"autosuperación\", txt)\n",
    "print(x)"
   ]
  },
  {
   "cell_type": "code",
   "execution_count": 42,
   "metadata": {},
   "outputs": [
    {
     "data": {
      "text/plain": [
       "' autosuperación de moral por veracidad,'"
      ]
     },
     "execution_count": 42,
     "metadata": {},
     "output_type": "execute_result"
    }
   ],
   "source": [
    "txt = \"La autosuperación de moral por veracidad, la autosuperación del moralista en su antítesis, es lo que significa en mi boca el nombre Zaratustra.\"\n",
    "re.search(r'.autosuperación(.*?),', txt).group(0)"
   ]
  },
  {
   "cell_type": "code",
   "execution_count": 86,
   "metadata": {},
   "outputs": [
    {
     "name": "stdout",
     "output_type": "stream",
     "text": [
      "[' de moral por veracidad', ' del moralista en su antítesis']\n"
     ]
    }
   ],
   "source": [
    "txt = \"La autosuperación de moral por veracidad, la autosuperación del moralista en su antítesis, es lo que significa en mi boca el nombre Zaratustra.\"\n",
    "\n",
    "mo = re.findall(\"autosuperación(.*?),\", txt)\n",
    "print(mo)"
   ]
  },
  {
   "cell_type": "code",
   "execution_count": null,
   "metadata": {},
   "outputs": [],
   "source": []
  }
 ],
 "metadata": {
  "interpreter": {
   "hash": "413147cdeddba8fddcc983a2914d7c8c1876ded10a238884a638b4dc920e3ef2"
  },
  "kernelspec": {
   "display_name": "Python 3.7.10 64-bit (conda)",
   "language": "python",
   "name": "python3"
  },
  "language_info": {
   "codemirror_mode": {
    "name": "ipython",
    "version": 3
   },
   "file_extension": ".py",
   "mimetype": "text/x-python",
   "name": "python",
   "nbconvert_exporter": "python",
   "pygments_lexer": "ipython3",
   "version": "3.7.10"
  },
  "orig_nbformat": 4
 },
 "nbformat": 4,
 "nbformat_minor": 2
}
